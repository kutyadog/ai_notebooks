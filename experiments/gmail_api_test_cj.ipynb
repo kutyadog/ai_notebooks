{
  "nbformat": 4,
  "nbformat_minor": 0,
  "metadata": {
    "colab": {
      "provenance": [],
      "authorship_tag": "ABX9TyPQ5LZSmY5lQYuGZ8m1OGfR",
      "include_colab_link": true
    },
    "kernelspec": {
      "name": "python3",
      "display_name": "Python 3"
    },
    "language_info": {
      "name": "python"
    }
  },
  "cells": [
    {
      "cell_type": "markdown",
      "metadata": {
        "id": "view-in-github",
        "colab_type": "text"
      },
      "source": [
        "<a href=\"https://colab.research.google.com/github/kutyadog/ai_notebooks/blob/main/gmail_api_test_cj.ipynb\" target=\"_parent\"><img src=\"https://colab.research.google.com/assets/colab-badge.svg\" alt=\"Open In Colab\"/></a>"
      ]
    },
    {
      "cell_type": "markdown",
      "source": [
        "Created Aug 27, 2024"
      ],
      "metadata": {
        "id": "SEtHNpShiPLu"
      }
    },
    {
      "cell_type": "markdown",
      "source": [
        "To get this to work i first went to\n",
        "https://console.cloud.google.com/apis/dashboard\n",
        "\n",
        "Make sure under Enable APIs and Services you have GMAIL API\n",
        "\n",
        "In Credentials, click Create Credentials -> API KEYS\n",
        "*   Then Edit that api key (3 dots)\n",
        "*   API Restrictions, choose Gmail\n",
        "\n",
        "Create Credentials -> Oauth Client ID\n",
        "*   Application type: Desktop app (or whatever you need)\n",
        "*   Save\n",
        "*   Download oAuth client JSON, save as client_secret.json locally\n",
        "\n",
        "Oauth Consent Screen -> Under \"Test Users\" click \"ADDED USERS\"\n",
        "  "
      ],
      "metadata": {
        "id": "P1EohAtbvf_W"
      }
    },
    {
      "cell_type": "code",
      "source": [
        "!pip install openai\n",
        "!pip install simplegmail\n"
      ],
      "metadata": {
        "id": "QNW5j7LZmCQd"
      },
      "execution_count": null,
      "outputs": []
    },
    {
      "cell_type": "code",
      "source": [
        "import os\n",
        "from google.colab import userdata\n",
        "\n",
        "os.environ[\"OPENAI_API_KEY\"] = userdata.get('OPENAI_API_KEY')\n",
        "\n",
        "gdrive_file_id = userdata.get('GDRIVE_GOOGLE_CLIENT_SECRET_KEY_GMAIL')\n",
        "\n",
        "# download GMAIL client secret from a google drive, or upload one into top directory\n",
        "!gdown {gdrive_file_id} -O client_secret.json\n",
        "\n"
      ],
      "metadata": {
        "id": "oWKDWCtjx2cc"
      },
      "execution_count": null,
      "outputs": []
    },
    {
      "cell_type": "code",
      "source": [
        "# @title Setup Gmail and gmail functions\n",
        "\n",
        "from simplegmail import Gmail\n",
        "from simplegmail.query import construct_query\n",
        "\n",
        "gmail = Gmail(noauth_local_webserver=True)\n",
        "# gmail.load_credentials('client_secret.json')\n",
        "\n",
        "def check_email(query):\n",
        "  labels = gmail.list_labels()\n",
        "  messages = gmail.get_messages(query=construct_query(query))\n",
        "  return messages"
      ],
      "metadata": {
        "id": "xqCIMSn8sAK-"
      },
      "execution_count": 11,
      "outputs": []
    },
    {
      "cell_type": "code",
      "source": [
        "# @title Check Email Now\n",
        "\n",
        "# Construct our two queries separately\n",
        "query_params_1 = {\n",
        "    \"newer_than\": (1, \"day\"),\n",
        "    \"in\": \"inbox\",\n",
        "    # sender=['john@doe.com', 'jane@doe.com'],\n",
        "    # \"exclude_sender\": ['groupupdates@facebookmail.com'],\n",
        "    \"category\": \"primary\",\n",
        "    # \"unread\": True,\n",
        "    # \"labels\":[[\"Finance\"], [\"Homework\", \"CS\"]]\n",
        "}\n",
        "\n",
        "messages = check_email(query_params_1)\n",
        "\n",
        "for message in messages:\n",
        "    print(\"-----\" + message.subject)\n",
        "    print(\"Preview: \" + message.snippet)\n",
        "    # print(\"Date: \" + str(message.date))\n",
        "    # print(\"Sender: \" + str(message.sender))\n"
      ],
      "metadata": {
        "id": "yjo6OOU17kwi"
      },
      "execution_count": null,
      "outputs": []
    },
    {
      "cell_type": "code",
      "source": [
        "messages[0].plain"
      ],
      "metadata": {
        "id": "tENCwWIYyIzB",
        "colab": {
          "base_uri": "https://localhost:8080/",
          "height": 87
        },
        "outputId": "15098f55-b3ab-4b19-ae0d-8a85a1109223"
      },
      "execution_count": 13,
      "outputs": [
        {
          "output_type": "execute_result",
          "data": {
            "text/plain": [
              "'Big AI release, JavaScript updates, and new browser features\\r\\n\\r\\nHi Chris,\\r\\n\\r\\nHappy Friday! We’re back with *Frontend to Fullstack Monthly #28* , bringing you the most important updates, tutorials, and standout projects shaping web development this August.\\r\\n\\r\\n------------\\r\\nNews updates\\r\\n------------\\r\\n\\r\\n🤖 OpenAI has released GPT-5 ( https://openai.com/index/introducing-gpt-5/ ) , said to be their \" best model yet for coding and agentic tasks \" — you can see the developer-oriented intro here ( https://openai.com/index/introducing-gpt-5-for-developers/ ).\\r\\n\\r\\nHow best to create masonry layouts in CSS has been a point of debate for a good while now, but there\\'s still plenty of positive momentum towards making it a reality. In fact, you can currently test things as they stand in both Chrome and Edge ( https://developer.chrome.com/blog/masonry-update ) , with feedback on the approach being sought.\\r\\n\\r\\nRachel Andrew has shared an update on recent additions to the web platform ( https://web.dev/blog/web-platform-07-2025?hl=en ) , which are notably 🦊 Firefox-focused this month.\\r\\n\\r\\nThe results from Stack Overflow\\'s annual developer survey are now live ( https://survey.stackoverflow.co/2025 ) , with findings on a ton of technologies including a new focus on AI agent tools and LLMs.\\r\\n\\r\\nCloudflare are experimenting with a new service which allows AI crawlers to go over a site in exchange for compensation ( https://blog.cloudflare.com/introducing-pay-per-crawl/ ).\\r\\n\\r\\n🎉 MDN has been with us for 20 years ( https://developer.mozilla.org/en-US/blog/mdn-turns-20/ ) , providing valuable documentation on thousands of web features.\\r\\n\\r\\nThe Open Web Advocacy group noted that, despite EU DMA rules, Apple\\'s technical restrictions are still blocking other browser vendors ( https://open-web-advocacy.org/blog/apples-browser-engine-ban-persists-even-under-the-dma/ ) from successfully offering their own engines to EU users.\\r\\n\\r\\n✨ Recent releases: TypeScript 5.9 ( https://devblogs.microsoft.com/typescript/announcing-typescript-5-9/ ) , Ghost 6.0 ( https://ghost.org/6/ ) , Ionic 8.7 ( https://ionic.io/blog/announcing-ionic-8-7 ) , Storybook 9.1 ( https://github.com/storybookjs/storybook/releases/tag/v9.1.0 ) , Astro 5.12 ( https://astro.build/blog/astro-5120/ ).\\r\\n\\r\\n----------------------\\r\\nTutorials and Articles\\r\\n----------------------\\r\\n\\r\\nJosh Comeau has penned an excellent, must-read introduction to all things SVG ( https://www.joshwcomeau.com/svg/friendly-introduction-to-svg/ ). Well worth a read, with plenty of great examples.\\r\\n\\r\\nJono Alderson argues that native CSS transitions have quietly killed the strongest argument for client-side routing, and suggests that it\\'s now time for modern CSS to kill the SPA ( https://www.jonoalderson.com/conjecture/its-time-for-modern-css-to-kill-the-spa/ ).\\r\\n\\r\\nThere have been a lot of JavaScript runtimes and engines ( https://buttondown.com/whatever_jamie/archive/the-many-many-many-javascript-runtimes-of-the-last-decade/ ) over the years. This article takes us on an educational journey through many of them.\\r\\n\\r\\nIs responsive video easy now? Koos Looijesteijn explains just how to approach it in 2025 ( https://www.kooslooijesteijn.net/blog/responsive-video-easy ). Handy if you don\\'t want to lean on Vimeo or YouTube say.\\r\\n\\r\\nMatt Pocock goes through every single step you need to take to publish a package to npm ( https://www.totaltypescript.com/how-to-create-an-npm-package ). A detailed resource.\\r\\n\\r\\nJavaScript’s native date parsing features can be rather arcane and quickly cause surprises if you step off the beaten track. While we await the broad availability of the Temporal API, why not put your assumptions and knowledge to the test with this surprisingly educational JavaScript date quiz? ( https://jsdate.wtf/ )\\r\\n\\r\\nAn epic write-up from Corbin Crutchley here, sharing the history of React — told in code ( https://playfulprogramming.com/posts/react-history-through-code ).\\r\\n\\r\\nDaniel Ehrenberg, of the TC39 committee, digs into the matter of WebAssembly being able to directly access the DOM, the current glue code solution, and whether that\\'s going to change ( https://queue.acm.org/detail.cfm?id=3746174 ).\\r\\n\\r\\n------------------------\\r\\nFrontend Masters Courses\\r\\n------------------------\\r\\n\\r\\n🚀 New and noteworthy from the Frontend Masters library:\\r\\n\\r\\n* State Management at Scale in React & Next.js ( https://frontendmasters.com/courses/react-nextjs-state/?utm_source=email&utm_medium=newsletter&utm_campaign=fefs28 ) – Solve challenging state management problems and build applications that reliably scale with your team. Recognize anti-patterns and learn complex state optimizations with data normalization, form data, and reducers. Leverage event-driven approaches, advanced use cases with URL parameters, and syncing external data stores. by XState creator David Khourshid\\r\\n* Intermediate Vue ( https://frontendmasters.com/courses/intermediate-vue/?utm_source=email&utm_medium=newsletter&utm_campaign=fefs28 ) – Master Vue 3\\'s Composition API, transparent components, and scoped slots. Create composables, implement file-based routing, and use Pinia to solve state management challenges. Leverage Vue 3\\'s improved developer experience and gain the skills to take the lead on your next Vue project. by core Vue team member Ben Hong\\r\\n* Enterprise Java with Spring Boot ( https://frontendmasters.com/courses/spring-boot/?utm_source=email&utm_medium=newsletter&utm_campaign=fefs28 ) – Learn how the world’s leading companies build Java applications. Start by rapid prototyping with start.spring.io and build up to production-ready Spring backends. by Java Champion Josh Long\\r\\n* Tailwind CSS 4 ( https://frontendmasters.com/courses/tailwind-css-v2/?utm_source=email&utm_medium=newsletter&utm_campaign=fefs28 ) – Learn Tailwind CSS\\'s utility-first approach for responsive and customizable web designs. Master themes, layers, responsive breakpoints, dark mode, and more to create maintainable user interfaces. by Steve Kinney\\r\\n\\r\\n*📅 Fall Workshops – RSVP Now*\\r\\n\\r\\nOur expert-led Fall 2025 workshops ( https://frontendmasters.com/workshops/?utm_source=email&utm_medium=newsletter&utm_campaign=fefs28 ) are starting up! Join us live online or in person for deep dives into AI, React, JavaScript, CSS, and more.\\r\\n\\r\\nUpcoming highlights:\\r\\n\\r\\n* Aug 13–14 – *API Design in Node.js, v5* with Scott Moss (Netflix)\\r\\n* Aug 19 – *Complete Intro to MCP* with Brian Holt (Databricks)\\r\\n* Aug 26–27 – *TypeScript: From First Steps to Professional* with Anjana Vakil\\r\\n* Oct 7 – *Practical Prompt Engineering for Developers* with Sabrina Goldfarb (GitHub)\\r\\n* Oct 21-22 – *Modern CSS Fundamentals* with Kevin Powell\\r\\n* Oct 29–30 – *Build a Fullstack Next.js App, v4* with Brian Holt\\r\\n* Nov 6–7 – *Fullstack System Design* with Jem Young (Netflix)\\r\\n* Nov 18 – *Award-Winning Marketing Websites* with Matias Gonzalez\\r\\n* Dec 9 – *Intermediate Angular* with Mark Techson\\r\\n* Dec 11-12 – *Claude Code & Advanced MCP* with Elie Schoppik (Anthropic)\\r\\n\\r\\nSee the full 2025 workshop schedule ( https://frontendmasters.com/workshops/?utm_source=email&utm_medium=newsletter&utm_campaign=fefs28 ) for all topics and dates.\\r\\n\\r\\n------------\\r\\nBlog Updates\\r\\n------------\\r\\n\\r\\nSay you want the <figcaption> of an image to wrap at the width of the image. Doesn\\'t sound like a hard problem, does it? The answer ends up being rather tidy ( https://frontendmasters.com/blog/the-figcaption-problem/ ) , but it\\'s not particularly inutitive and involves a sizing keyword you aren\\'t likely to use often. It is essentially figure { inline-size: fit-content; }. That\\'s using a logical property for the width, which is something you probably should just do all the time. ( https://frontendmasters.com/blog/should-we-never-use-non-logical-properties/ ) CSS can be awfully powerful, but you don\\'t usually think of it as affecting outcome of a button click (which is normally JavaScript territory). But Preethi has an interesting idea of doing just that, where a button behaves differently ( https://frontendmasters.com/blog/adaptive-alerts-a-css-scroll-state-use-case/ ) depending on if you\\'ve \"scrolled to the bottom\" or not.\\r\\n\\r\\nZustand ( https://github.com/pmndrs/zustand ) is a state management library for React that\\'s been around a few years, but that doesn\\'t mean everyone knows about it. Never underestimate the power of a great introductory article ( https://frontendmasters.com/blog/introducing-zustand/ ) to help that along, like Adam Rackis did here. It turned into the most popular article of the month. Adam also helped shed some light on the satisfies keyword in TypeScript ( https://frontendmasters.com/blog/satisfies-in-typescript/ ).\\r\\n\\r\\nWe always manage to showcase a bit of CSS trickery and July had plenty of it! This customized select menu ( https://frontendmasters.com/blog/custom-select-that-comes-up-from-the-bottom-on-mobile/ ) is full of cutting edge CSS. This list re-orders itself ( https://frontendmasters.com/blog/view-transition-list-reordering-with-a-kick-flip/ ) quite excitedly, and teaches us a valuable lesson about View Transitions: you get a good amount of animation for free, but you can still sprinkle on as much control as you want. We also learned how the transform property of CSS takes essentially an unlimited number of transforms that all \"stack\" on top of each other ( https://frontendmasters.com/blog/stacked-transforms/ ) , and looked at examples of Liquid Glass ( https://frontendmasters.com/blog/liquid-glass-on-the-web/ ) coming to the web. Temani Afif make a marquee-like infinite logo slider ( https://frontendmasters.com/blog/infinite-marquee-animation-using-modern-css/ ) in a handful of lines of ultra-modern CSS and Ana Tudor magically calculated how many columns get auto-generated in grid ( https://frontendmasters.com/blog/count-auto-fill-columns/ ) , which opens up more design possibilities than you may think at first.\\r\\n\\r\\n---------------\\r\\nUseful projects\\r\\n---------------\\r\\n\\r\\nes-toolkit ( https://es-toolkit.dev/ ) is a modern JavaScript utility library, used by projects including Storybook, Recharts, and Ink, that now provides 100% \\'drop-in\\' compatibility with Lodash.\\r\\n\\r\\nWant to add search functionality to a static site? This solution ( https://github.com/craigbuckler/staticsearch ) relies on JavaScript along with data stored as JSON, so there’s zero server tech needed.\\r\\n\\r\\nThis HTML form inspector ( https://polypane.app/form-inspector/ ) from Polypane is handy — just paste in your HTML and it shares an overview of its structure and fields, highlighting any issues.\\r\\n\\r\\nThis browser based tool ( https://visualcss.com ) lets you input any URL and then visually tweak the CSS of any webpage.\\r\\n\\r\\nPaste your CSS gradient code into this site and the tool will generate the Tailwind-compatible version ( https://www.fronti.tech ). Converts linear, radial, and conic gradients.\\r\\n\\r\\n-------------\\r\\n...and finally\\r\\n-------------\\r\\n\\r\\nEver been curious about what goes into creating a humble text editor? What may seem like a simple enough task has plenty of complexity to consider. Dr Steve Bagley runs us through the thinking ( https://www.youtube.com/watch?v=g2hiVp6oPZc ).\\r\\n\\r\\nGot a link, tutorial, or project we should feature? Hit reply and share it with us.\\r\\n--\\r\\nMarc Grabanski\\r\\nCEO & UI Developer\\r\\nFrontend Masters\\r\\n\\r\\n📲 Take Frontend Masters courses on your phone or tablet using our iOS ( https://apps.apple.com/app/frontend-masters/id1383780486 ) and Android ( https://play.google.com/store/apps/details?id=in.mjg.frontendmasters.store&utm_source=frontendmasters_email ) apps – you can even download our courses to learn offline:\\r\\n\\r\\n( https://apps.apple.com/app/frontend-masters/id1383780486 )\\r\\n\\r\\n( https://play.google.com/store/apps/details?id=in.mjg.frontendmasters.store&utm_source=frontendmasters_email )\\r\\n\\r\\nYou received this email because you signed up for Frontend Masters and care about advancing your development skills. If you\\'re no longer interested in updates, you can update your preferences ( https://url6566.frontendmasters.com/asm/?user_id=7805020&data=Wv7iT_ZXsIU2ZqR5OLjA9nJfouBq4Ir8iHsFABl6xPVoMDAwdTAwMGqk8EDLpiUHzE7KynzpGQiYro3Lq3ALS0x1iFE9g0uLcg6nHkH2E378rRVIoPw-EV6bn9Jq8G1TRPLJN_0qJ0GfLwN6afqPVh9xtMtgtloV1txtZWkT2E9KHG8gYcQNJop9X9KGLeCbLylpQEpj2Yw58hBVtIMDh3xDQOIOaBAYausIzF5JM0_ThibdcfNyH8lpJEw3CaG1QGYSl_5nGRe5olO_aG5-UESV1xWa76GNx1XBWgTratE4v925rMoqWidvuemK6NRHk_I6_Gze-RxF2eixVwrMGSbtFpaqyjPPQWbjmGBSbREaAzqwV4JyMgox5U5NY_6fia7RxmnoRQd6miE4d_JefTXkKGR1A6RhNyfX-reyw7iX7GQTgmNsrRnEYyDV0Stbrmmxj5ReeTfNvyE0kW9pFcbrknkquTnH3uuGaM_-c_R0KURWSuryF3qpjWeKhQF4RcfgGis9pALrHuVWAba_qgNw0hTigtiJFKQnEPB1VLIuDOwlgquONiIfFwX6BbCur_XYlxrzsEgEJzBs4hQ4pH3DZjW5eOTD9TSvbNFP7NiELRhwn-OL-WsiBl-yTdhas8KMmDlNuonOaNDLje2u7EHf7M4Mx6ACklyz-xL9EzGx0BPYxyevZ6xxEGZ3xNhMIGnuKbt_0jKaOr-pe1rszw40ULQ8LeGPmvJh5MmkQf179rwetVxU9MHvJoXAzOzZJo4eWR6rmjoKDCndSNWr_kxDuwAmGgkN_g1pACl7NRngLLcfGdtPMz7X116_ry_c4QEJwizXfM1Xs05KDfckk9UsrFOc5dC6beP5HDWymfmxQP7xg3TSYt-cYNjrskZw05NqC3u66QeEyfkrIdwdVnDzm4XpSKeIbcDUn4qnX5o4o_dnqnWJzOVp7M6WJhAztmYX27FvgMIHndmh_z_eqr4_1GyTUY4hJqTFvMyoYeVwjOOcxoPWZq8MhoHZgUBEBwHLjwyuKm68VjxTqHQX2Sejg0yLmC9GkJC_WHIyY0R6RPS-yFbCfydUjoQb5ZbunBY_aarv-3ROsD9IDyLwT6LvvVXt3oeDa_8vdk1rubQ4-PXbY3XdRQ4x0x_u76y9n0_JhTzD1D5d5hxzMXeSVaTFVg33px0s ) or unsubscribe ( https://url6566.frontendmasters.com/asm/unsubscribe/?user_id=7805020&data=QIj7c-GNu5zzJM3JzGEw88WSY7BezdtQXhkuHTyqJXBoMDAwdTAwMKSLeQGIUjZakrhlZy8XOs-t9pRy2NzLEpR9tGJi0PHYs3oZKmY_pL7_PPvP8WUk6D7PGZiYEkxa-BULFfXBWAiDsNtmn3iC9vwg1epuXJW0oNN7Ta3c0LZnHsorAbKgHyk8qbe8j8mHvHKsJJ3SY6DStjo7TUfLYujOOun806oNf8hB7Sz6faP4h4z25l_mB3qXGRTLq4qWZDJ7sVohIfdIEk0TN03LATlyPwjUJ6keaIVu4-8nQ-_ZOL8-Yl0E9dMCUk8VxLg5rlDC0IoFurqvwcSJwWDSWb6qIdMzgo7wFESJV3gIphKUn4f-Ay6Wkvxl2lA6QSeqysTBdhDF0SWYRdJ8ZL9u1qB6SSwfbKH_VuL5Ie58RrrqPK9BGQhQbN_ofZPqudWVijzQ6y4a8lpsNqNjNP13gq-r5lZsU-V1jlZ5Pk8oc3NsW7wWc3ZA-Lz81xgpyygKwOQ3_9TRF0vM5ywRWhgNa_N38C-Xl5TxMbR-nqI7hguV3793G7hPPyPvT-PvIEQWxELDCbcGlPx8SNVXQ0wr23B770HD1O6ZwiWteu0HhZw5qdtFoIaIHk7DUfjMEEPN2TJNftqvLXvq6kPS72pz6I_aRtKEeb6Z2yqee2MnV3Fov0zZ4_MTbcyG3oqscbL8gtGgIFchXUmldu5RBzYN6AYH1aCJIBp0K3derbYVLn-WKiqBNIwxmHPrid0gKFSk0Zpn1Imz8rL_Y7Fio7seAp17f0gUqn58AHGGmUXG6GjzYDOrQzMvZo0gmPwC9KX5lhRshLUvUeiEKQPIAS85o0SpqTIcEZpO5OOn2knOGoKdTaJZT28MlzH_b4-PeCT5itaOW_SSw8oUnxQSzd5HftIW_h-JyMeWTmE9MgdJ1WtfH8j7I_3eHTRQuDt4q447Qmt5suRaAspotfQS8YsLxFuqz9E-6yGnaxpO-SJTAsnIPPr8fO208cbCmnOj0ELN6Hjg2i7XHrirBRD8OrxvaeHtQsfdOHSsMDKtVP8cxQ3kvy9MUr-plnBL68smch2hR2kRP4z0AfAZoRvwySfbG52sEfEn4F-LJASQfmVkcNIAUyfyUh4DHr8qqA-BhRKX0KJaFcvr_v7jlxEEbZ2MGoc7Ul9lk-X_nm7HFYd_GZWDhP4mb7edRA== ).\\r\\n\\r\\n*Your friends:* Frontend Masters, 60 South 6th St, Minneapolis MN 55402'"
            ],
            "application/vnd.google.colaboratory.intrinsic+json": {
              "type": "string"
            }
          },
          "metadata": {},
          "execution_count": 13
        }
      ]
    },
    {
      "cell_type": "code",
      "source": [
        "# @title openAi functions\n",
        "import openai\n",
        "\n",
        "def summarize_email(email_text):\n",
        "  response = openai.chat.completions.create(\n",
        "    model=\"gpt-4o\",\n",
        "    messages=[\n",
        "        {\"role\": \"system\", \"content\": \"You are a helpful assistant that summarizes emails into a TINY BULLETED LIST from the recipients point of view.\"},\n",
        "        {\"role\": \"user\", \"content\": f\"Please summarize the following email:\\n\\n{email_text}\"}\n",
        "    ],\n",
        "    max_tokens=1200,\n",
        "  )\n",
        "  # print(response.choices[0])\n",
        "  return response.choices[0].message.content\n",
        "  # return response['choices'][0]['message']['content']\n",
        "\n",
        "# for message in messages:\n",
        "#   summary = summarize_email(message.text)\n",
        "#   print(f\"Subject: {message.subject}\\nSummary: {summary}\\n\")\n",
        "\n"
      ],
      "metadata": {
        "id": "wiQ_gZB7yFp9"
      },
      "execution_count": null,
      "outputs": []
    },
    {
      "cell_type": "code",
      "source": [
        "summary = summarize_email(messages[0].plain)\n",
        "print(f\"Subject: {messages[0].subject}\\nSummary: {summary}\\n\")"
      ],
      "metadata": {
        "colab": {
          "base_uri": "https://localhost:8080/"
        },
        "id": "HT0gVcYH4RQm",
        "outputId": "4a3efae0-488e-4577-930f-9e75b0b3a150"
      },
      "execution_count": null,
      "outputs": [
        {
          "output_type": "stream",
          "name": "stdout",
          "text": [
            "Subject: Appt on Friday\n",
            "Summary: - Should I bring medical charts to my appointment on Friday?\n",
            "- Do I need to fill out any paperwork in advance? Did not receive any if required.\n",
            "- Freddy's contact: 502.909.0968\n",
            "\n"
          ]
        }
      ]
    },
    {
      "cell_type": "code",
      "source": [
        "# response = client.chat.completions.create(\n",
        "#   model=\"gpt-4o\",\n",
        "#   messages=[\n",
        "#         {\"role\": \"system\", \"content\": \"You are a helpful assistant that summarizes emails.\"},\n",
        "#         {\"role\": \"user\", \"content\": f\"Please summarize the following email:\\n\\n{email_text}\"}\n",
        "#     ],\n",
        "#   max_tokens=300,\n",
        "# )\n",
        "\n",
        "# print(response.choices[0])"
      ],
      "metadata": {
        "id": "Wj6MIVnSzCgl"
      },
      "execution_count": null,
      "outputs": []
    }
  ]
}