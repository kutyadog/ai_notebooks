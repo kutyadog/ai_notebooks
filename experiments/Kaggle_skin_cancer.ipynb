{
  "nbformat": 4,
  "nbformat_minor": 0,
  "metadata": {
    "colab": {
      "provenance": [],
      "collapsed_sections": [
        "iGLHuSxH4kdT",
        "KpJhQnuchPcj"
      ],
      "machine_shape": "hm",
      "gpuType": "T4",
      "authorship_tag": "ABX9TyO3pAEFRs3bOGGIegWRR5rb",
      "include_colab_link": true
    },
    "kernelspec": {
      "name": "python3",
      "display_name": "Python 3"
    },
    "language_info": {
      "name": "python"
    },
    "accelerator": "GPU"
  },
  "cells": [
    {
      "cell_type": "markdown",
      "metadata": {
        "id": "view-in-github",
        "colab_type": "text"
      },
      "source": [
        "<a href=\"https://colab.research.google.com/github/kutyadog/ai_notebooks/blob/main/Kaggle_skin_cancer.ipynb\" target=\"_parent\"><img src=\"https://colab.research.google.com/assets/colab-badge.svg\" alt=\"Open In Colab\"/></a>"
      ]
    },
    {
      "cell_type": "markdown",
      "source": [
        "My attempt at Kaggle competition for detecting skin cancer.\n",
        "I had mixed results.\n",
        "August 2024\n"
      ],
      "metadata": {
        "id": "df1_eZSPoEM5"
      }
    },
    {
      "cell_type": "markdown",
      "source": [
        "# Preparation"
      ],
      "metadata": {
        "id": "sC5dpABQp2M7"
      }
    },
    {
      "cell_type": "code",
      "source": [
        "from google.colab import userdata\n",
        "with open('kaggle.json', 'w') as f:\n",
        "        f.write(f'{{\"username\": \"{userdata.get(\"KAGGLE_USERNAME\")}\", \"key\": \"{userdata.get(\"KAGGLE_KEY\")}\"}}')"
      ],
      "metadata": {
        "id": "09PXpGg-IGCi"
      },
      "execution_count": null,
      "outputs": []
    },
    {
      "cell_type": "code",
      "execution_count": null,
      "metadata": {
        "colab": {
          "base_uri": "https://localhost:8080/"
        },
        "id": "rL4K6Mdajrf3",
        "outputId": "64d29c0d-e6ac-47fe-f40b-254d190a2cb1"
      },
      "outputs": [
        {
          "output_type": "stream",
          "name": "stdout",
          "text": [
            "Downloading isic-2024-challenge.zip to /content\n",
            "100% 2.00G/2.00G [01:09<00:00, 32.9MB/s]\n",
            "100% 2.00G/2.00G [01:09<00:00, 30.7MB/s]\n"
          ]
        }
      ],
      "source": [
        "!mkdir -p ~/.kaggle\n",
        "!cp kaggle.json ~/.kaggle/\n",
        "!chmod 600 ~/.kaggle/kaggle.json\n",
        "\n",
        "!kaggle competitions download -c isic-2024-challenge"
      ]
    },
    {
      "cell_type": "code",
      "source": [
        "!unzip /content/isic-2024-challenge.zip &> /dev/null\n",
        "\n",
        "# data_dir = '/content/train'"
      ],
      "metadata": {
        "id": "6u1rSB6Smbhr"
      },
      "execution_count": null,
      "outputs": []
    },
    {
      "cell_type": "code",
      "source": [
        "# @title load in training csv file\n",
        "\n",
        "import pandas as pd\n",
        "url = '/content/train-metadata.csv'\n",
        "df = pd.read_csv(url)"
      ],
      "metadata": {
        "colab": {
          "base_uri": "https://localhost:8080/"
        },
        "id": "Q-GzKj1Mp4l0",
        "outputId": "1cccc0f0-3fbf-46d3-89e3-d3aa7fad7343"
      },
      "execution_count": null,
      "outputs": [
        {
          "output_type": "stream",
          "name": "stderr",
          "text": [
            "<ipython-input-4-d4f6620089e9>:5: DtypeWarning: Columns (51,52) have mixed types. Specify dtype option on import or set low_memory=False.\n",
            "  df = pd.read_csv(url)\n"
          ]
        }
      ]
    },
    {
      "cell_type": "code",
      "source": [
        "# !pip install polars\n",
        "# import numpy as np, pandas as pd, polars as pl"
      ],
      "metadata": {
        "id": "ysAd-1iCuSdv"
      },
      "execution_count": null,
      "outputs": []
    },
    {
      "cell_type": "markdown",
      "source": [
        "# Prepare our new training data"
      ],
      "metadata": {
        "id": "Ck_d4x1G7vTY"
      }
    },
    {
      "cell_type": "code",
      "source": [
        "import numpy as np\n",
        "\n",
        "def get_new_train_df(limit):\n",
        "  # temp_df = df.dropna()\n",
        "  temp_df = df[['isic_id', 'target', 'age_approx', 'sex', 'anatom_site_general', 'clin_size_long_diam_mm', 'tbp_tile_type', 'tbp_lv_location_simple']].sample(n=limit)\n",
        "  temp_df = temp_df.dropna()\n",
        "  return temp_df\n",
        "\n",
        "# get 50% cancerous & 50% not for train data\n",
        "# def get_training_data_5050():\n",
        "#     # Calculate the minimum number of samples for each target value\n",
        "\n",
        "#     target_0 = df[df['target'] == 0].sample(n=500) # Sample n_samples from target 0\n",
        "#     target_1 = df[df['target'] == 1].sample(n=393) # Sample n_samples from target 1\n",
        "#     new_df = pd.concat([target_0, target_1])\n",
        "#     # pd.concat([df_a, df_b], ignore_index=True)\n",
        "#     new_df = new_df.dropna()\n",
        "#     return new_df\n",
        "\n",
        "def split_dataframe(df, num_rows=35):\n",
        "  # Randomly select indices for the new DataFrame\n",
        "  random_indices = np.random.choice(df.index, num_rows, replace=False)\n",
        "\n",
        "  # Create the new DataFrame\n",
        "  new_df = df.loc[random_indices]\n",
        "\n",
        "  # Delete the selected rows from the original DataFrame\n",
        "  df = df.drop(random_indices)\n",
        "\n",
        "  return df, new_df\n",
        "\n",
        "# Example usage\n",
        "# df, new_df = split_dataframe(df)\n",
        "\n",
        "def get_balanced_sample(df):\n",
        "  \"\"\"\n",
        "  This function takes a DataFrame and returns a new DataFrame with 350\n",
        "  random rows where 'target' is 1 and 350 random rows where 'target' is 0.\n",
        "\n",
        "  Args:\n",
        "    df: The input DataFrame.\n",
        "\n",
        "  Returns:\n",
        "    A new DataFrame with a balanced sample of target values.\n",
        "  \"\"\"\n",
        "\n",
        "  xKeeperList = ['isic_id', 'target', 'age_approx', 'sex', 'anatom_site_general', 'clin_size_long_diam_mm', 'tbp_tile_type', 'tbp_lv_location_simple']\n",
        "  # df[['isic_id', 'target', 'age_approx', 'sex', 'anatom_site_general', 'clin_size_long_diam_mm', 'tbp_tile_type', 'tbp_lv_location_simple']]\n",
        "  # new_df = df.loc[df['target'] == 1, ['isic_id', 'target', 'age_approx', 'sex', 'anatom_site_general', 'clin_size_long_diam_mm', 'tbp_tile_type', 'tbp_lv_location_simple']]\n",
        "  target_1 = df[df['target'] == 1][xKeeperList].sample(n=350)\n",
        "  target_0 = df[df['target'] == 0][xKeeperList].sample(n=350)\n",
        "\n",
        "  # df = df[xKeeperList]\n",
        "\n",
        "  print('Number of rows/images in the target_1:', len(target_1))\n",
        "\n",
        "  # Randomly select 35 indices\n",
        "  target_1, trainer_df = split_dataframe(target_1)\n",
        "  trainer_df = pd.concat([trainer_df, df[df['target'] == 0][xKeeperList].sample(n=200) ])\n",
        "  # target_0 =\n",
        "\n",
        "  # trainer_df = np.random.choice(target_1.index, 35, replace=True)\n",
        "  print('Number of rows/images in the target_1:', len(target_1))\n",
        "  print('Number of rows/images in the trainer_df:', len(trainer_df))\n",
        "\n",
        "  new_df = pd.concat([target_1, target_0])\n",
        "\n",
        "  return new_df.sample(frac=1), trainer_df  # Shuffle rows\n",
        "\n",
        "# new_df = get_new_train_df(5000)\n",
        "# print('Number of rows/images in the training dataset:', len(new_df))\n",
        "\n",
        "import shutil\n",
        "import os\n",
        "\n",
        "def copy_images(df, image_dir, output_dir):\n",
        "  for index, row in df.iterrows():\n",
        "    image_id = row['isic_id']\n",
        "    target = row['target']\n",
        "\n",
        "    src_path = os.path.join(image_dir, f'{image_id}.jpg')\n",
        "    dest_dir = os.path.join(output_dir, f'target_{target}')\n",
        "    os.makedirs(dest_dir, exist_ok = True)\n",
        "    dest_path = os.path.join(dest_dir, f'{image_id}.jpg')\n",
        "\n",
        "    shutil.copy(src_path, dest_path)\n"
      ],
      "metadata": {
        "id": "7kBVWYFQHnPc"
      },
      "execution_count": null,
      "outputs": []
    },
    {
      "cell_type": "code",
      "source": [
        "len(df[df['target'] == True])"
      ],
      "metadata": {
        "colab": {
          "base_uri": "https://localhost:8080/"
        },
        "id": "ytBYg02b_cr5",
        "outputId": "e98caebf-a92f-4ea5-d118-13613648e119"
      },
      "execution_count": null,
      "outputs": [
        {
          "output_type": "execute_result",
          "data": {
            "text/plain": [
              "393"
            ]
          },
          "metadata": {},
          "execution_count": 68
        }
      ]
    },
    {
      "cell_type": "code",
      "source": [
        "# DELETE cj-train DIRECTORY\n",
        "shutil.rmtree('/content/cj-train', ignore_errors=True)\n",
        "shutil.rmtree('/content/cj-test', ignore_errors=True)"
      ],
      "metadata": {
        "id": "lCrRI7Sa5gbv"
      },
      "execution_count": null,
      "outputs": []
    },
    {
      "cell_type": "code",
      "source": [
        "new_df, train_df = get_balanced_sample(df)\n",
        "print('Number of rows/images in the training dataset:', len(new_df))\n",
        "print('Number of rows/images in the testing dataset: train_df:', len(train_df))"
      ],
      "metadata": {
        "colab": {
          "base_uri": "https://localhost:8080/"
        },
        "id": "I_U5CkztzjSN",
        "outputId": "6fbb5551-a59e-45ee-df36-aa61f537aa66"
      },
      "execution_count": null,
      "outputs": [
        {
          "output_type": "stream",
          "name": "stdout",
          "text": [
            "Number of rows/images in the target_1: 350\n",
            "Number of rows/images in the target_1: 315\n",
            "Number of rows/images in the trainer_df: 235\n",
            "Number of rows/images in the training dataset: 665\n",
            "Number of rows/images in the testing dataset: train_df: 235\n"
          ]
        }
      ]
    },
    {
      "cell_type": "code",
      "source": [
        "# new_df.head(12)\n",
        "train_df.head(12)"
      ],
      "metadata": {
        "id": "Kz63Cxvq3Ad0"
      },
      "execution_count": null,
      "outputs": []
    },
    {
      "cell_type": "code",
      "source": [
        "# @title copy images from new_df into new test folder\n",
        "\n",
        "\n",
        "\n",
        "copy_images(new_df, '/content/train-image/image', '/content/cj-train')\n",
        "#copy testing images\n",
        "copy_images(train_df, '/content/train-image/image', '/content/cj-test')\n",
        "\n",
        "# shutil.rmtree('/content/cj-train', ignore_errors=True)"
      ],
      "metadata": {
        "id": "bMFI2r9DaquR"
      },
      "execution_count": null,
      "outputs": []
    },
    {
      "cell_type": "code",
      "source": [
        "# new_df['lesion_id'].value_counts()\n",
        "# new_df['lesion_id'].unique()\n",
        "# new_df[new_df['iddx_2'] == 'Malignant adnexal epithelial proliferations - Follicular'].iloc[:, :10]"
      ],
      "metadata": {
        "id": "aM0q4_vZ0F06"
      },
      "execution_count": null,
      "outputs": []
    },
    {
      "cell_type": "code",
      "source": [
        "# new_df['anatom_site_general'].unique()"
      ],
      "metadata": {
        "id": "ZbXXJfGH5j8l"
      },
      "execution_count": null,
      "outputs": []
    },
    {
      "cell_type": "code",
      "source": [
        "!pip install opencv-python==4.7.0.72"
      ],
      "metadata": {
        "id": "1Q-_OoEd8zwx"
      },
      "execution_count": null,
      "outputs": []
    },
    {
      "cell_type": "code",
      "source": [
        "import cv2\n",
        "\n",
        "def crop_image(image):\n",
        "    gray = cv2.cvtColor(image, cv2.COLOR_BGR2GRAY)\n",
        "    _, thresh = cv2.threshold(gray, 1, 255, cv2.THRESH_BINARY)\n",
        "    contours, _ = cv2.findContours(thresh, cv2.RETR_EXTERNAL, cv2.CHAIN_APPROX_SIMPLE)\n",
        "    if contours:\n",
        "        cnt = contours[0]\n",
        "        x, y, w, h = cv2.boundingRect(cnt)\n",
        "        crop = image[y:y+h, x:x+w]\n",
        "        resized_crop = cv2.resize(crop, (128, 128))\n",
        "        return resized_crop\n",
        "    else:\n",
        "        return image"
      ],
      "metadata": {
        "id": "oypFIKv28w1w"
      },
      "execution_count": null,
      "outputs": []
    },
    {
      "cell_type": "markdown",
      "source": [
        "OK Chris the above text gets me training and testing data... i think... going to test it now"
      ],
      "metadata": {
        "id": "5Jo152soDUxw"
      }
    },
    {
      "cell_type": "code",
      "source": [
        "# @title Standardize the data (every value between -1...1'sh)\n",
        "\n",
        "# this will create new columns for all values of\n",
        "# new_df = pd.get_dummies(new_df, columns=['anatom_site_general', 'tbp_tile_type', 'sex'])\n",
        "\n",
        "# Calculate the minimum and maximum of age\n",
        "ageMin = new_df['age_approx'].min()\n",
        "ageMax = new_df['age_approx'].max()\n",
        "# Normalize age to be between 0 and 1\n",
        "new_df['age_std'] = (new_df['age_approx'] - ageMin) / (ageMax - ageMin)\n",
        "\n",
        "# sizeMin = new_df['clin_size_long_diam_mm'].min()\n",
        "# sizeMax = new_df['clin_size_long_diam_mm'].max()\n",
        "# new_df['size_std'] = (new_df['clin_size_long_diam_mm'] - sizeMin) / (sizeMax - sizeMin)\n",
        "\n",
        "# # Print some info\n",
        "# new_df['age_std'].max()\n",
        "\n",
        "# new_df['age_std'] = new_df['age_approx'].squeeze(1)"
      ],
      "metadata": {
        "id": "YXdmq5sS6TuX"
      },
      "execution_count": null,
      "outputs": []
    },
    {
      "cell_type": "code",
      "source": [
        "new_df.head(2)"
      ],
      "metadata": {
        "id": "_RhazPXhnD3r"
      },
      "execution_count": null,
      "outputs": []
    },
    {
      "cell_type": "code",
      "source": [
        "new_df['target'].max()\n"
      ],
      "metadata": {
        "colab": {
          "base_uri": "https://localhost:8080/"
        },
        "id": "FOwdgWoUhWQV",
        "outputId": "302c1187-076a-40f5-f00d-77122cb04aab"
      },
      "execution_count": null,
      "outputs": [
        {
          "output_type": "execute_result",
          "data": {
            "text/plain": [
              "1"
            ]
          },
          "metadata": {},
          "execution_count": 33
        }
      ]
    },
    {
      "cell_type": "code",
      "source": [
        "new_df.iloc[4]"
      ],
      "metadata": {
        "id": "nx6UzEcwqq8K"
      },
      "execution_count": null,
      "outputs": []
    },
    {
      "cell_type": "markdown",
      "source": [
        "# Prep Build NN\n"
      ],
      "metadata": {
        "id": "iGLHuSxH4kdT"
      }
    },
    {
      "cell_type": "markdown",
      "source": [],
      "metadata": {
        "id": "lu7FyZGe57Xu"
      }
    },
    {
      "cell_type": "code",
      "source": [
        "# @title Prep\n",
        "\n",
        "# Import PyTorch libraries\n",
        "import torch\n",
        "import torch.nn as nn\n",
        "\n",
        "# Import visualization library\n",
        "import matplotlib.pyplot as plt\n",
        "\n",
        "# Verify PyTorch version\n",
        "torch.__version__\n",
        "\n",
        "\n",
        "# Check to see if we have a GPU to use for training\n",
        "device = 'cuda' if torch.cuda.is_available() else 'cpu'\n",
        "print('A {} device was detected.'.format(device))\n",
        "\n",
        "# Print the name of the cuda device, if detected\n",
        "if device=='cuda':\n",
        "    print (torch.cuda.get_device_name(device=device))"
      ],
      "metadata": {
        "colab": {
          "base_uri": "https://localhost:8080/"
        },
        "cellView": "form",
        "id": "drxf6aF34nJ2",
        "outputId": "aca95982-35c5-44f2-e854-2ad3264b4124"
      },
      "execution_count": null,
      "outputs": [
        {
          "output_type": "stream",
          "name": "stdout",
          "text": [
            "A cpu device was detected.\n"
          ]
        }
      ]
    },
    {
      "cell_type": "markdown",
      "source": [
        "Tests, turn image into tensor\n"
      ],
      "metadata": {
        "id": "A9B6C14TBaPn"
      }
    },
    {
      "cell_type": "code",
      "source": [
        "from __future__ import absolute_import, division, print_function, unicode_literals\n",
        "\n",
        "try:\n",
        "  # %tensorflow_version only exists in Colab.\n",
        "  %tensorflow_version 2.x\n",
        "except Exception:\n",
        "  pass\n",
        "import tensorflow as tf"
      ],
      "metadata": {
        "colab": {
          "base_uri": "https://localhost:8080/"
        },
        "id": "tx6CvC3tBcwM",
        "outputId": "40ac8ea0-5e76-4a3a-9893-9d1221e1eaa3"
      },
      "execution_count": null,
      "outputs": [
        {
          "output_type": "stream",
          "name": "stdout",
          "text": [
            "Colab only includes TensorFlow 2.x; %tensorflow_version has no effect.\n"
          ]
        }
      ]
    },
    {
      "cell_type": "code",
      "source": [
        "AUTOTUNE = tf.data.experimental.AUTOTUNE"
      ],
      "metadata": {
        "id": "ikJIGYjqBgEO"
      },
      "execution_count": null,
      "outputs": []
    },
    {
      "cell_type": "code",
      "source": [
        "def preprocess_image(image):\n",
        "  image = tf.image.decode_jpeg(image, channels=3)\n",
        "  image = tf.image.resize(image, [139, 139])\n",
        "  image /= 255.0  # normalize to [0,1] range\n",
        "\n",
        "  return image\n",
        "\n",
        "def load_and_preprocess_image(path):\n",
        "  image = tf.io.read_file(path)\n",
        "  return preprocess_image(image)"
      ],
      "metadata": {
        "id": "_lXqB2PdC3j0"
      },
      "execution_count": null,
      "outputs": []
    },
    {
      "cell_type": "markdown",
      "source": [
        "# pull code from NN image classifier"
      ],
      "metadata": {
        "id": "KpJhQnuchPcj"
      }
    },
    {
      "cell_type": "code",
      "source": [
        "import torch\n",
        "import torch.nn as nn\n",
        "import torch.nn.functional as F\n",
        "import torch.optim as optim\n",
        "import torchvision\n",
        "import matplotlib.pyplot as plt\n",
        "import numpy as np"
      ],
      "metadata": {
        "id": "BFrZIk3Phu6m"
      },
      "execution_count": null,
      "outputs": []
    },
    {
      "cell_type": "code",
      "source": [
        "import tensorflow as tf\n",
        "import pandas as pd\n",
        "\n",
        "def load_and_preprocess_image(path):\n",
        "  image = tf.io.read_file(path)\n",
        "  image = tf.image.decode_jpeg(image, channels=3)\n",
        "  image = tf.image.resize(image, [139, 139])\n",
        "  image /= 255.0  # normalize to [0,1] range\n",
        "  return image\n",
        "\n",
        "def add_image_tensor(df, image_dir):\n",
        "  df['image_tensor'] = df['isic_id'].apply(lambda x: load_and_preprocess_image(f'{image_dir}/{x}.jpg'))\n",
        "  return df\n",
        "\n",
        "new_df = add_image_tensor(new_df, '/content/train-image/image')"
      ],
      "metadata": {
        "id": "ieqLhok0j9gh"
      },
      "execution_count": null,
      "outputs": []
    },
    {
      "cell_type": "code",
      "source": [
        "from PIL import Image\n",
        "\n",
        "# new_df.head(2)\n",
        "# load_and_preprocess_image( new_df.iloc[4] )\n",
        "# new_df.iloc[4]['image_tensor'].shape\n",
        "test_object = new_df.iloc[4]\n",
        "# print(test_object)\n",
        "image_id = test_object['isic_id'] + '.jpg'\n",
        "image_path = f'/content/train-image/image/{image_id}'\n",
        "image = Image.open(image_path).convert('RGB')\n",
        "\n",
        "# age = torch.tensor(test_object['age_approx'], dtype=torch.float32)\n",
        "# size = torch.tensor(test_object['size_std'], dtype=torch.float32)\n",
        "# target = torch.tensor(test_object['target'], dtype=torch.float32)\n"
      ],
      "metadata": {
        "id": "sAJo7AEfSfJg"
      },
      "execution_count": null,
      "outputs": []
    },
    {
      "cell_type": "code",
      "source": [
        "inputs = ['image_tensor']\n",
        "# put inputs into pytorch tensor\n",
        "x = torch.tensor(new_df[inputs].values, dtype=torch.float, device=device)\n",
        "\n",
        "# Extract the outputs and create a PyTorch tensor y (outputs)\n",
        "outputs = ['target']\n",
        "y = torch.tensor(new_df[outputs].values,dtype=torch.float, device=device)\n",
        "\n",
        "# Explore the first 5 inputs\n",
        "x[0:5]"
      ],
      "metadata": {
        "id": "oEgcqEZTikiC"
      },
      "execution_count": null,
      "outputs": []
    },
    {
      "cell_type": "code",
      "source": [
        "class cj_NN(nn.Module):\n",
        "    def __init__(self):\n",
        "        super(cj_NN, self).__init__()\n",
        "        # ------ first define the layers\n",
        "\n",
        "        # first 784 input values, outputs 128 activation values\n",
        "        self.input = nn.Linear(139 * 139, 128)\n",
        "        # first hidden layer has 128 input nuerons, and communicates 64 activation values\n",
        "        self.hidden = nn.Linear(128, 64)\n",
        "        # output layer takes 64 activations and turns them into 10\n",
        "        self.output = nn.Linear(64, 1)\n",
        "\n",
        "    # each nn.Module needs a forward funciton whcih turns input to the network into output... input is x (2-dimensional array size 28x28)\n",
        "    def forward(self, x):\n",
        "        # first we flatten 2-d matrix into vector of length 784\n",
        "        x = x.view(-1, 139*139)\n",
        "        x = F.relu(self.input(x))\n",
        "        x = F.relu(self.hidden(x))\n",
        "        # feed the final 10 activations values into softmax to turn them into probabilities\n",
        "        x = F.log_softmax(self.output(x), dim=1)\n",
        "        return x\n",
        "\n",
        "model = cj_NN()"
      ],
      "metadata": {
        "id": "6ek0Nq-dhVhu"
      },
      "execution_count": null,
      "outputs": []
    },
    {
      "cell_type": "markdown",
      "source": [
        "# Go through what Gemini said to do"
      ],
      "metadata": {
        "id": "0wL3C64KGyp9"
      }
    },
    {
      "cell_type": "code",
      "source": [
        "# @title step 1\n",
        "\n",
        "from torch.utils.data import Dataset, DataLoader\n",
        "from torchvision import transforms\n",
        "from PIL import Image\n",
        "\n",
        "class CustomDataset(Dataset):\n",
        "  def __init__(self, df, image_dir, transform=None):\n",
        "    self.df = df\n",
        "    self.image_dir = image_dir\n",
        "    self.transform = transform\n",
        "\n",
        "  def __len__(self):\n",
        "    return len(self.df)\n",
        "\n",
        "  def __getitem__(self, idx):\n",
        "    row = self.df.iloc[idx]\n",
        "    image_id = row['isic_id'] + '.jpg'\n",
        "    image_path = f'{self.image_dir}/{image_id}'\n",
        "    image = Image.open(image_path).convert('RGB')\n",
        "    # age = torch.tensor(row['age_approx'], dtype=torch.float32)\n",
        "    # size = torch.tensor(row['size_std'], dtype=torch.float32)\n",
        "    target = torch.tensor(row['target'], dtype=torch.float32)\n",
        "    # new_df['age_approx'].squeeze(1)\n",
        "    if self.transform:\n",
        "      image = self.transform(image)\n",
        "\n",
        "    return image, age, target"
      ],
      "metadata": {
        "id": "7Ld74H58GXyy"
      },
      "execution_count": null,
      "outputs": []
    },
    {
      "cell_type": "code",
      "source": [
        "data_transform = transforms.Compose([\n",
        "    transforms.Resize((139, 139)),\n",
        "    transforms.ToTensor(),\n",
        "    transforms.Normalize(mean=[0.485, 0.456, 0.406], std=[0.229, 0.224, 0.225])\n",
        "])"
      ],
      "metadata": {
        "id": "IrZfEzbhGx5S"
      },
      "execution_count": null,
      "outputs": []
    },
    {
      "cell_type": "code",
      "source": [
        "train_dataset = CustomDataset(new_df, '/content/train-image/image', transform=data_transform)\n",
        "train_dataloader = DataLoader(train_dataset, batch_size=32, shuffle=True)"
      ],
      "metadata": {
        "id": "gbGZwy_mHDkO"
      },
      "execution_count": null,
      "outputs": []
    },
    {
      "cell_type": "code",
      "source": [
        "class MyModel(nn.Module):\n",
        "  def __init__(self):\n",
        "    super(MyModel, self).__init__()\n",
        "    self.features = nn.Sequential(\n",
        "        nn.Conv2d(3, 64, kernel_size=3, stride=1, padding=1),\n",
        "        nn.ReLU(),\n",
        "        nn.MaxPool2d(kernel_size=2, stride=2),\n",
        "        # Add more layers as needed\n",
        "    )\n",
        "    # The input features should be 69*69*64 + 1 = 304705\n",
        "    self.fc1 = nn.Linear(69 * 69 * 64 + 1, 128)  # Add 1 for age\n",
        "    self.relu = nn.ReLU()\n",
        "    self.fc2 = nn.Linear(128, 1)\n",
        "    self.sigmoid = nn.Sigmoid()\n",
        "\n",
        "  def forward(self, image, age):\n",
        "    x = self.features(image)\n",
        "    x = x.view(x.size(0), -1)\n",
        "    x = torch.cat((x, age.unsqueeze(1)), dim=1) # Changed dim to 1 to match the number of dimensions in the age tensor after unsqueezing\n",
        "    x = self.fc1(x)\n",
        "    x = self.relu(x)\n",
        "    x = self.fc2(x)\n",
        "    x = self.sigmoid(x)\n",
        "    return x"
      ],
      "metadata": {
        "id": "-KHoyTHdJK4_"
      },
      "execution_count": null,
      "outputs": []
    },
    {
      "cell_type": "code",
      "source": [
        "# Instantiate the model\n",
        "model = MyModel().to(device)\n",
        "\n",
        "# Define the optimizer\n",
        "optimizer = torch.optim.Adam(model.parameters(), lr=0.001)\n",
        "\n",
        "# Define the loss function\n",
        "criterion = nn.BCELoss()\n",
        "\n"
      ],
      "metadata": {
        "id": "eky7tfRsJkyn"
      },
      "execution_count": null,
      "outputs": []
    },
    {
      "cell_type": "code",
      "source": [
        "# Training loop\n",
        "num_epochs = 5\n",
        "\n",
        "for epoch in range(num_epochs):\n",
        "  print(f'Epoch [{epoch+1}/{num_epochs}]')\n",
        "  for i, (image, age, target) in enumerate(train_dataloader):\n",
        "    print(f'Step [{i+1}/{len(train_dataloader)}]')\n",
        "    image = image.to(device)\n",
        "    age = age.to(device)\n",
        "    # size = size.to(device)\n",
        "    target = target.to(device)\n",
        "\n",
        "    # print( age )\n",
        "\n",
        "    # Forward pass\n",
        "    outputs = model(image, age)\n",
        "    loss = criterion(outputs, target.unsqueeze(1))\n",
        "\n",
        "    # Backward pass and optimization\n",
        "    optimizer.zero_grad()\n",
        "    loss.backward()\n",
        "    optimizer.step()\n",
        "\n",
        "    if (i+1) % 100 == 0:\n",
        "      print(f'Epoch [{epoch+1}/{num_epochs}], Step [{i+1}/{len(train_dataloader)}], Loss: {loss.item():.4f}')\n"
      ],
      "metadata": {
        "id": "NUZ-PEjkJqZC"
      },
      "execution_count": null,
      "outputs": []
    },
    {
      "cell_type": "code",
      "source": [
        "def view_classify(image, probabilities):\n",
        "    probabilities = probabilities.data.numpy().squeeze()\n",
        "\n",
        "    fig, (ax1, ax2) = plt.subplots(figsize=(6,9), ncols=2)\n",
        "    ax1.imshow(image.numpy().squeeze())\n",
        "    ax1.axis('off')\n",
        "    ax2.barh(np.arange(10), probabilities)\n",
        "    ax2.set_aspect(0.1)\n",
        "    ax2.set_yticks(np.arange(10))\n",
        "    ax2.set_yticklabels(np.arange(10))\n",
        "    ax2.set_title('Class Probability')\n",
        "    ax2.set_xlim(0, 1.1)\n",
        "    plt.tight_layout()"
      ],
      "metadata": {
        "id": "XfZz7zARuQ9y"
      },
      "execution_count": null,
      "outputs": []
    },
    {
      "cell_type": "code",
      "source": [
        "# now test a random image each time you run it\n",
        "\n",
        "import random\n",
        "\n",
        "# get a random index\n",
        "random_index = random.randint(0, len(new_df)-1)\n",
        "\n",
        "test_object = new_df.iloc[random_index]\n",
        "print(test_object)\n",
        "\n",
        "image_id = test_object['isic_id'] + '.jpg'\n",
        "image_path = f'/content/train-image/image/{image_id}'\n",
        "image = Image.open(image_path).convert('RGB')\n",
        "age = torch.tensor(test_object['age_approx'], dtype=torch.float32)\n",
        "# size = torch.tensor(test_object['size_std'], dtype=torch.float32)\n",
        "target = torch.tensor(test_object['target'], dtype=torch.float32)\n",
        "\n",
        "# get the image and label at that index\n",
        "# isic_id, age_std, target = new_df[random_index]\n",
        "\n",
        "print(age)\n",
        "image = image # add a batch dimension\n",
        "with torch.no_grad():\n",
        "    log_probabilities = model(image)\n",
        "\n",
        "probabilities = torch.exp(log_probabilities)\n",
        "view_classify(image.view(1, 28, 28), probabilities)"
      ],
      "metadata": {
        "id": "ZkFK8mX1olAk"
      },
      "execution_count": null,
      "outputs": []
    },
    {
      "cell_type": "code",
      "source": [],
      "metadata": {
        "id": "cVOC_V6nuP_0"
      },
      "execution_count": null,
      "outputs": []
    },
    {
      "cell_type": "markdown",
      "source": [
        "# My latest attempt, similar to first number routing... work here chris"
      ],
      "metadata": {
        "id": "_mUtwRZ4WGLP"
      }
    },
    {
      "cell_type": "code",
      "source": [
        "import torch\n",
        "import torch.nn as nn\n",
        "import torch.nn.functional as F\n",
        "import torch.optim as optim\n",
        "from torchvision import datasets, transforms\n",
        "from torch.utils.data import DataLoader\n",
        "import matplotlib.pyplot as plt\n",
        "import numpy as np\n",
        "\n",
        "xCustomSize = 128\n",
        "\n",
        "# transform = torchvision.transforms.Compose([\n",
        "#     torchvision.transforms.Resize((128, 128)),\n",
        "#     torchvision.transforms.ToTensor(),\n",
        "#     # torchvision.transforms.Normalize((0.5, 0.5, 0.5), (0.5, 0.5, 0.5))\n",
        "# ])\n",
        "\n",
        "# train_set = torchvision.datasets.ImageFolder(root='/content/cj-train', transform=transform)\n",
        "# test_set = torchvision.datasets.ImageFolder(root='/content/cj-test', transform=transform)\n",
        "\n",
        "# train_loader = torch.utils.data.DataLoader(train_set, batch_size=32, shuffle=True)\n",
        "# test_loader = torch.utils.data.DataLoader(test_set, batch_size=32, shuffle=True)\n",
        "\n",
        "data_transform = transforms.Compose([\n",
        "     transforms.Resize((128, 128)),\n",
        "     transforms.ToTensor(),\n",
        "     transforms.Lambda(lambda x: transforms.functional.adjust_contrast(x, contrast_factor=2))\n",
        "])\n",
        "\n",
        "train_set = datasets.ImageFolder(root='/content/cj-train', transform=data_transform)\n",
        "test_set = datasets.ImageFolder(root='/content/cj-test', transform=data_transform)\n",
        "\n",
        "train_loader = DataLoader(train_set, batch_size=1, shuffle=True)\n",
        "test_loader = DataLoader(test_set, batch_size=1, shuffle=True)\n",
        "\n",
        "\n",
        "\n",
        "# transform = torchvision.transforms.Compose([torchvision.transforms.ToTensor(), torchvision.transforms.Normalize((0.5,), (0.5,))])\n",
        "\n",
        "# # two sets of data, one for TRAINING, the other for TESTING\n",
        "# train_set = torchvision.datasets.MNIST(root='./data', train=True, download=True, transform=transform)\n",
        "# test_set = torchvision.datasets.MNIST(root='./data', train=False, download=True, transform=transform)\n",
        "\n",
        "# # pytorch offers concept DataLoaders to access the data efficiently\n",
        "# # two DataLoaders, one for TRAINING, the other for TESTING\n",
        "# train_loader = torch.utils.data.DataLoader(train_set, batch_size=32, shuffle=True)\n",
        "# test_loader = torch.utils.data.DataLoader(test_set, batch_size=32, shuffle=False)"
      ],
      "metadata": {
        "id": "TM9W0wkAXyJk"
      },
      "execution_count": null,
      "outputs": []
    },
    {
      "cell_type": "code",
      "source": [
        "def render_random_image(loader):\n",
        "   image, label = next(iter(loader))\n",
        "   plt.imshow(image.squeeze().permute(1, 2, 0))\n",
        "   plt.show()\n",
        "\n",
        "render_random_image(test_loader)"
      ],
      "metadata": {
        "id": "bxBhl2176RZd"
      },
      "execution_count": null,
      "outputs": []
    },
    {
      "cell_type": "code",
      "source": [
        "print('Number of images in the training dataset:', len(train_set))\n",
        "print('Number of images in the testing dataset:', len(test_set))"
      ],
      "metadata": {
        "colab": {
          "base_uri": "https://localhost:8080/"
        },
        "id": "opS7vdo8XxnN",
        "outputId": "f284aa73-cb26-460b-8f2d-6af3f818b702"
      },
      "execution_count": null,
      "outputs": [
        {
          "output_type": "stream",
          "name": "stdout",
          "text": [
            "Number of images in the training dataset: 665\n",
            "Number of images in the testing dataset: 235\n"
          ]
        }
      ]
    },
    {
      "cell_type": "code",
      "source": [
        "# print(f\"Shape of the images in the training dataset: {train_loader.dataset[0][0].shape}\")\n",
        "print(f\"Shape of the images in the training dataset: {train_loader.dataset[0][0].shape}\")"
      ],
      "metadata": {
        "colab": {
          "base_uri": "https://localhost:8080/"
        },
        "id": "Qh8L2RFtbK3D",
        "outputId": "c55e9b66-1ca5-4fa1-c251-6c424744e773"
      },
      "execution_count": null,
      "outputs": [
        {
          "output_type": "stream",
          "name": "stdout",
          "text": [
            "Shape of the images in the training dataset: torch.Size([3, 128, 128])\n"
          ]
        }
      ]
    },
    {
      "cell_type": "code",
      "source": [
        "import random\n",
        "\n",
        "fig, axes = plt.subplots(1, 10, figsize=(12, 3))\n",
        "for i in range(10):\n",
        "    rand_idx = random.randint(0, len(test_loader.dataset) - 1)  # Get a random index\n",
        "    image, label = test_loader.dataset[rand_idx]\n",
        "    axes[i].imshow(image.permute(1, 2, 0))\n",
        "    axes[i].set_title(label)\n",
        "    axes[i].axis('off')\n",
        "plt.show()"
      ],
      "metadata": {
        "colab": {
          "base_uri": "https://localhost:8080/",
          "height": 138
        },
        "id": "XejFQDv_bxsh",
        "outputId": "6e1a08a2-b6ec-4e90-daad-637a62d77295"
      },
      "execution_count": null,
      "outputs": [
        {
          "output_type": "display_data",
          "data": {
            "text/plain": [
              "<Figure size 1200x300 with 10 Axes>"
            ],
            "image/png": "[encoded data removed]"
          },
          "metadata": {}
        }
      ]
    },
    {
      "cell_type": "code",
      "source": [
        "# nn.Module is widely used and offeres good flexability, there are others\n",
        "\n",
        "class NeuralNetwork(nn.Module):\n",
        "    def __init__(self):\n",
        "        super(NeuralNetwork, self).__init__()\n",
        "        # ------ first define the layers\n",
        "\n",
        "        # first 784 input values, outputs 128 activation values\n",
        "        self.input = nn.Linear(3*128*128, 128)\n",
        "        # first hidden layer has 128 input nuerons, and communicates 64 activation values\n",
        "        self.hidden = nn.Linear(128, 64)\n",
        "        # output layer takes 64 activations and turns them into 10\n",
        "        self.output = nn.Linear(64, 2)\n",
        "\n",
        "    # each nn.Module needs a forward funciton whcih turns input to the network into output... input is x (2-dimensional array size 28x28)\n",
        "    def forward(self, x):\n",
        "        # first we flatten 2-d matrix into vector of length 784\n",
        "        x = x.view(-1, 3*128*128)\n",
        "        x = F.relu(self.input(x))\n",
        "        x = F.relu(self.hidden(x))\n",
        "        # feed the final 10 activations values into softmax to turn them into probabilities\n",
        "        x = F.log_softmax(self.output(x), dim=1)\n",
        "        return x\n",
        "\n",
        "model = NeuralNetwork()"
      ],
      "metadata": {
        "id": "JEmA9OQJd_Mk"
      },
      "execution_count": null,
      "outputs": []
    },
    {
      "cell_type": "code",
      "source": [
        "# our loss function\n",
        "loss_function = nn.NLLLoss()\n",
        "# Adam is one of the mplementations of backpropagation\n",
        "# learning rate sets how quickly model learns\n",
        "optimizer = optim.Adam(model.parameters(), lr=0.001)\n",
        "\n",
        "# look over the entire training set 5 times.\n",
        "epochs = 5\n",
        "for epoch in range(epochs):\n",
        "    for images, labels in train_loader:\n",
        "        # reset the gradients : determine how and which weights are adjusted\n",
        "        optimizer.zero_grad()\n",
        "\n",
        "        # use our model to make predictions\n",
        "        output = model(images)\n",
        "        # now calculate the loss with our loss function\n",
        "        loss = loss_function(output, labels)\n",
        "\n",
        "        # calculate all the gradients for all neurons in our network based on the calculated loss\n",
        "        loss.backward()\n",
        "        # we apply this gradient to adjust the weights\n",
        "        optimizer.step()\n",
        "\n",
        "    print(f'Epoch [{epoch+1}/{epochs}], Loss: {loss.item():.4f}')"
      ],
      "metadata": {
        "colab": {
          "base_uri": "https://localhost:8080/"
        },
        "id": "VelkrOfeFW1X",
        "outputId": "7dce4230-b25a-4931-823b-d844b5bf1b1b"
      },
      "execution_count": null,
      "outputs": [
        {
          "output_type": "stream",
          "name": "stdout",
          "text": [
            "Epoch [1/5], Loss: 0.5977\n",
            "Epoch [2/5], Loss: 0.6235\n",
            "Epoch [3/5], Loss: 0.6375\n",
            "Epoch [4/5], Loss: 0.7519\n",
            "Epoch [5/5], Loss: 0.6547\n"
          ]
        }
      ]
    },
    {
      "cell_type": "code",
      "source": [
        "# @title test images and see probability\n",
        "\n",
        "def view_classify(image, probabilities, actual_label): # Add actual_class as an argument\n",
        "    probabilities = probabilities.data.numpy().squeeze()\n",
        "\n",
        "    fig, (ax1, ax2) = plt.subplots(figsize=(6,9), ncols=2)\n",
        "    ax1.imshow(image.numpy().transpose(1, 2, 0))\n",
        "    ax1.axis('off')\n",
        "    ax1.set_title(f\"Actual Label: {actual_label}\") # Set title with actual class\n",
        "\n",
        "    ax2.barh(np.arange(2), probabilities)\n",
        "    ax2.set_aspect(0.1)\n",
        "    ax2.set_yticks(np.arange(2))\n",
        "    ax2.set_yticklabels(np.arange(2))\n",
        "    ax2.set_title('Class Probability')\n",
        "    ax2.set_xlim(0, 1.1)\n",
        "    plt.tight_layout()\n",
        "\n",
        "images, labels = next(iter(test_loader))\n",
        "image = images[0]\n",
        "label = labels[0]\n",
        "\n",
        "with torch.no_grad():\n",
        "    log_probabilities = model(image)\n",
        "\n",
        "probabilities = torch.exp(log_probabilities)\n",
        "view_classify(image, probabilities, label)"
      ],
      "metadata": {
        "colab": {
          "base_uri": "https://localhost:8080/",
          "height": 327
        },
        "id": "2IUsiV-1IkBq",
        "outputId": "63977b13-3ffa-4218-d495-7a445e4e4ed0"
      },
      "execution_count": null,
      "outputs": [
        {
          "output_type": "display_data",
          "data": {
            "text/plain": [
              "<Figure size 600x900 with 2 Axes>"
            ],
            "image/png": "[encoded data removed]"
          },
          "metadata": {}
        }
      ]
    },
    {
      "cell_type": "code",
      "source": [
        "# @title create large grid showing all images in testing loader\n",
        "\n",
        "import matplotlib.pyplot as plt\n",
        "import numpy as np\n",
        "import os\n",
        "from PIL import Image\n",
        "\n",
        "def create_grid_image(directory, grid_size=(5, 5)):\n",
        "  \"\"\"\n",
        "  Creates a grid image from images in a directory, scaling each image to 50x50.\n",
        "\n",
        "  Args:\n",
        "    directory: Path to the directory containing images.\n",
        "    grid_size: Tuple specifying the number of rows and columns in the grid.\n",
        "\n",
        "  Returns:\n",
        "    A single image containing the grid of images.\n",
        "  \"\"\"\n",
        "\n",
        "  image_files = [f for f in os.listdir(directory) if f.endswith(('.jpg', '.png'))]\n",
        "  images = [Image.open(os.path.join(directory, f)) for f in image_files]\n",
        "\n",
        "  # Resize images to 50x50\n",
        "  images = [img.resize((128, 128)) for img in images]\n",
        "\n",
        "  # Create a new image with the desired grid size\n",
        "  grid_image = Image.new('RGB', (grid_size[1] * images[0].width, grid_size[0] * images[0].height))\n",
        "\n",
        "  # Paste images onto the grid\n",
        "  for i, image in enumerate(images):\n",
        "    row = i // grid_size[1]\n",
        "    col = i % grid_size[1]\n",
        "    grid_image.paste(image, (col * image.width, row * image.height))\n",
        "\n",
        "  return grid_image\n",
        "\n",
        "# Example usage\n",
        "grid_image = create_grid_image('/content/cj-test/target_1')\n",
        "grid_image.show()  # Display the image\n",
        "grid_image.save('grid_image.jpg')  # Save the image"
      ],
      "metadata": {
        "id": "sTthuL0ENwgy"
      },
      "execution_count": null,
      "outputs": []
    },
    {
      "cell_type": "code",
      "source": [
        "labels"
      ],
      "metadata": {
        "id": "mzAxTFm_Mn43"
      },
      "execution_count": null,
      "outputs": []
    },
    {
      "cell_type": "code",
      "source": [
        "# epochs = 1\n",
        "# for epoch in range(epochs):\n",
        "#     for images, labels in train_loader:\n",
        "#       print(labels)"
      ],
      "metadata": {
        "id": "diUNDDotfvv8"
      },
      "execution_count": null,
      "outputs": []
    },
    {
      "cell_type": "code",
      "source": [
        "# our loss function\n",
        "loss_function = nn.NLLLoss()\n",
        "# Adam is one of the mplementations of backpropagation\n",
        "# learning rate sets how quickly model learns\n",
        "optimizer = optim.Adam(model.parameters(), lr=0.001)\n",
        "\n",
        "# look over the entire training set 5 times.\n",
        "epochs = 5\n",
        "for epoch in range(epochs):\n",
        "    for images, labels in train_loader:\n",
        "        # reset the gradients : determine how and which weights are adjusted\n",
        "        optimizer.zero_grad()\n",
        "\n",
        "        # use our model to make predictions\n",
        "        output = model(images)\n",
        "        print(f\"Shape of output: {output.shape}\")\n",
        "        print(f\"Shape of labels: {labels.shape}\")\n",
        "\n",
        "        # now calculate the loss with our loss function\n",
        "        loss = loss_function(output, labels)\n",
        "\n",
        "        # calculate all the gradients for all neurons in our network based on the calculated loss\n",
        "        loss.backward()\n",
        "        # we apply this gradient to adjust the weights\n",
        "        optimizer.step()\n",
        "\n",
        "    print(f'Epoch [{epoch+1}/{epochs}], Loss: {loss.item():.4f}')"
      ],
      "metadata": {
        "id": "huhF9cHfen90"
      },
      "execution_count": null,
      "outputs": []
    },
    {
      "cell_type": "markdown",
      "source": [
        "# below is old"
      ],
      "metadata": {
        "id": "PBiCZYUofAuh"
      }
    },
    {
      "cell_type": "code",
      "source": [
        "import tensorflow as tf\n",
        "\n",
        "def load_and_preprocess_image(path):\n",
        "  image = tf.io.read_file(path)\n",
        "  image = tf.image.decode_jpeg(image, channels=3)\n",
        "  image = tf.image.resize(image, [139, 139])\n",
        "  image /= 255.0  # normalize to [0,1] range\n",
        "  return image"
      ],
      "metadata": {
        "id": "4Da1U7QFWJF6"
      },
      "execution_count": null,
      "outputs": []
    },
    {
      "cell_type": "code",
      "source": [
        "import torch.nn as nn\n",
        "import torch.nn.functional as F\n",
        "\n",
        "class Net(nn.Module):\n",
        "  def __init__(self):\n",
        "    super(Net, self).__init__()\n",
        "    self.conv1 = nn.Conv2d(3, 6, 5)\n",
        "    self.pool = nn.MaxPool2d(2, 2)\n",
        "    self.conv2 = nn.Conv2d(6, 16, 5)\n",
        "    self.fc1 = nn.Linear(16 * 32 * 32, 120)\n",
        "    self.fc2 = nn.Linear(120, 84)\n",
        "    self.fc3 = nn.Linear(84, 1)\n",
        "\n",
        "  def forward(self, x):\n",
        "    x = self.pool(F.relu(self.conv1(x)))\n",
        "    x = self.pool(F.relu(self.conv2(x)))\n",
        "    x = x.view(-1, 16 * 32 * 32)\n",
        "    x = F.relu(self.fc1(x))\n",
        "    x = F.relu(self.fc2(x))\n",
        "    x = self.fc3(x)\n",
        "    return x\n",
        "\n",
        "net = Net()"
      ],
      "metadata": {
        "id": "K4BIVH6GWKWD"
      },
      "execution_count": null,
      "outputs": []
    },
    {
      "cell_type": "markdown",
      "source": [
        "# Other"
      ],
      "metadata": {
        "id": "xmG3CNVpIFM4"
      }
    },
    {
      "cell_type": "code",
      "source": [
        "# @title create custom image from source image\n",
        "\n",
        "import matplotlib.pyplot as plt\n",
        "\n",
        "image_path = '/content/train-image/image/ISIC_0015670.jpg'\n",
        "# label = all_image_labels[0]\n",
        "\n",
        "plt.imshow(load_and_preprocess_image(img_path))\n",
        "plt.grid(False)\n",
        "# plt.xlabel(caption_image(img_path))\n",
        "# plt.title(label_names[label].title())\n",
        "print()"
      ],
      "metadata": {
        "id": "Rx7MsQdxDWbM"
      },
      "execution_count": null,
      "outputs": []
    },
    {
      "source": [
        "# create google sheet spreadsheet on show it below in an iframe\n",
        "from google.colab import sheets\n",
        "sheet = sheets.InteractiveSheet(df=new_df)"
      ],
      "cell_type": "code",
      "execution_count": null,
      "outputs": [],
      "metadata": {
        "cellView": "form",
        "id": "_KQ7fpsC3gJb"
      }
    }
  ]
}