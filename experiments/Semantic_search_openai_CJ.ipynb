{
  "cells": [
    {
      "cell_type": "markdown",
      "metadata": {
        "id": "view-in-github",
        "colab_type": "text"
      },
      "source": [
        "<a href=\"https://colab.research.google.com/github/kutyadog/ai_notebooks/blob/main/Semantic_search_openai_CJ.ipynb\" target=\"_parent\"><img src=\"https://colab.research.google.com/assets/colab-badge.svg\" alt=\"Open In Colab\"/></a>"
      ]
    },
    {
      "cell_type": "markdown",
      "metadata": {
        "id": "izNeUi--hSSA"
      },
      "source": [
        "[![Open In Colab](https://colab.research.google.com/assets/colab-badge.svg)](https://colab.research.google.com/github/pinecone-io/examples/blob/master/integrations/openai/semantic_search_openai.ipynb) [![Open nbviewer](https://raw.githubusercontent.com/pinecone-io/examples/master/assets/nbviewer-shield.svg)](https://nbviewer.org/github/pinecone-io/examples/blob/master/integrations/openai/semantic_search_openai.ipynb)\n",
        "\n",
        "# Semantic Search with Pinecone and OpenAI\n",
        "March 2023"
      ]
    },
    {
      "cell_type": "markdown",
      "metadata": {
        "id": "LI76-BMFhUmS"
      },
      "source": [
        "In this guide you will learn how to use the OpenAI Embedding API to generate language embeddings, and then index those embeddings in the Pinecone vector database for fast and scalable vector search.\n",
        "\n",
        "This is a powerful and common combination for building semantic search, question-answering, threat-detection, and other applications that rely on NLP and search over a large corpus of text data.\n",
        "\n",
        "The basic workflow looks like this:\n",
        "\n",
        "**Embed and index**\n",
        "\n",
        "* Use the OpenAI Embedding API to generate vector embeddings of your documents (or any text data).\n",
        "* Upload those vector embeddings into Pinecone, which can store and index millions/billions of these vector embeddings, and search through them at ultra-low latencies.\n",
        "\n",
        "**Search**\n",
        "\n",
        "* Pass your query text or document through the OpenAI Embedding API again.\n",
        "* Take the resulting vector embedding and send it as a query to Pinecone.\n",
        "* Get back semantically similar documents, even if they don't share any keywords with the query.\n"
      ]
    },
    {
      "cell_type": "markdown",
      "metadata": {
        "id": "nXzzYE0hhU64"
      },
      "source": [
        "## Setup"
      ]
    },
    {
      "cell_type": "markdown",
      "metadata": {
        "id": "FNk3hfyAtRNj"
      },
      "source": [
        "**Youtube video:**\n",
        "https://www.youtube.com/watch?v=ocxq84ocYi0\n",
        "\n",
        "We first need to setup our environment and retrieve API keys for OpenAI and Pinecone. Let's start with our environment, we need HuggingFace *Datasets* for our data, and the OpenAI and Pinecone clients:"
      ]
    },
    {
      "cell_type": "code",
      "execution_count": null,
      "metadata": {
        "id": "SGQoz_JmtRNh"
      },
      "outputs": [],
      "source": [
        "!pip install pinecone-client openai datasets"
      ]
    },
    {
      "cell_type": "markdown",
      "metadata": {
        "id": "IMp0TQ24tRNm"
      },
      "source": [
        "### Creating Embeddings\n",
        "\n",
        "Then we initialize our connection to OpenAI Embeddings *and* Pinecone vector DB. Sign up for an API key over at [OpenAI](https://beta.openai.com/signup) and [Pinecone](https://app.pinecone.io)."
      ]
    },
    {
      "cell_type": "code",
      "execution_count": null,
      "metadata": {
        "id": "yo5uw4sPtRNn"
      },
      "outputs": [],
      "source": [
        "import openai\n",
        "import os\n",
        "from google.colab import userdata\n",
        "\n",
        "openai.organization = userdata.get('OPENAI_ORG')\n",
        "# get this from top-right dropdown on OpenAI under organization > settings\n",
        "openai.api_key = userdata.get('OPENAI_API_KEY')\n",
        "# get API key from top-right dropdown on OpenAI website\n",
        "\n",
        "openai.Engine.list()  # check we have authenticated"
      ]
    },
    {
      "cell_type": "markdown",
      "metadata": {
        "id": "pw8cbO3HtRNo"
      },
      "source": [
        "We can now create embeddings with the OpenAI Ada similarity model like so:"
      ]
    },
    {
      "cell_type": "code",
      "execution_count": null,
      "metadata": {
        "id": "Hg0yIGu3tRNo"
      },
      "outputs": [],
      "source": [
        "MODEL = \"text-embedding-ada-002\"\n",
        "\n",
        "res = openai.Embedding.create(\n",
        "    input=[\n",
        "        \"Sample document text goes here\",\n",
        "        \"there will be several phrases in each batch\"\n",
        "    ], engine=MODEL\n",
        ")\n",
        "res"
      ]
    },
    {
      "cell_type": "code",
      "execution_count": null,
      "metadata": {
        "colab": {
          "base_uri": "https://localhost:8080/"
        },
        "id": "-Egz35DjtRNo",
        "outputId": "1047c868-3aad-418e-e7f2-60332b1f8605"
      },
      "outputs": [
        {
          "output_type": "stream",
          "name": "stdout",
          "text": [
            "vector 0: 1536\n",
            "vector 1: 1536\n"
          ]
        }
      ],
      "source": [
        "print(\n",
        "    f\"vector 0: {len(res['data'][0]['embedding'])}\\nvector 1: {len(res['data'][1]['embedding'])}\"\n",
        ")"
      ]
    },
    {
      "cell_type": "code",
      "execution_count": null,
      "metadata": {
        "colab": {
          "base_uri": "https://localhost:8080/"
        },
        "id": "ZguN6obBtRNp",
        "outputId": "e1ec19ad-197e-44f2-f493-0317229b3416"
      },
      "outputs": [
        {
          "output_type": "execute_result",
          "data": {
            "text/plain": [
              "2"
            ]
          },
          "metadata": {},
          "execution_count": 5
        }
      ],
      "source": [
        "# we can extract embeddings to a list\n",
        "embeds = [record['embedding'] for record in res['data']]\n",
        "len(embeds)"
      ]
    },
    {
      "cell_type": "markdown",
      "metadata": {
        "id": "U4WJwy58tRNp"
      },
      "source": [
        "Next, we initialize our index to store vector embeddings with Pinecone."
      ]
    },
    {
      "cell_type": "code",
      "execution_count": null,
      "metadata": {
        "colab": {
          "base_uri": "https://localhost:8080/"
        },
        "id": "OnyoBu-BRNOs",
        "outputId": "4d40b553-4ff2-4336-baab-24ff6424fead"
      },
      "outputs": [
        {
          "data": {
            "text/plain": [
              "1536"
            ]
          },
          "execution_count": 13,
          "metadata": {},
          "output_type": "execute_result"
        }
      ],
      "source": [
        "len(embeds[0])"
      ]
    },
    {
      "cell_type": "code",
      "execution_count": null,
      "metadata": {
        "id": "I2KLRbN-tRNq",
        "colab": {
          "base_uri": "https://localhost:8080/"
        },
        "outputId": "22cfcf01-4fc6-4f0e-f482-a901755715d7"
      },
      "outputs": [
        {
          "output_type": "stream",
          "name": "stderr",
          "text": [
            "/usr/local/lib/python3.8/dist-packages/pinecone/index.py:4: TqdmExperimentalWarning: Using `tqdm.autonotebook.tqdm` in notebook mode. Use `tqdm.tqdm` instead to force console mode (e.g. in jupyter console)\n",
            "  from tqdm.autonotebook import tqdm\n"
          ]
        }
      ],
      "source": [
        "import pinecone\n",
        "\n",
        "index_name = 'semantic-search-openai'\n",
        "\n",
        "# initialize connection to pinecone (get API key at app.pinecone.io)\n",
        "pinecone.init(\n",
        "    api_key=\"94639446-9b11-4466-be87-dedd4add62f4\",\n",
        "    environment=\"us-east1-gcp\"  # find next to api key in console\n",
        ")\n",
        "# check if 'openai' index already exists (only create index if not)\n",
        "if index_name not in pinecone.list_indexes():\n",
        "    pinecone.create_index(index_name, dimension=len(embeds[0]))\n",
        "# connect to index\n",
        "index = pinecone.Index(index_name)"
      ]
    },
    {
      "cell_type": "markdown",
      "metadata": {
        "id": "TLCLmeZRtRNq"
      },
      "source": [
        "## Populating the Index\n",
        "\n",
        "Now we will take 1K questions from the TREC dataset"
      ]
    },
    {
      "cell_type": "code",
      "execution_count": null,
      "metadata": {
        "colab": {
          "base_uri": "https://localhost:8080/"
        },
        "id": "JiSfCTK-lhXx",
        "outputId": "bcb82771-a0d5-4c63-d2ad-69a963f93620"
      },
      "outputs": [
        {
          "name": "stderr",
          "output_type": "stream",
          "text": [
            "WARNING:datasets.builder:Found cached dataset trec (/root/.cache/huggingface/datasets/trec/default/2.0.0/f2469cab1b5fceec7249fda55360dfdbd92a7a5b545e91ea0f78ad108ffac1c2)\n"
          ]
        },
        {
          "data": {
            "text/plain": [
              "Dataset({\n",
              "    features: ['text', 'coarse_label', 'fine_label'],\n",
              "    num_rows: 1000\n",
              "})"
            ]
          },
          "execution_count": 16,
          "metadata": {},
          "output_type": "execute_result"
        }
      ],
      "source": [
        "from datasets import load_dataset\n",
        "\n",
        "# load the first 1K rows of the TREC dataset\n",
        "trec = load_dataset('trec', split='train[:1000]')\n",
        "trec"
      ]
    },
    {
      "cell_type": "code",
      "execution_count": null,
      "metadata": {
        "colab": {
          "base_uri": "https://localhost:8080/"
        },
        "id": "2m7a_zl8lt2e",
        "outputId": "7e2bc141-27bf-4580-c632-642a65c652d8"
      },
      "outputs": [
        {
          "data": {
            "text/plain": [
              "{'text': 'How did serfdom develop in and then leave Russia ?',\n",
              " 'coarse_label': 2,\n",
              " 'fine_label': 26}"
            ]
          },
          "execution_count": 17,
          "metadata": {},
          "output_type": "execute_result"
        }
      ],
      "source": [
        "trec[0]"
      ]
    },
    {
      "cell_type": "markdown",
      "metadata": {
        "id": "sJwnszP0ljN6"
      },
      "source": [
        "Then we create a vector embedding for each phrase using OpenAI, and `upsert` the ID, vector embedding, and original text for each phrase to Pinecone."
      ]
    },
    {
      "cell_type": "code",
      "execution_count": null,
      "metadata": {
        "id": "B80PgNyytRNq"
      },
      "outputs": [],
      "source": [
        "from tqdm.auto import tqdm\n",
        "\n",
        "count = 0  # we'll use the count to create unique IDs\n",
        "batch_size = 32  # process everything in batches of 32\n",
        "for i in tqdm(range(0, len(trec['text']), batch_size)):\n",
        "    # set end position of batch\n",
        "    i_end = min(i+batch_size, len(trec['text']))\n",
        "    # get batch of lines and IDs\n",
        "    lines_batch = trec['text'][i: i+batch_size]\n",
        "    ids_batch = [str(n) for n in range(i, i_end)]\n",
        "    # create embeddings\n",
        "    res = openai.Embedding.create(input=lines_batch, engine=MODEL)\n",
        "    embeds = [record['embedding'] for record in res['data']]\n",
        "    # prep metadata and upsert batch\n",
        "    meta = [{'text': line} for line in lines_batch]\n",
        "    to_upsert = zip(ids_batch, embeds, meta)\n",
        "    # upsert to Pinecone\n",
        "    index.upsert(vectors=list(to_upsert))"
      ]
    },
    {
      "cell_type": "markdown",
      "metadata": {
        "id": "iW_iM_M_tRNr"
      },
      "source": [
        "---\n",
        "\n",
        "# Querying\n",
        "\n",
        "With our data indexed, we're now ready to move onto performing searches. This follows a similar process to indexing. We start with a text `query`, that we would like to use to find similar sentences. As before we encode this with OpenAI's text similarity Babbage model to create a *query vector* `xq`. We then use `xq` to query the Pinecone index."
      ]
    },
    {
      "cell_type": "code",
      "execution_count": null,
      "metadata": {
        "id": "k80ASNMqtRNr"
      },
      "outputs": [],
      "source": [
        "query = \"What caused the 1929 Great Depression?\"\n",
        "\n",
        "xq = openai.Embedding.create(input=query, engine=MODEL)['data'][0]['embedding']"
      ]
    },
    {
      "cell_type": "markdown",
      "metadata": {
        "id": "RxCKv-UktRNs"
      },
      "source": [
        "Now query..."
      ]
    },
    {
      "cell_type": "code",
      "execution_count": null,
      "metadata": {
        "colab": {
          "base_uri": "https://localhost:8080/"
        },
        "id": "_cY3_rXytRNs",
        "outputId": "539ac857-9980-4156-9344-4224cb54ff26"
      },
      "outputs": [
        {
          "data": {
            "text/plain": [
              "{'matches': [{'id': '932',\n",
              "              'metadata': {'text': 'Why did the world enter a global '\n",
              "                                   'depression in 1929 ?'},\n",
              "              'score': 0.917971551,\n",
              "              'sparseValues': {},\n",
              "              'values': []},\n",
              "             {'id': '787',\n",
              "              'metadata': {'text': \"When was `` the Great Depression '' ?\"},\n",
              "              'score': 0.87167418,\n",
              "              'sparseValues': {},\n",
              "              'values': []},\n",
              "             {'id': '400',\n",
              "              'metadata': {'text': 'What crop failure caused the Irish Famine '\n",
              "                                   '?'},\n",
              "              'score': 0.812044263,\n",
              "              'sparseValues': {},\n",
              "              'values': []},\n",
              "             {'id': '775',\n",
              "              'metadata': {'text': 'What historical event happened in Dogtown '\n",
              "                                   'in 1899 ?'},\n",
              "              'score': 0.798895657,\n",
              "              'sparseValues': {},\n",
              "              'values': []},\n",
              "             {'id': '481',\n",
              "              'metadata': {'text': 'What caused the Lynmouth floods ?'},\n",
              "              'score': 0.792350292,\n",
              "              'sparseValues': {},\n",
              "              'values': []}],\n",
              " 'namespace': ''}"
            ]
          },
          "execution_count": 20,
          "metadata": {},
          "output_type": "execute_result"
        }
      ],
      "source": [
        "res = index.query([xq], top_k=5, include_metadata=True)\n",
        "res"
      ]
    },
    {
      "cell_type": "markdown",
      "metadata": {
        "id": "I2iydlXVjmMZ"
      },
      "source": [
        "The response from Pinecone includes our original text in the `metadata` field, let's print out the `top_k` most similar questions and their respective similarity scores."
      ]
    },
    {
      "cell_type": "code",
      "execution_count": null,
      "metadata": {
        "colab": {
          "base_uri": "https://localhost:8080/"
        },
        "id": "WT1L2ogHjiO-",
        "outputId": "50ecca3e-7d31-414e-b59a-7725a22ed864"
      },
      "outputs": [
        {
          "name": "stdout",
          "output_type": "stream",
          "text": [
            "0.92: Why did the world enter a global depression in 1929 ?\n",
            "0.87: When was `` the Great Depression '' ?\n",
            "0.81: What crop failure caused the Irish Famine ?\n",
            "0.80: What historical event happened in Dogtown in 1899 ?\n",
            "0.79: What caused the Lynmouth floods ?\n"
          ]
        }
      ],
      "source": [
        "for match in res['matches']:\n",
        "    print(f\"{match['score']:.2f}: {match['metadata']['text']}\")"
      ]
    },
    {
      "cell_type": "markdown",
      "metadata": {
        "id": "wu7LmvmIjqPq"
      },
      "source": [
        "Looks good, let's make it harder and replace *\"depression\"* with the incorrect term *\"recession\"*."
      ]
    },
    {
      "cell_type": "code",
      "execution_count": null,
      "metadata": {
        "colab": {
          "base_uri": "https://localhost:8080/"
        },
        "id": "SaT9yMj7jq0u",
        "outputId": "2841ae2b-957f-4ed2-8260-c89d0f2cbc8f"
      },
      "outputs": [
        {
          "name": "stdout",
          "output_type": "stream",
          "text": [
            "0.88: Why did the world enter a global depression in 1929 ?\n",
            "0.83: When was `` the Great Depression '' ?\n",
            "0.81: What crop failure caused the Irish Famine ?\n",
            "0.80: When did World War I start ?\n",
            "0.80: What were popular songs and types of songs in the 1920s ?\n"
          ]
        }
      ],
      "source": [
        "query = \"What was the cause of the major recession in the early 20th century?\"\n",
        "\n",
        "# create the query embedding\n",
        "xq = openai.Embedding.create(input=query, engine=MODEL)['data'][0]['embedding']\n",
        "\n",
        "# query, returning the top 5 most similar results\n",
        "res = index.query([xq], top_k=5, include_metadata=True)\n",
        "\n",
        "for match in res['matches']:\n",
        "    print(f\"{match['score']:.2f}: {match['metadata']['text']}\")"
      ]
    },
    {
      "cell_type": "markdown",
      "metadata": {
        "id": "FXFhFri0jzkG"
      },
      "source": [
        "And again..."
      ]
    },
    {
      "cell_type": "code",
      "execution_count": null,
      "metadata": {
        "colab": {
          "base_uri": "https://localhost:8080/"
        },
        "id": "qOEvNweOj1AH",
        "outputId": "9e5deb27-909b-4d88-b000-46a9e3b6486f"
      },
      "outputs": [
        {
          "name": "stdout",
          "output_type": "stream",
          "text": [
            "0.90: Why did the world enter a global depression in 1929 ?\n",
            "0.84: When was `` the Great Depression '' ?\n",
            "0.80: When did World War I start ?\n",
            "0.80: What crop failure caused the Irish Famine ?\n",
            "0.80: When did the Dow first reach ?\n"
          ]
        }
      ],
      "source": [
        "query = \"Why was there a long-term economic downturn in the early 20th century?\"\n",
        "\n",
        "# create the query embedding\n",
        "xq = openai.Embedding.create(input=query, engine=MODEL)['data'][0]['embedding']\n",
        "\n",
        "# query, returning the top 5 most similar results\n",
        "res = index.query([xq], top_k=5, include_metadata=True)\n",
        "\n",
        "for match in res['matches']:\n",
        "    print(f\"{match['score']:.2f}: {match['metadata']['text']}\")"
      ]
    },
    {
      "cell_type": "markdown",
      "metadata": {
        "id": "wqP1aTzzbysS"
      },
      "source": [
        "Looks great, our semantic search pipeline is clearly able to identify the meaning between each of our queries and return the most semantically similar questions from the already indexed questions.\n",
        "\n",
        "Once we're finished with the index we delete it to save resources."
      ]
    },
    {
      "cell_type": "code",
      "execution_count": null,
      "metadata": {
        "id": "IgbSZyLZbysS"
      },
      "outputs": [],
      "source": [
        "pinecone.delete_index(index_name)"
      ]
    },
    {
      "cell_type": "markdown",
      "metadata": {
        "id": "ItsvY1lej6dz"
      },
      "source": [
        "---"
      ]
    }
  ],
  "metadata": {
    "colab": {
      "provenance": [],
      "include_colab_link": true
    },
    "kernelspec": {
      "display_name": "Python 3",
      "language": "python",
      "name": "python3"
    },
    "language_info": {
      "codemirror_mode": {
        "name": "ipython",
        "version": 3
      },
      "file_extension": ".py",
      "mimetype": "text/x-python",
      "name": "python",
      "nbconvert_exporter": "python",
      "pygments_lexer": "ipython3",
      "version": "3.10.9"
    },
    "orig_nbformat": 4,
    "vscode": {
      "interpreter": {
        "hash": "b0fa6594d8f4cbf19f97940f81e996739fb7646882a419484c72d19e05852a7e"
      }
    }
  },
  "nbformat": 4,
  "nbformat_minor": 0
}