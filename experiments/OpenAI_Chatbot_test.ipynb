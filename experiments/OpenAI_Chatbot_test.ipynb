{
  "nbformat": 4,
  "nbformat_minor": 0,
  "metadata": {
    "colab": {
      "provenance": [],
      "collapsed_sections": [
        "PgjhoYAfGuIa",
        "czH5m_J8Vv6r"
      ],
      "include_colab_link": true
    },
    "kernelspec": {
      "name": "python3",
      "display_name": "Python 3"
    }
  },
  "cells": [
    {
      "cell_type": "markdown",
      "metadata": {
        "id": "view-in-github",
        "colab_type": "text"
      },
      "source": [
        "<a href=\"https://colab.research.google.com/github/kutyadog/ai_notebooks/blob/main/OpenAI_Chatbot_test.ipynb\" target=\"_parent\"><img src=\"https://colab.research.google.com/assets/colab-badge.svg\" alt=\"Open In Colab\"/></a>"
      ]
    },
    {
      "cell_type": "markdown",
      "source": [
        "# Guidepost Chatbot Demo\n",
        "\n",
        "** This project built in March 2023 as a POC for HR chatbot\n",
        "\n",
        "**TO RUN THIS APP SIMPLY RUN STEP 1 & STEP 2 BELOW.**\n",
        "\n",
        "NOTES:\n",
        "\n",
        "\n",
        "*   Source information is pulled from nearly 1,600 Guidepost HR web pages.\n",
        "*   Guidepost data has been saved into a CSV file\n",
        "*   I have already created the embeddings for the guidepost data, saving it into a column called **'embeddings'**.\n",
        "*   I have saved this csv file as 'question_embeddings.csv' in my google drive, and included code in the notebook to auto download it for easy usage.\n",
        "*   Gradio is used to easily build an interface to this project.\n",
        "*   User can choose which model they wish to chat with in interface.\n",
        "\n",
        "Questions regarding code, please feel free to reach out at kutyadog@gmail.com (Chris Johnson).\n",
        "\n",
        "\n"
      ],
      "metadata": {
        "id": "faFjLDg22wbl"
      }
    },
    {
      "cell_type": "markdown",
      "source": [
        "# STEP 1: Click play below\n",
        "\n",
        "Will install and import all libraries, load run all the custom functions fo"
      ],
      "metadata": {
        "id": "z9hMignn_WHO"
      }
    },
    {
      "cell_type": "code",
      "source": [
        "# @title Install & import, set variables, download csv file\n",
        "\n",
        "!pip install -q openai\n",
        "!pip install -q gradio\n",
        "!pip install tiktoken\n",
        "\n",
        "import openai\n",
        "from google.colab import userdata\n",
        "\n",
        "\n",
        "# import whisper\n",
        "import pandas as pd\n",
        "# import io\n",
        "# from google.colab import files\n",
        "# from pytube import YouTube\n",
        "from getpass import getpass\n",
        "import ast  # for converting embeddings saved as strings back to arrays\n",
        "from ast import literal_eval\n",
        "import tiktoken  # for counting tokens\n",
        "import os # for getting API token from env variable OPENAI_API_KEY\n",
        "import gradio as gr\n",
        "from scipy import spatial  # for calculating vector similarities for search\n",
        "\n",
        "COMPLETIONS_MODEL = \"gpt-4-1106-preview\" # \"gpt-3.5-turbo\" #\n",
        "EMBEDDINGS_MODEL = \"text-embedding-ada-002\"\n",
        "openai.api_key = userdata.get('OPENAI_API_KEY') # wapo gpt-4\n",
        "\n",
        "# download question_embeddings.csv from my google drive (contains embeddings already so its ready to go)\n",
        "!gdown 1HLyJJ7NciWvZaupfutqt5m_P6AsEcGsl -O question_embeddings.csv"
      ],
      "metadata": {
        "id": "TgtB_O4q_wt_"
      },
      "execution_count": null,
      "outputs": []
    },
    {
      "cell_type": "code",
      "source": [
        "# @title Load guidepost data into memory as dataframe\n",
        "\n",
        "theData = pd.read_csv('question_embeddings.csv')\n",
        "\n",
        "# Assuming embedding column contains string representations of lists\n",
        "theData['embedding'] = theData['embedding'].apply(literal_eval)\n",
        "# print(theData.columns)\n",
        "theData"
      ],
      "metadata": {
        "colab": {
          "base_uri": "https://localhost:8080/",
          "height": 667
        },
        "id": "dSjNmfVWEZGI",
        "outputId": "660d71b6-0bc2-4744-8f04-e4ae825ca71c"
      },
      "execution_count": 2,
      "outputs": [
        {
          "output_type": "execute_result",
          "data": {
            "text/plain": [
              "      Unnamed: 0                                 title  \\\n",
              "0              0                              Overview   \n",
              "1              1                     International SOS   \n",
              "2              2                              Overview   \n",
              "3              3  World Wide Travel Associates (WWWTA)   \n",
              "4              4       Business Travel Accident (BTA)    \n",
              "...          ...                                   ...   \n",
              "1084        1084      West Penthouse Temporary Closure   \n",
              "1085        1085       DC Office: Garage Construction    \n",
              "1086        1086               Garage Repairs Continue   \n",
              "1087        1087            Garage Repairs Continue...   \n",
              "1088        1088                 Using our Gym Lockers   \n",
              "\n",
              "                                                    url last_modified  \\\n",
              "0     https://guidepost.washpost.com/pf/benefits_and...    2023-02-22   \n",
              "1     https://guidepost.washpost.com/pf/benefits_and...    2023-03-10   \n",
              "2     https://guidepost.washpost.com/pf/benefits_and...    2023-03-10   \n",
              "3     https://guidepost.washpost.com/pf/benefits_and...    2023-03-10   \n",
              "4     https://guidepost.washpost.com/pf/benefits_and...    2023-03-10   \n",
              "...                                                 ...           ...   \n",
              "1084  https://guidepost.washpost.com/pf/safety_and_s...    2020-03-18   \n",
              "1085  https://guidepost.washpost.com/pf/safety_and_s...    2020-07-07   \n",
              "1086  https://guidepost.washpost.com/pf/safety_and_s...    2020-07-17   \n",
              "1087  https://guidepost.washpost.com/pf/safety_and_s...    2020-07-17   \n",
              "1088  https://guidepost.washpost.com/pf/safety_and_s...    2020-07-09   \n",
              "\n",
              "                                            description  \\\n",
              "0                                                   NaN   \n",
              "1                                                   NaN   \n",
              "2                                                   NaN   \n",
              "3                                                   NaN   \n",
              "4                                                   NaN   \n",
              "...                                                 ...   \n",
              "1084  <p>March 6, 2018</p>\\r\\n<p>Please be advised t...   \n",
              "1085  <p>Ev-Air-Tight Shoemaker will begin conductin...   \n",
              "1086                                                NaN   \n",
              "1087                                                NaN   \n",
              "1088                                                NaN   \n",
              "\n",
              "                                                context  \\\n",
              "0      CVS Caremark is the pharmacy administrator fo...   \n",
              "1      The Post has partnered with <a href=\"https://...   \n",
              "2      All employees are eligible for the following ...   \n",
              "3      <a href=\"https://www.wwtainc.com/\" target=\"_b...   \n",
              "4      Every Post employee is covered by the Busines...   \n",
              "...                                                 ...   \n",
              "1084   <p>March 6, 2018</p>\\r\\n<p>Please be advised ...   \n",
              "1085   February 22, 2018 Ev-Air-Tight Shoemaker will...   \n",
              "1086   Phase 10 of One Franklin Square Garage constr...   \n",
              "1087   Do you drive to work and park at the One Fran...   \n",
              "1088   <br/> Here’s a reminder about the use of lock...   \n",
              "\n",
              "                                              embedding  \n",
              "0     [-0.002578002167865634, 0.0024170803371816874,...  \n",
              "1     [0.005726261530071497, 0.006739968899637461, 0...  \n",
              "2     [-0.019079700112342834, -0.013846032321453094,...  \n",
              "3     [0.00044795835856348276, -0.008983242325484753...  \n",
              "4     [-0.0033833058550953865, -0.010314584709703922...  \n",
              "...                                                 ...  \n",
              "1084  [-0.016541440039873123, -0.013538258150219917,...  \n",
              "1085  [0.009927400387823582, -0.005498898681253195, ...  \n",
              "1086  [-0.010752275586128235, -0.014265526086091995,...  \n",
              "1087  [-0.013834958896040916, -0.0024375098291784525...  \n",
              "1088  [0.0016219685785472393, 0.009092207998037338, ...  \n",
              "\n",
              "[1089 rows x 7 columns]"
            ],
            "text/html": [
              "\n",
              "  <div id=\"df-3ff30935-e3af-4298-a323-3581d25cf975\" class=\"colab-df-container\">\n",
              "    <div>\n",
              "<style scoped>\n",
              "    .dataframe tbody tr th:only-of-type {\n",
              "        vertical-align: middle;\n",
              "    }\n",
              "\n",
              "    .dataframe tbody tr th {\n",
              "        vertical-align: top;\n",
              "    }\n",
              "\n",
              "    .dataframe thead th {\n",
              "        text-align: right;\n",
              "    }\n",
              "</style>\n",
              "<table border=\"1\" class=\"dataframe\">\n",
              "  <thead>\n",
              "    <tr style=\"text-align: right;\">\n",
              "      <th></th>\n",
              "      <th>Unnamed: 0</th>\n",
              "      <th>title</th>\n",
              "      <th>url</th>\n",
              "      <th>last_modified</th>\n",
              "      <th>description</th>\n",
              "      <th>context</th>\n",
              "      <th>embedding</th>\n",
              "    </tr>\n",
              "  </thead>\n",
              "  <tbody>\n",
              "    <tr>\n",
              "      <th>0</th>\n",
              "      <td>0</td>\n",
              "      <td>Overview</td>\n",
              "      <td>https://guidepost.washpost.com/pf/benefits_and...</td>\n",
              "      <td>2023-02-22</td>\n",
              "      <td>NaN</td>\n",
              "      <td>CVS Caremark is the pharmacy administrator fo...</td>\n",
              "      <td>[-0.002578002167865634, 0.0024170803371816874,...</td>\n",
              "    </tr>\n",
              "    <tr>\n",
              "      <th>1</th>\n",
              "      <td>1</td>\n",
              "      <td>International SOS</td>\n",
              "      <td>https://guidepost.washpost.com/pf/benefits_and...</td>\n",
              "      <td>2023-03-10</td>\n",
              "      <td>NaN</td>\n",
              "      <td>The Post has partnered with &lt;a href=\"https://...</td>\n",
              "      <td>[0.005726261530071497, 0.006739968899637461, 0...</td>\n",
              "    </tr>\n",
              "    <tr>\n",
              "      <th>2</th>\n",
              "      <td>2</td>\n",
              "      <td>Overview</td>\n",
              "      <td>https://guidepost.washpost.com/pf/benefits_and...</td>\n",
              "      <td>2023-03-10</td>\n",
              "      <td>NaN</td>\n",
              "      <td>All employees are eligible for the following ...</td>\n",
              "      <td>[-0.019079700112342834, -0.013846032321453094,...</td>\n",
              "    </tr>\n",
              "    <tr>\n",
              "      <th>3</th>\n",
              "      <td>3</td>\n",
              "      <td>World Wide Travel Associates (WWWTA)</td>\n",
              "      <td>https://guidepost.washpost.com/pf/benefits_and...</td>\n",
              "      <td>2023-03-10</td>\n",
              "      <td>NaN</td>\n",
              "      <td>&lt;a href=\"https://www.wwtainc.com/\" target=\"_b...</td>\n",
              "      <td>[0.00044795835856348276, -0.008983242325484753...</td>\n",
              "    </tr>\n",
              "    <tr>\n",
              "      <th>4</th>\n",
              "      <td>4</td>\n",
              "      <td>Business Travel Accident (BTA)</td>\n",
              "      <td>https://guidepost.washpost.com/pf/benefits_and...</td>\n",
              "      <td>2023-03-10</td>\n",
              "      <td>NaN</td>\n",
              "      <td>Every Post employee is covered by the Busines...</td>\n",
              "      <td>[-0.0033833058550953865, -0.010314584709703922...</td>\n",
              "    </tr>\n",
              "    <tr>\n",
              "      <th>...</th>\n",
              "      <td>...</td>\n",
              "      <td>...</td>\n",
              "      <td>...</td>\n",
              "      <td>...</td>\n",
              "      <td>...</td>\n",
              "      <td>...</td>\n",
              "      <td>...</td>\n",
              "    </tr>\n",
              "    <tr>\n",
              "      <th>1084</th>\n",
              "      <td>1084</td>\n",
              "      <td>West Penthouse Temporary Closure</td>\n",
              "      <td>https://guidepost.washpost.com/pf/safety_and_s...</td>\n",
              "      <td>2020-03-18</td>\n",
              "      <td>&lt;p&gt;March 6, 2018&lt;/p&gt;\\r\\n&lt;p&gt;Please be advised t...</td>\n",
              "      <td>&lt;p&gt;March 6, 2018&lt;/p&gt;\\r\\n&lt;p&gt;Please be advised ...</td>\n",
              "      <td>[-0.016541440039873123, -0.013538258150219917,...</td>\n",
              "    </tr>\n",
              "    <tr>\n",
              "      <th>1085</th>\n",
              "      <td>1085</td>\n",
              "      <td>DC Office: Garage Construction</td>\n",
              "      <td>https://guidepost.washpost.com/pf/safety_and_s...</td>\n",
              "      <td>2020-07-07</td>\n",
              "      <td>&lt;p&gt;Ev-Air-Tight Shoemaker will begin conductin...</td>\n",
              "      <td>February 22, 2018 Ev-Air-Tight Shoemaker will...</td>\n",
              "      <td>[0.009927400387823582, -0.005498898681253195, ...</td>\n",
              "    </tr>\n",
              "    <tr>\n",
              "      <th>1086</th>\n",
              "      <td>1086</td>\n",
              "      <td>Garage Repairs Continue</td>\n",
              "      <td>https://guidepost.washpost.com/pf/safety_and_s...</td>\n",
              "      <td>2020-07-17</td>\n",
              "      <td>NaN</td>\n",
              "      <td>Phase 10 of One Franklin Square Garage constr...</td>\n",
              "      <td>[-0.010752275586128235, -0.014265526086091995,...</td>\n",
              "    </tr>\n",
              "    <tr>\n",
              "      <th>1087</th>\n",
              "      <td>1087</td>\n",
              "      <td>Garage Repairs Continue...</td>\n",
              "      <td>https://guidepost.washpost.com/pf/safety_and_s...</td>\n",
              "      <td>2020-07-17</td>\n",
              "      <td>NaN</td>\n",
              "      <td>Do you drive to work and park at the One Fran...</td>\n",
              "      <td>[-0.013834958896040916, -0.0024375098291784525...</td>\n",
              "    </tr>\n",
              "    <tr>\n",
              "      <th>1088</th>\n",
              "      <td>1088</td>\n",
              "      <td>Using our Gym Lockers</td>\n",
              "      <td>https://guidepost.washpost.com/pf/safety_and_s...</td>\n",
              "      <td>2020-07-09</td>\n",
              "      <td>NaN</td>\n",
              "      <td>&lt;br/&gt; Here’s a reminder about the use of lock...</td>\n",
              "      <td>[0.0016219685785472393, 0.009092207998037338, ...</td>\n",
              "    </tr>\n",
              "  </tbody>\n",
              "</table>\n",
              "<p>1089 rows × 7 columns</p>\n",
              "</div>\n",
              "    <div class=\"colab-df-buttons\">\n",
              "\n",
              "  <div class=\"colab-df-container\">\n",
              "    <button class=\"colab-df-convert\" onclick=\"convertToInteractive('df-3ff30935-e3af-4298-a323-3581d25cf975')\"\n",
              "            title=\"Convert this dataframe to an interactive table.\"\n",
              "            style=\"display:none;\">\n",
              "\n",
              "  <svg xmlns=\"http://www.w3.org/2000/svg\" height=\"24px\" viewBox=\"0 -960 960 960\">\n",
              "    <path d=\"M120-120v-720h720v720H120Zm60-500h600v-160H180v160Zm220 220h160v-160H400v160Zm0 220h160v-160H400v160ZM180-400h160v-160H180v160Zm440 0h160v-160H620v160ZM180-180h160v-160H180v160Zm440 0h160v-160H620v160Z\"/>\n",
              "  </svg>\n",
              "    </button>\n",
              "\n",
              "  <style>\n",
              "    .colab-df-container {\n",
              "      display:flex;\n",
              "      gap: 12px;\n",
              "    }\n",
              "\n",
              "    .colab-df-convert {\n",
              "      background-color: #E8F0FE;\n",
              "      border: none;\n",
              "      border-radius: 50%;\n",
              "      cursor: pointer;\n",
              "      display: none;\n",
              "      fill: #1967D2;\n",
              "      height: 32px;\n",
              "      padding: 0 0 0 0;\n",
              "      width: 32px;\n",
              "    }\n",
              "\n",
              "    .colab-df-convert:hover {\n",
              "      background-color: #E2EBFA;\n",
              "      box-shadow: 0px 1px 2px rgba(60, 64, 67, 0.3), 0px 1px 3px 1px rgba(60, 64, 67, 0.15);\n",
              "      fill: #174EA6;\n",
              "    }\n",
              "\n",
              "    .colab-df-buttons div {\n",
              "      margin-bottom: 4px;\n",
              "    }\n",
              "\n",
              "    [theme=dark] .colab-df-convert {\n",
              "      background-color: #3B4455;\n",
              "      fill: #D2E3FC;\n",
              "    }\n",
              "\n",
              "    [theme=dark] .colab-df-convert:hover {\n",
              "      background-color: #434B5C;\n",
              "      box-shadow: 0px 1px 3px 1px rgba(0, 0, 0, 0.15);\n",
              "      filter: drop-shadow(0px 1px 2px rgba(0, 0, 0, 0.3));\n",
              "      fill: #FFFFFF;\n",
              "    }\n",
              "  </style>\n",
              "\n",
              "    <script>\n",
              "      const buttonEl =\n",
              "        document.querySelector('#df-3ff30935-e3af-4298-a323-3581d25cf975 button.colab-df-convert');\n",
              "      buttonEl.style.display =\n",
              "        google.colab.kernel.accessAllowed ? 'block' : 'none';\n",
              "\n",
              "      async function convertToInteractive(key) {\n",
              "        const element = document.querySelector('#df-3ff30935-e3af-4298-a323-3581d25cf975');\n",
              "        const dataTable =\n",
              "          await google.colab.kernel.invokeFunction('convertToInteractive',\n",
              "                                                    [key], {});\n",
              "        if (!dataTable) return;\n",
              "\n",
              "        const docLinkHtml = 'Like what you see? Visit the ' +\n",
              "          '<a target=\"_blank\" href=https://colab.research.google.com/notebooks/data_table.ipynb>data table notebook</a>'\n",
              "          + ' to learn more about interactive tables.';\n",
              "        element.innerHTML = '';\n",
              "        dataTable['output_type'] = 'display_data';\n",
              "        await google.colab.output.renderOutput(dataTable, element);\n",
              "        const docLink = document.createElement('div');\n",
              "        docLink.innerHTML = docLinkHtml;\n",
              "        element.appendChild(docLink);\n",
              "      }\n",
              "    </script>\n",
              "  </div>\n",
              "\n",
              "\n",
              "    <div id=\"df-fa987f88-b45b-4aac-ac1e-4993b5861230\">\n",
              "      <button class=\"colab-df-quickchart\" onclick=\"quickchart('df-fa987f88-b45b-4aac-ac1e-4993b5861230')\"\n",
              "                title=\"Suggest charts\"\n",
              "                style=\"display:none;\">\n",
              "\n",
              "<svg xmlns=\"http://www.w3.org/2000/svg\" height=\"24px\"viewBox=\"0 0 24 24\"\n",
              "     width=\"24px\">\n",
              "    <g>\n",
              "        <path d=\"M19 3H5c-1.1 0-2 .9-2 2v14c0 1.1.9 2 2 2h14c1.1 0 2-.9 2-2V5c0-1.1-.9-2-2-2zM9 17H7v-7h2v7zm4 0h-2V7h2v10zm4 0h-2v-4h2v4z\"/>\n",
              "    </g>\n",
              "</svg>\n",
              "      </button>\n",
              "\n",
              "<style>\n",
              "  .colab-df-quickchart {\n",
              "      --bg-color: #E8F0FE;\n",
              "      --fill-color: #1967D2;\n",
              "      --hover-bg-color: #E2EBFA;\n",
              "      --hover-fill-color: #174EA6;\n",
              "      --disabled-fill-color: #AAA;\n",
              "      --disabled-bg-color: #DDD;\n",
              "  }\n",
              "\n",
              "  [theme=dark] .colab-df-quickchart {\n",
              "      --bg-color: #3B4455;\n",
              "      --fill-color: #D2E3FC;\n",
              "      --hover-bg-color: #434B5C;\n",
              "      --hover-fill-color: #FFFFFF;\n",
              "      --disabled-bg-color: #3B4455;\n",
              "      --disabled-fill-color: #666;\n",
              "  }\n",
              "\n",
              "  .colab-df-quickchart {\n",
              "    background-color: var(--bg-color);\n",
              "    border: none;\n",
              "    border-radius: 50%;\n",
              "    cursor: pointer;\n",
              "    display: none;\n",
              "    fill: var(--fill-color);\n",
              "    height: 32px;\n",
              "    padding: 0;\n",
              "    width: 32px;\n",
              "  }\n",
              "\n",
              "  .colab-df-quickchart:hover {\n",
              "    background-color: var(--hover-bg-color);\n",
              "    box-shadow: 0 1px 2px rgba(60, 64, 67, 0.3), 0 1px 3px 1px rgba(60, 64, 67, 0.15);\n",
              "    fill: var(--button-hover-fill-color);\n",
              "  }\n",
              "\n",
              "  .colab-df-quickchart-complete:disabled,\n",
              "  .colab-df-quickchart-complete:disabled:hover {\n",
              "    background-color: var(--disabled-bg-color);\n",
              "    fill: var(--disabled-fill-color);\n",
              "    box-shadow: none;\n",
              "  }\n",
              "\n",
              "  .colab-df-spinner {\n",
              "    border: 2px solid var(--fill-color);\n",
              "    border-color: transparent;\n",
              "    border-bottom-color: var(--fill-color);\n",
              "    animation:\n",
              "      spin 1s steps(1) infinite;\n",
              "  }\n",
              "\n",
              "  @keyframes spin {\n",
              "    0% {\n",
              "      border-color: transparent;\n",
              "      border-bottom-color: var(--fill-color);\n",
              "      border-left-color: var(--fill-color);\n",
              "    }\n",
              "    20% {\n",
              "      border-color: transparent;\n",
              "      border-left-color: var(--fill-color);\n",
              "      border-top-color: var(--fill-color);\n",
              "    }\n",
              "    30% {\n",
              "      border-color: transparent;\n",
              "      border-left-color: var(--fill-color);\n",
              "      border-top-color: var(--fill-color);\n",
              "      border-right-color: var(--fill-color);\n",
              "    }\n",
              "    40% {\n",
              "      border-color: transparent;\n",
              "      border-right-color: var(--fill-color);\n",
              "      border-top-color: var(--fill-color);\n",
              "    }\n",
              "    60% {\n",
              "      border-color: transparent;\n",
              "      border-right-color: var(--fill-color);\n",
              "    }\n",
              "    80% {\n",
              "      border-color: transparent;\n",
              "      border-right-color: var(--fill-color);\n",
              "      border-bottom-color: var(--fill-color);\n",
              "    }\n",
              "    90% {\n",
              "      border-color: transparent;\n",
              "      border-bottom-color: var(--fill-color);\n",
              "    }\n",
              "  }\n",
              "</style>\n",
              "\n",
              "      <script>\n",
              "        async function quickchart(key) {\n",
              "          const quickchartButtonEl =\n",
              "            document.querySelector('#' + key + ' button');\n",
              "          quickchartButtonEl.disabled = true;  // To prevent multiple clicks.\n",
              "          quickchartButtonEl.classList.add('colab-df-spinner');\n",
              "          try {\n",
              "            const charts = await google.colab.kernel.invokeFunction(\n",
              "                'suggestCharts', [key], {});\n",
              "          } catch (error) {\n",
              "            console.error('Error during call to suggestCharts:', error);\n",
              "          }\n",
              "          quickchartButtonEl.classList.remove('colab-df-spinner');\n",
              "          quickchartButtonEl.classList.add('colab-df-quickchart-complete');\n",
              "        }\n",
              "        (() => {\n",
              "          let quickchartButtonEl =\n",
              "            document.querySelector('#df-fa987f88-b45b-4aac-ac1e-4993b5861230 button');\n",
              "          quickchartButtonEl.style.display =\n",
              "            google.colab.kernel.accessAllowed ? 'block' : 'none';\n",
              "        })();\n",
              "      </script>\n",
              "    </div>\n",
              "\n",
              "  <div id=\"id_cd41eebc-ccbf-44e5-ad0a-38ad7758a8a4\">\n",
              "    <style>\n",
              "      .colab-df-generate {\n",
              "        background-color: #E8F0FE;\n",
              "        border: none;\n",
              "        border-radius: 50%;\n",
              "        cursor: pointer;\n",
              "        display: none;\n",
              "        fill: #1967D2;\n",
              "        height: 32px;\n",
              "        padding: 0 0 0 0;\n",
              "        width: 32px;\n",
              "      }\n",
              "\n",
              "      .colab-df-generate:hover {\n",
              "        background-color: #E2EBFA;\n",
              "        box-shadow: 0px 1px 2px rgba(60, 64, 67, 0.3), 0px 1px 3px 1px rgba(60, 64, 67, 0.15);\n",
              "        fill: #174EA6;\n",
              "      }\n",
              "\n",
              "      [theme=dark] .colab-df-generate {\n",
              "        background-color: #3B4455;\n",
              "        fill: #D2E3FC;\n",
              "      }\n",
              "\n",
              "      [theme=dark] .colab-df-generate:hover {\n",
              "        background-color: #434B5C;\n",
              "        box-shadow: 0px 1px 3px 1px rgba(0, 0, 0, 0.15);\n",
              "        filter: drop-shadow(0px 1px 2px rgba(0, 0, 0, 0.3));\n",
              "        fill: #FFFFFF;\n",
              "      }\n",
              "    </style>\n",
              "    <button class=\"colab-df-generate\" onclick=\"generateWithVariable('theData')\"\n",
              "            title=\"Generate code using this dataframe.\"\n",
              "            style=\"display:none;\">\n",
              "\n",
              "  <svg xmlns=\"http://www.w3.org/2000/svg\" height=\"24px\"viewBox=\"0 0 24 24\"\n",
              "       width=\"24px\">\n",
              "    <path d=\"M7,19H8.4L18.45,9,17,7.55,7,17.6ZM5,21V16.75L18.45,3.32a2,2,0,0,1,2.83,0l1.4,1.43a1.91,1.91,0,0,1,.58,1.4,1.91,1.91,0,0,1-.58,1.4L9.25,21ZM18.45,9,17,7.55Zm-12,3A5.31,5.31,0,0,0,4.9,8.1,5.31,5.31,0,0,0,1,6.5,5.31,5.31,0,0,0,4.9,4.9,5.31,5.31,0,0,0,6.5,1,5.31,5.31,0,0,0,8.1,4.9,5.31,5.31,0,0,0,12,6.5,5.46,5.46,0,0,0,6.5,12Z\"/>\n",
              "  </svg>\n",
              "    </button>\n",
              "    <script>\n",
              "      (() => {\n",
              "      const buttonEl =\n",
              "        document.querySelector('#id_cd41eebc-ccbf-44e5-ad0a-38ad7758a8a4 button.colab-df-generate');\n",
              "      buttonEl.style.display =\n",
              "        google.colab.kernel.accessAllowed ? 'block' : 'none';\n",
              "\n",
              "      buttonEl.onclick = () => {\n",
              "        google.colab.notebook.generateWithVariable('theData');\n",
              "      }\n",
              "      })();\n",
              "    </script>\n",
              "  </div>\n",
              "\n",
              "    </div>\n",
              "  </div>\n"
            ],
            "application/vnd.google.colaboratory.intrinsic+json": {
              "type": "dataframe",
              "variable_name": "theData",
              "summary": "{\n  \"name\": \"theData\",\n  \"rows\": 1089,\n  \"fields\": [\n    {\n      \"column\": \"Unnamed: 0\",\n      \"properties\": {\n        \"dtype\": \"number\",\n        \"std\": 314,\n        \"min\": 0,\n        \"max\": 1088,\n        \"num_unique_values\": 1089,\n        \"samples\": [\n          355,\n          56,\n          478\n        ],\n        \"semantic_type\": \"\",\n        \"description\": \"\"\n      }\n    },\n    {\n      \"column\": \"title\",\n      \"properties\": {\n        \"dtype\": \"string\",\n        \"num_unique_values\": 879,\n        \"samples\": [\n          \"Unmanned Aircraft System\",\n          \"Entering Your Time in Workday\",\n          \"Coronavirus Update #37: Please Confirm Your Vaccination Status in Workday\"\n        ],\n        \"semantic_type\": \"\",\n        \"description\": \"\"\n      }\n    },\n    {\n      \"column\": \"url\",\n      \"properties\": {\n        \"dtype\": \"string\",\n        \"num_unique_values\": 1058,\n        \"samples\": [\n          \"https://guidepost.washpost.com/pf/benefits_and_resources/my_career/the_growth_project/remote-working-tips-section/get-moving/additional-resources/getting-into-running\",\n          \"https://guidepost.washpost.com/pf/benefits_and_resources/my_benefits/foreign_correspondents/eap_wellness/foreign-coresspondents-classpass\",\n          \"https://guidepost.washpost.com/pf/benefits_and_resources/polices_and_procedures/cash-management\"\n        ],\n        \"semantic_type\": \"\",\n        \"description\": \"\"\n      }\n    },\n    {\n      \"column\": \"last_modified\",\n      \"properties\": {\n        \"dtype\": \"object\",\n        \"num_unique_values\": 267,\n        \"samples\": [\n          \"2022-02-17\",\n          \"2022-06-08\",\n          \"2020-10-09\"\n        ],\n        \"semantic_type\": \"\",\n        \"description\": \"\"\n      }\n    },\n    {\n      \"column\": \"description\",\n      \"properties\": {\n        \"dtype\": \"category\",\n        \"num_unique_values\": 308,\n        \"samples\": [\n          \"<p>Coronavirus Update #5: Response to CPAC &amp; AIPAC Conference Spread...</p>\",\n          \"Benefits to support parents and caregivers plus pre-tax commuting options.\",\n          \"Sets the basis of protecting the confidentiality of data at The Post.\"\n        ],\n        \"semantic_type\": \"\",\n        \"description\": \"\"\n      }\n    },\n    {\n      \"column\": \"context\",\n      \"properties\": {\n        \"dtype\": \"string\",\n        \"num_unique_values\": 1038,\n        \"samples\": [\n          \" <b>Aetna International members have free access to EAP services as part of their medical coverage.</b> <br/> When you are juggling work demands and your personal life, finding the right balance can be challenging. Sometimes you can use a hand. That is what your Employee Assistance Program (EAP) is for. <b>Confidential Assistance at No Cost</b> Need child care? Financial or legal advice? Counseling for troubling personal concerns? We have you covered. Your EAP is full of confidential resources \\u2014 and it is all available to you at no additional cost. Not even a co-pay. <b>Local Resources</b> Don\\u2019t have a personal assistant to help you with life outside of work? Neither do most people. Your EAP can step in and identify local resources for you, including lawyers, financial professionals, and child- and elder-care facilities. Speaking with a caring, experienced counselor about problems can help resolve them in a safe, healthy manner. Your EAP offers you and your covered family members: Multilingual, worldwide support, 24 hours a day and seven days a week. Referrals to counselors who can see you in person. Members are eligible for five free sessions per issue per year. Referrals to support groups and other behavioral health resources near you. Counseling can help with concerns such as: Improving family communication. Striving for harmony between work and home life. Coping with life changes. Managing stress. Surviving the loss of a loved one. Living with anxiety or depression. Addressing substance use or abuse. Handling bullying or harassment. Managing workplace pressures. Navigating couples challenges. Tackling parenting concerns. Caring for an older person. To contact EAP for assistance, call member services using the phone number located on the back of your member ID card. <b>Learn More: </b><a href=\\\"https://s3.amazonaws.com/guidepost-img/uploads/Aetna+International+EAP+Guide+(small).pdf\\\" target=\\\"_blank\\\">Employee Assistance Program (EAP) Guide</a>  <a href=\\\"https://s3.amazonaws.com/guidepost-img/uploads/Aetna+International+AbleTo+Flyer.pdf\\\">AbleTo</a> <a href=\\\"https://s3.amazonaws.com/guidepost-img/uploads/Aetna+International+Flyer-Mem-Health-Assessment.pdf\\\">Health Assessment</a> <a href=\\\"https://s3.amazonaws.com/guidepost-img/uploads/Aetna+International+Flyer-Mem-SimpleSteps-en.pdf\\\">Simple Steps to a Healthier Life</a> <a href=\\\"https://www.aetnainternational.com/en/individuals/plan-for-your-trip.html\\\">Preparing for an International Assignment</a>\",\n          \" <b>Should I quarantine after attending a large, indoor event?</b> If you feel well and have no symptoms, you can return to the office following an event but please test with Medcor for four consecutive days (or using a combination of Medcor and at-home tests if you work in an office location where Medcor tests less than five days per week). Friendly reminder: if you don\\u2019t feel well, stay home! <b>How long should I quarantine for after testing positive for covid-19?</b> If your test result is positive, a Medcor nurse will call you shortly thereafter and provide instructions on next steps, which will include sending you home. You should stay home for at least five days or until you are no longer symptomatic and should not test again for 90 days (because you are likely to continue testing positive during this period, even though they have recovered and are no longer contagious).\",\n          \" <b>Enrollment</b> We will automatically enroll you in the Cash Balance. There are no enrollment forms to complete, but we encourage you to designate beneficiaries. You cannot accrue a Cash Balance benefit if you are: A part-time employee and do not complete at least 1,000 hours in a single year. If you do not work 1,000 hours during your first 12 months of employment, we will count your hours each calendar year. Once you work 1,000 hours in a single year, we will enroll you. An independent contractor. A casual or temporary employee. Not a U.S. resident and have no U.S. income. <b>Online Account</b> Transamerica\\u2019s <a href=\\\"https://washpost.okta.com/home/thewashingtonpostandcompaniesprod_transamericaretirementserviceprd_1/0oa1g80rd7z89JKRE0h8/aln1g80w83cIr5dx80h8\\\">Pension Service Center</a> View your benefit. Designate your beneficiaries. Model your retirement incorporating your 401(k) and other savings. Review retirement education materials. <b>Learn More</b> <a href=\\\"https://s3.amazonaws.com/guidepost-img/uploads/2021+Cash+Balance+and+SRA+SPD.pdf\\\">Pension Cash Balance and SRA Summary Plan Description</a>\"\n        ],\n        \"semantic_type\": \"\",\n        \"description\": \"\"\n      }\n    },\n    {\n      \"column\": \"embedding\",\n      \"properties\": {\n        \"dtype\": \"object\",\n        \"semantic_type\": \"\",\n        \"description\": \"\"\n      }\n    }\n  ]\n}"
            }
          },
          "metadata": {},
          "execution_count": 2
        }
      ]
    },
    {
      "cell_type": "code",
      "source": [
        "# @title Functions\n",
        "\n",
        "# search through guidepost embeddings for vectors similar to the questions embeddings\n",
        "def strings_ranked_by_relatedness(\n",
        "    query: str,\n",
        "    df: pd.DataFrame,\n",
        "    relatedness_fn=lambda x, y: 1 - spatial.distance.cosine(x, y),\n",
        "    top_n: int = 20\n",
        ") -> tuple[list[str], list[float]]:\n",
        "    \"\"\"Returns a list of strings and relatednesses, sorted from most related to least.\"\"\"\n",
        "    query_embedding_response = openai.embeddings.create(\n",
        "        model=EMBEDDINGS_MODEL,\n",
        "        input=query,\n",
        "    )\n",
        "    query_embedding = query_embedding_response.data[0].embedding\n",
        "    strings_and_relatednesses = [\n",
        "        (row[\"context\"], relatedness_fn(query_embedding, row[\"embedding\"]))\n",
        "        for i, row in df.iterrows()\n",
        "    ]\n",
        "    strings_and_relatednesses.sort(key=lambda x: x[1], reverse=True)\n",
        "    strings, relatednesses = zip(*strings_and_relatednesses)\n",
        "    return strings[:top_n], relatednesses[:top_n]\n",
        "\n",
        "def num_tokens(text: str, model: str = COMPLETIONS_MODEL) -> int:\n",
        "    \"\"\"Return the number of tokens in a string.\"\"\"\n",
        "    encoding = tiktoken.encoding_for_model(model)\n",
        "    return len(encoding.encode(text))\n",
        "\n",
        "#     Format your whole answer as structured HTML.\n",
        "\n",
        "def query_message(\n",
        "    query: str,\n",
        "    df: pd.DataFrame,\n",
        "    model: str,\n",
        "    token_budget: int\n",
        ") -> str:\n",
        "    \"\"\"Return a message for GPT, with relevant source texts pulled from a dataframe.\"\"\"\n",
        "    print(\"-----------query_message\")\n",
        "    print(query)\n",
        "    print(model)\n",
        "\n",
        "    strings, relatednesses = strings_ranked_by_relatedness(query, df)\n",
        "    introduction = \"\"\"\n",
        "    You are a friendly chatbot assistant for The Washington Post's HR website called Guidepost.\n",
        "    Answer the following question using only the context below, offering links when available and appropriate.\n",
        "    All links should open a new tab.\n",
        "    Only give information related to the context. If you don't know the answer for certain, say 'I don't know the answer to that.'\n",
        "    \"\"\"\n",
        "    question = f\"\\n\\nQuestion: {query}\"\n",
        "    message = introduction\n",
        "    for string in strings:\n",
        "        next_article = f'\\n\\nContext:\\n\"\"\"\\n{string}\\n\"\"\"'\n",
        "        if (\n",
        "            num_tokens(message + next_article + question, model=model)\n",
        "            > token_budget\n",
        "        ):\n",
        "            break\n",
        "        else:\n",
        "            message += next_article\n",
        "\n",
        "    print(message)\n",
        "    return message + question\n",
        "\n",
        "\n",
        "def ask(\n",
        "    query: str,\n",
        "    df: pd.DataFrame = theData,\n",
        "    model = COMPLETIONS_MODEL,\n",
        "    token_budget: int = 4096 - 500,\n",
        "    print_message: bool = False,\n",
        ") -> str:\n",
        "    global COMPLETIONS_MODEL\n",
        "    print(\"-----------ask()\")\n",
        "    print(query)\n",
        "    print(model)\n",
        "\n",
        "    COMPLETIONS_MODEL = model\n",
        "\n",
        "    message = query_message(query, df, model=model, token_budget=token_budget)\n",
        "    if print_message:\n",
        "        print(message)\n",
        "    messages = [\n",
        "        {\"role\": \"system\", \"content\": \"Answer in the style of a friendly chatbot assistant for The Washington Post's HR website called Guidepost.\"},\n",
        "        {\"role\": \"user\", \"content\": message},\n",
        "    ]\n",
        "    response = openai.chat.completions.create(\n",
        "        model=COMPLETIONS_MODEL,\n",
        "        messages=messages,\n",
        "        temperature=0\n",
        "    )\n",
        "    # print('------------AI response')\n",
        "    # print(response)\n",
        "    response_message = response.choices[0].message.content\n",
        "    # print(response_message)\n",
        "    return response_message\n",
        "\n"
      ],
      "metadata": {
        "id": "7qoo6SGjl50d",
        "cellView": "form"
      },
      "execution_count": 10,
      "outputs": []
    },
    {
      "cell_type": "code",
      "source": [
        "# @title interface functions\n",
        "\n",
        "def ask_question(question, model):\n",
        "  return ask(query=question, model=model).replace(\"```html\", \"\").replace(\"```\", \"\")\n",
        "\n",
        "def respond(message, chat_history: list, modelName):\n",
        "  bot_message = ask_question(message, modelName)\n",
        "  # chat_history.append((message, bot_message))\n",
        "  return bot_message"
      ],
      "metadata": {
        "id": "OYLJo61EFL7Q",
        "cellView": "form"
      },
      "execution_count": 4,
      "outputs": []
    },
    {
      "cell_type": "code",
      "source": [
        "# @title examples\n",
        "\n",
        "exampleItems = [\n",
        "    [\"How do I figure out how much vacation time I have left?\"],\n",
        "    [\"Someone keeps sending me threatening emails, what should I do?\"],\n",
        "    [\"My supervisor gave me an unfair review. What should I do?\"],\n",
        "    [\"Is there a way for me to view that last town hall?\"],\n",
        "    [\"How does the post determine payscale?\"],\n",
        "    [\"Will I be forced to keep getting coronavirus boosters?\"],\n",
        "    [\"A coworker said something offensive to me. What should I do?\"],\n",
        "    [\"I am attracted to a coworker. Should I ask her on a date?\"],\n",
        "    [\"My boss called me stupid. Can I get him fired?\"],\n",
        "    [\"I want to change how much I contribute to my 401k. How can I do that?\"],\n",
        "    [\"What is the leadership project?\"],\n",
        "    [\"I need to file a SARS request. How can I do that?\"],\n",
        "    [\"I see a therapist. How can I pay with my insurance?\"],\n",
        "    [\"What is Taco Bell and what food do they offer?\"],\n",
        "    [\"When was George Washington born?\"],\n",
        "    [\"what is the Wash posts smoking policy?\"],\n",
        "    [\"Can I get in trouble with the Post for posting something on Facebook?\"],\n",
        "    [\"I need to look at my payslips?\"],\n",
        "    [\"When will I get my W2\"],\n",
        "    [\"Can I get my payslips mailed to me?\"],\n",
        "    [\"I need to file an expense. How can I do that?\"],\n",
        "    [\"Will the Post pay for my gym membership?\"],\n",
        "    [\"What is gympass?\"],\n",
        "    [\"I dont like where I am sitting at the Post. Can I change my seat?\"],\n",
        "    [\"Do I need to join the Guild?\"],\n",
        "    [\"What cultural programs does the post offer employees?\"],\n",
        "    [\"What holidays does the Post recognize?\"],\n",
        "    [\"Does the Post offer tax services?\"],\n",
        "    [\"Should illegal aliens be imprisoned before they are returned to their country?\"],\n",
        "    [\"How many calories are in the average hamburger?\"],\n",
        "    [\"How do I change my 401k amount?\"]\n",
        "]"
      ],
      "metadata": {
        "id": "uc021hBpuTwS"
      },
      "execution_count": 5,
      "outputs": []
    },
    {
      "cell_type": "markdown",
      "source": [
        "# Step 2 : Click play below\n",
        "\n",
        "When it is done running, if there are no errors, it will print out a sharable link, something like this:\n",
        "\n",
        "```Running on public URL: https://6bcf18eb5678c6f91f.gradio.live```\n",
        "\n",
        "Open that link in a new window. That is the link you will want to share as long as this colab is running."
      ],
      "metadata": {
        "id": "TpV3ikIbYQuh"
      }
    },
    {
      "cell_type": "code",
      "source": [
        "with gr.Blocks() as demo:\n",
        "    slider = gr.Radio([\"gpt-4-1106-preview\", \"gpt-3.5-turbo\"], value=COMPLETIONS_MODEL, label=\"Model\", interactive=True)\n",
        "    chat = gr.ChatInterface(respond, examples=exampleItems, additional_inputs=slider )\n",
        "demo.launch(debug=True)\n",
        "# demo.launch()"
      ],
      "metadata": {
        "colab": {
          "base_uri": "https://localhost:8080/",
          "height": 1000
        },
        "id": "2NYUrwWeI9mC",
        "outputId": "8a1cd58b-1f1c-4261-e869-452c83be42e9"
      },
      "execution_count": 11,
      "outputs": [
        {
          "output_type": "stream",
          "name": "stderr",
          "text": [
            "/usr/local/lib/python3.11/dist-packages/gradio/chat_interface.py:345: UserWarning: The 'tuples' format for chatbot messages is deprecated and will be removed in a future version of Gradio. Please set type='messages' instead, which uses openai-style 'role' and 'content' keys.\n",
            "  self.chatbot = Chatbot(\n"
          ]
        },
        {
          "output_type": "stream",
          "name": "stdout",
          "text": [
            "It looks like you are running Gradio on a hosted Jupyter notebook, which requires `share=True`. Automatically setting `share=True` (you can turn this off by setting `share=False` in `launch()` explicitly).\n",
            "\n",
            "Colab notebook detected. This cell will run indefinitely so that you can see errors and logs. To turn off, set debug=False in launch().\n",
            "* Running on public URL: https://728a1025a067ddb8db.gradio.live\n",
            "\n",
            "This share link expires in 1 week. For free permanent hosting and GPU upgrades, run `gradio deploy` from the terminal in the working directory to deploy to Hugging Face Spaces (https://huggingface.co/spaces)\n"
          ]
        },
        {
          "output_type": "display_data",
          "data": {
            "text/plain": [
              "<IPython.core.display.HTML object>"
            ],
            "text/html": [
              "<div><iframe src=\"https://728a1025a067ddb8db.gradio.live\" width=\"100%\" height=\"500\" allow=\"autoplay; camera; microphone; clipboard-read; clipboard-write;\" frameborder=\"0\" allowfullscreen></iframe></div>"
            ]
          },
          "metadata": {}
        },
        {
          "output_type": "stream",
          "name": "stdout",
          "text": [
            "-----------ask()\n",
            "Does the Post offer tax services?\n",
            "gpt-4-1106-preview\n",
            "-----------query_message\n",
            "Does the Post offer tax services?\n",
            "gpt-4-1106-preview\n",
            "\n",
            "    You are a friendly chatbot assistant for The Washington Post's HR website called Guidepost.\n",
            "    Answer the following question using only the context below, offering links when available and appropriate.\n",
            "    All links should open a new tab.\n",
            "    Only give information related to the context. If you don't know the answer for certain, say 'I don't know the answer to that.'\n",
            "    \n",
            "\n",
            "Context:\n",
            "\"\"\"\n",
            " Want to make filing your tax return easier and save money along the way? Check out these PostPerks that help you file your tax return in 2023. <a href=\"https://washpost.perkspot.com/merchant/1422/turbotax\">TurboTax</a>: Save up to an additional $20 and get your taxes done right <a href=\"https://washpost.perkspot.com/merchant/45660/taxslayer\">TaxSlayer</a>: Get 25% Off Your Federal E-File <a href=\"https://washpost.perkspot.com/merchant/910/h-r-block\">H&amp;R Block</a>: Receive 20% Off DIY Online Tax Filing Products Click the button below to find more discounts through the PostPerks program. Save now: https://washpost.perkspot.com/category/94\n",
            "\"\"\"\n",
            "\n",
            "Context:\n",
            "\"\"\"\n",
            " To help you and your family access legal services, The Post offers a paid, full-service option through ARAG Legal Services plus access to free services through our SupportLinc EAP. <a href=\"https://guidepost.washpost.com/pf/benefits_and_resources/my_benefits/arag-legal-and-financial\" target=\"_blank\">ARAG</a> <a href=\"https://guidepost.washpost.com/pf/benefits_and_resources/my_benefits/work_life/employee-assistance-program-work-life-benefits\" target=\"_blank\">SupportLinc EAP</a> <br/> <br/>\n",
            "\"\"\"\n",
            "\n",
            "Context:\n",
            "\"\"\"\n",
            " For longer-service employees (generally those hired before 2015), The Post provides this additional pension benefit. Like the SRA, this pension benefit accumulates with guaranteed interest, so it is a secure portion of your overall retirement portfolio. To view your current and projected benefits or to designate your beneficiaries, go to <a href=\"https://guidepost.washpost.com/pf/home\">GuidePost </a>&gt; Okta Apps &gt; Transamerica’s <a href=\"https://washpost.okta.com/home/thewashingtonpostandcompaniesprod_transamericaretirementserviceprd_1/0oa1g80rd7z89JKRE0h8/aln1g80w83cIr5dx80h8\">Pension Service Center</a>. <br/> Read More: https://guidepost.washpost.com/benefits_and_resources/my_benefits/cash_balance\n",
            "\"\"\"\n",
            "\n",
            "Context:\n",
            "\"\"\"\n",
            " If you are looking to expand your knowledge in your field or switch to a new path at The Post, tuition discounts from two local universities can help! Flexible online learning programs are also available — students can opt to take courses remotely or on campus. Learn More: https://guidepost.washpost.com/pf/benefits_and_resources/my_benefits/education-benefits <br/> A 529 plan allows you to invest after-tax money and withdraw it tax-free to pay for college expenses and K-12 tuition for either yourself or a beneficiary. To learn more about the benefits of using a 529 plan, read our own Michelle Singletary’s article <a href=\"https://www.washingtonpost.com/business/2019/12/12/even-if-your-child-is-just-few-years-away-college-its-not-too-late-fund-plan/\">Even if your child is just a few years away from college, it’s not too late to fund a 529 plan</a>. Use the <a href=\"https://washpost.okta.com/home/thewashingtonpostandcompaniesprod_gradvisor_1/0oa1e95tjdnNRFfnp0h8/aln1e9614ggteko9I0h8\">Post 529 platform</a> to maximize your education savings through contributions to a 529 plan. Get personalized advice based on your demographic information, plan performance, fees, taxes, what you can afford to save, and your tolerance for risk. After answering a short, confidential questionnaire, get expert advice and have your college savings plan funded in minutes. Gradvisor’s dashboard allows you to quickly and easily: Project future performance and likelihood of success in achieving savings goals Set a savings goal and receive timely suggestions on steps you can take to keep your investment on track Adjust factors such as monthly contributions to see how these changes affect your outcome In addition, Gradvisor provides access to a personal, licensed financial advisor who can provide insight and answers to your complex questions, including how to adjust your plan for a new child or changes in income. <b>Who can I designate as the beneficiary of my 529 plan?</b> You can designate anyone to be the beneficiary of your 529 accounts. And, you can change that beneficiary at any time. You may also designate yourself as the beneficiary and then change it to a child later. <b>How do I contribute to my 529 plan?</b> All contributions to a 529 plan are after-tax. You can contribute on an ad hoc or periodic basis from your personal checking/savings account. Even if you leave The Post, your 529 contributions will continue. <b>Can I choose my own investments?</b> The Post 529 platform will recommend an investment suited for you, however, you may also choose your own investment.\n",
            "\"\"\"\n",
            "\n",
            "Context:\n",
            "\"\"\"\n",
            " <i><b>A message from Wayne Connell, VP of Human Resources:</b></i> If you are based in our DC office (or if you happen to be in town), please join us for a welcome back celebration on Tuesday, March 15 from 1:30 to 3:30 p.m. on the fourth floor near The WP Live Center, where you will find food, music, socializing, and plenty of swag.&nbsp;We are also shipping swag and arranging for lunch in our satellite offices on this date. And on Friday, March 18, please join us again on the fourth floor from 9:00 to 11:00 a.m. for coffee and pastries, provided by&nbsp;<a href=\"https://www.slipstreamdc.com/\">Slipstream DC</a>. <b>Visitor Policy</b> We have received a number of questions on whether visitors are permitted in our office locations now.&nbsp;The short answer is “yes,”&nbsp;<b>IF</b>&nbsp;the visitor has a legitimate business need for visiting a Post facility, such as a source being interviewed, a client meeting with Post representatives, a candidate arriving for an interview, etc.&nbsp;Importantly, visitors must be fully vaccinated and boosted, and should be prepared to show their vaccination card or a photo of their card upon arrival. And please, no family members or friends should be invited to a Post facility, and we will not provide building tours except to newly hired employees. This is a policy we put in place before the pandemic, actually, as one of many steps taken to increase security. <b>Pandemic-era Hires</b> By now, you should have received communications from Cameron Booher in HR, providing many prescheduled opportunities for attending an orientation and getting a building tour and ID badge.&nbsp;Cameron and others here in HR will be hosting additional orientations next week as well, so if you haven’t already, please make sure you register for one. You can also reach out to&nbsp;<a href=\"mailto:cameron.booher@washpost.com\">Cameron</a>&nbsp;anytime with questions. <b>Technical Support</b> We are fortunate to have a hard-working, responsive, and dedicated Help Desk team here at The Post, whom you can reach by emailing&nbsp;<a href=\"mailto:helpdesk@washpost.com\">helpdesk@washpost.com</a>&nbsp;or dialing 4-HELP from any Post phone.&nbsp;However, please remember that next week will be the first time in two years that our offices will be relatively full.&nbsp;If you need tech support or are missing equipment, you can open a ticket through one of the channels above, but please be patient.&nbsp; It may take a few days to catch up on requests and restore our offices to a fully functional state. If you have a question, you are welcome to reach out to me, Tracy Grant, or Gregg Fernandes anytime.&nbsp;You can also send an email to&nbsp;<a href=\"mailto:questions@washpost.com\">questions@washpost.com</a>. Many thanks, Wayne\n",
            "\"\"\"\n",
            "\n",
            "Context:\n",
            "\"\"\"\n",
            " <b>Quick Link: Okta Apps &gt; </b><a href=\"https://washpost.okta.com/home/thewashingtonpostandcompaniesprod_perkspot_2/0oa1aseedpnpK5jh30h8/aln1aserhrkQ9o0Wj0h8\" target=\"_blank\"><b>PostPerks</b></a> Thousands of discounts on everyday items. Discounts on refinancing student loans (SoFi, Credible). Suggest additional discounts by clicking “Suggest a Merchant” in the top right corner. As a Post employee, you can get a <a href=\"https://promo.bankofamerica.com/BIP/#/washingtonpost\" target=\"_blank\">special bundle of no‑fee banking services</a>. All you need to do is set up your Washington Post payroll direct deposit into your existing or new eligible personal Bank of America checking or savings account to receive the special bundle on that account. The program offers: <b>No-fee banking benefits</b> <b>NO</b> Bank of America monthly maintenance fees <b>NO</b> non-Bank of America ATM fees (fees Bank of America charges you for using another bank’s ATM anywhere in the world) <b>NO</b> Bank of America domestic wire transfer fees <b>Additional services</b> 0.50% mortgage discount Access to investment products from Merrill One-on-one consultations with financial center specialist If you are an existing BoA customer for direct deposit, no action is required – these benefits will apply automatically, and you will receive a letter from BoA notifying you of these changes (you may already be eligible for some of BoA fee waivers as part of their Preferred Rewards Program). If you are not a BoA customer and would like to take advantage of these benefits, you can open a checking or savings account and set up your Washington Post payroll direct deposit into that account <a href=\"https://promo.bankofamerica.com/BIP/#/washingtonpost\">here</a>. <b>Available to Aetna members and all employees through the EAP.</b> <b>Quick Links:</b> <a href=\"https://discountmember.lifecare.com/registration/register1.rtml?service=registration&member=1&corp_or_ccode=NAVIGATOR\" target=\"_blank\"><b>Aetna</b></a> <a href=\"https://washpost.mysupportportal.com/savings-center/\" target=\"_blank\"><b>EAP</b></a> LifeMart is a discount shopping program that makes everyday life a little more affordable — and a lot more fun — with national and local discounts from the brands you know and love. The Savings Center provides real life savings on real life needs… child care… travel… tuition… groceries… school supplies… appliances… and all those little things in life that can add up. Whether you’re planning a major purchase like a car, home or vacation or just want to save on day-to-day essentials, SupportLinc is your lifeline. <br/>\n",
            "\"\"\"\n",
            "\n",
            "Context:\n",
            "\"\"\"\n",
            " <i><b>A message from Wayne Connell, VP of Human Resources:</b></i> To All Post Employees &amp; Contractors, Feelings of being stressed, overwhelmed and exhausted came through loud and clear in last week's town hall questions as well as the Coronavirus Impact Survey. Here are some resources to help you and your families cope: <b>Traumatic Events Support</b>: The aftermath of a traumatic event can be as difficult as the event itself. Please consider participating in one of our free 30-minute sessions with a dedicated counselor, available today, Wednesday and Friday of this week. Click <a href=\"https://www.doodle.com/poll/4z9ir9yky5x7iu5u\">here</a> to sign up. These sessions are in addition to the confidential 24/7 EAP hotline for phone counseling and free in-person sessions available to all employees, contractors and their family members. <b>Resources for Civil Unrest</b>: If you tend to process things on your own, here are <a href=\"https://s3.amazonaws.com/guidepost-img/uploads/Civil+Unrest+Resources.pdf\">resources</a> on how to stay safe during civil unrest, deal with a traumatic event, and help children cope with violence and disasters. <b>Virtual Mental Health Services</b>: The Post will pay for virtual mental health services through the end of this year for Aetna members. We will cover 100 percent of the cost for in-network providers and reimburse employees using out-of-network providers at $80/session. (These services are already free for Kaiser members. <b>Teladoc Mental Health Services</b>: Effective July 1, 2020, Aetna members will be able to use Teledoc not only for medical visits, but for therapy and psychiatry visits as well. Teledoc provides access to a nationwide network of counselors, and you will be able to work with the same counselor for the duration of your treatment. The cost of visits are comparable to the costs of Aetna’s network therapists (for therapists with an M.D. degree: $160 initial visit, $90 per session thereafter; for those without an M.D. degree: $80 per session). As described in item 3 above, The Post will pay these costs through the end of this year. <b>Virtual Summer Camp Discount</b>: To help juggle work and childcare, we have negotiated a 10 percent discount with one of our partners, HeadFirst, for virtual summer camps. More information about the camps and discount are coming this week, so please check GuidePost. You can review other wellness and mental health resources on <a href=\"https://guidepost.washpost.com/benefits_and_resources/my_benefits/work_life/eap-work-life-benefits\" target=_blank>GuidePost</a>. And if you have questions or suggestions, you’re welcome to reach out to me, Tracy Grant, or Gregg Fernandes anytime. We meet every day to discuss recent events and plan our next steps. You can also send an email to <a href=\"https://outlook.office.com/mail/search/id/questions@washpost.com\">questions@washpost.com</a>. Many Thanks, Wayne\n",
            "\"\"\"\n",
            "\n",
            "Context:\n",
            "\"\"\"\n",
            " <b>Am I allowed to have visitors at The Post’s office locations?</b> Yes, if the visitor has a legitimate business need for visiting a Post facility, such as a source being interviewed, a client meeting with Post representatives, a candidate arriving for an interview, etc. Importantly, visitors must be fully vaccinated and boosted, and should be prepared to show their vaccination card or a photo of their card upon arrival. And please, no family members or friends should be invited to a Post facility, and we will not provide building tours except to newly hired employees. This is a policy we put in place before the pandemic, actually, as one of many steps taken to increase security.\n",
            "\"\"\"\n",
            "\n",
            "Context:\n",
            "\"\"\"\n",
            " The Post-sponsored 401(k) plan helps you to invest for retirement and reduce your taxes. Your 401(k) will provide a significant portion of your retirement income, so be sure to save enough and invest wisely. If you’re unsure, we’re here to help. To change your savings rate, view your current balance, designate your beneficiaries, or manage your investments, go to <a href=\"https://guidepost.washpost.com/pf/home\">GuidePost </a>&gt; Okta Apps &gt; <a href=\"https://washpost.okta.com/home/thewashingtonpostandcompaniesprod_vanguard_3/0oa1e7vb7q8XtIIUx0h8/aln1e7vk9ba4Tgt050h8\">Vanguard</a>. <br/> Read More: https://guidepost.washpost.com/benefits_and_resources/my_benefits/401k-plan\n",
            "\"\"\"\n",
            "Keyboard interruption in main thread... closing server.\n",
            "Killing tunnel 127.0.0.1:7861 <> https://728a1025a067ddb8db.gradio.live\n"
          ]
        },
        {
          "output_type": "execute_result",
          "data": {
            "text/plain": []
          },
          "metadata": {},
          "execution_count": 11
        }
      ]
    },
    {
      "cell_type": "markdown",
      "source": [
        "\n",
        "\n",
        "---\n",
        "\n",
        "<BR><BR>\n",
        "\n",
        "**Everything below is not necessary for running the chatbot.**\n",
        "\n",
        "<BR><BR>\n",
        "\n",
        "---\n",
        "\n",
        "\n"
      ],
      "metadata": {
        "id": "IFS69HRLDynb"
      }
    },
    {
      "cell_type": "markdown",
      "source": [
        "# Testing"
      ],
      "metadata": {
        "id": "PgjhoYAfGuIa"
      }
    },
    {
      "cell_type": "code",
      "source": [
        "# @title Show Guidepost data that might answer our question\n",
        "\n",
        "strings, relatednesses = strings_ranked_by_relatedness(\"how to change my 401k?\", theData, top_n=5)\n",
        "\n",
        "for string, relatedness in zip(strings, relatednesses):\n",
        "    print(f\"{relatedness=:.3f}\")\n",
        "    display(string)"
      ],
      "metadata": {
        "colab": {
          "base_uri": "https://localhost:8080/",
          "height": 716
        },
        "id": "1pAM3h-RoFPb",
        "outputId": "a31b2e40-2e12-4198-bf69-aa7aa8eb247e"
      },
      "execution_count": 12,
      "outputs": [
        {
          "output_type": "stream",
          "name": "stdout",
          "text": [
            "relatedness=0.865\n"
          ]
        },
        {
          "output_type": "display_data",
          "data": {
            "text/plain": [
              "' You can make changes to your 401(k) at any time. <b>Changing your savings rate</b> Go to&nbsp;<a href=\"https://guidepost.washpost.com/pf/home\">GuidePost&nbsp;</a>&gt; Okta apps &gt;&nbsp;<a href=\"https://washpost.okta.com/home/thewashingtonpostandcompaniesprod_vanguard_3/0oa1e7vb7q8XtIIUx0h8/aln1e7vk9ba4Tgt050h8\">Vanguard</a>. Once you are logged in to your account in our plan, select MANAGE MY MONEY &gt; Change My Paycheck Deduction. Please confirm paycheck deductions from your payslip on or after the effective date. <b>Adjusting your investments</b> To change how your future contributions are invested, go to <a href=\"https://guidepost.washpost.com/pf/home\">GuidePost&nbsp;</a>&gt; Okta apps &gt; <a href=\"https://washpost.okta.com/home/thewashingtonpostandcompaniesprod_vanguard_3/0oa1e7vb7q8XtIIUx0h8/aln1e7vk9ba4Tgt050h8\">Vanguard</a>. Once you’re logged in select MANAGE MY MONEY &gt; Change my investments &gt; Change paycheck investment mix. Once you complete this step, you’ll be asked if you want to rebalance your entire portfolio to match your new contribution allocations. <b>Designating beneficiaries</b> To designate or edit your beneficiaries, go to&nbsp;<a href=\"https://guidepost.washpost.com/pf/home\">GuidePost</a>&nbsp;&gt; Okta apps &gt;&nbsp;<a href=\"https://washpost.okta.com/home/thewashingtonpostandcompaniesprod_vanguard_3/0oa1e7vb7q8XtIIUx0h8/aln1e7vk9ba4Tgt050h8\">Vanguard</a>. Once you’re logged in to your account in our plan, select MENU &gt; My Profile &gt; Beneficiaries. <b>Rolling over money from a previous employer’s plan or an IRA into your 401(k)</b> First, contact the current holder of your account and have them send you a rollover check made payable to Vanguard Fiduciary Trust Co., for the benefit of [your name] (or simply, “VFTC, FBO [your name]”). Then, go to&nbsp;<a href=\"https://guidepost.washpost.com/pf/home\">GuidePost</a>&nbsp;&gt; Okta apps &gt;&nbsp;<a href=\"https://washpost.okta.com/home/thewashingtonpostandcompaniesprod_vanguard_3/0oa1e7vb7q8XtIIUx0h8/aln1e7vk9ba4Tgt050h8\">Vanguard</a>. Once you are logged in to your account in our plan, select MANAGE MY MONEY &gt; Move Money Into This Plan. <b>Converting assets to Roth</b> To convert in-plan assets to Roth, go to&nbsp;<a href=\"https://guidepost.washpost.com/pf/home\">GuidePost</a>&nbsp;&gt; Okta apps &gt;&nbsp;<a href=\"https://washpost.okta.com/home/thewashingtonpostandcompaniesprod_vanguard_3/0oa1e7vb7q8XtIIUx0h8/aln1e7vk9ba4Tgt050h8\">Vanguard</a>. Once you are logged in to your account in our plan, select MANAGE MY MONEY &gt; Covert to Roth. The IRS does not limit in-plan Roth conversions, either the amount you convert or how often you convert. Also, unlike contributions to a Roth IRA, the IRS does not restrict Roth contributions based on your income. You may want to increase your tax withholding in&nbsp;<a href=\"https://wd5.myworkday.com/washpost/d/home.htmld\">Workday</a>&nbsp;or make an estimated tax payment when you complete an in-plan Roth conversion. Your annual income tax filing will include additional earnings (and may result in additional taxes due). When you convert traditional after-tax assets to Roth, you will incur taxable income equal to only the investment earnings on your after-tax assets, but not the contributions, as you have already paid taxes on those. When you convert pre-tax assets to Roth, you will incur taxable income equal to the entire amount of the conversion.'"
            ],
            "application/vnd.google.colaboratory.intrinsic+json": {
              "type": "string"
            }
          },
          "metadata": {}
        },
        {
          "output_type": "stream",
          "name": "stdout",
          "text": [
            "relatedness=0.842\n"
          ]
        },
        {
          "output_type": "display_data",
          "data": {
            "text/plain": [
              "' <b>How do I sign up?</b> You can enroll in the 401(k) at any time (<a href=\"https://guidepost.washpost.com/pf/home\">GuidePost </a>&gt; Okta apps &gt; <a href=\"https://washpost.okta.com/home/thewashingtonpostandcompaniesprod_vanguard_3/0oa1e7vb7q8XtIIUx0h8/aln1e7vk9ba4Tgt050h8\" target=\"_blank\">Vanguard</a>). You may be asked to enter some personal information and input The Post’s plan number, 094181, then to make deferral and investment elections. Please confirm on your first payslip on or after the effective date. <b>How much does the company match?</b> The company matches $0.50 on the dollar on the first 6 percent of pay that you invest on a combined pre-tax/Roth basis. <b>How do I change my contribution rate?</b> Go to <a href=\"https://guidepost.washpost.com/pf/home\">GuidePost </a>&gt; Okta apps &gt; <a href=\"https://washpost.okta.com/home/thewashingtonpostandcompaniesprod_vanguard_3/0oa1e7vb7q8XtIIUx0h8/aln1e7vk9ba4Tgt050h8\" target=\"_blank\">Vanguard</a>. Once you’re logged in to your account in our plan, select MANAGE MY MONEY &gt; Change my paycheck deduction. Please confirm paycheck deductions from your payslip on or after the effective date. <b>Where can I find my investment options?</b> To see a full list of the funds in our plan, go to <a href=\"https://guidepost.washpost.com/pf/home\">GuidePost </a>&gt; Okta apps &gt; <a href=\"https://washpost.okta.com/home/thewashingtonpostandcompaniesprod_vanguard_3/0oa1e7vb7q8XtIIUx0h8/aln1e7vk9ba4Tgt050h8\" target=\"_blank\">Vanguard</a>. Once you are logged in to your account in our plan, select MENU &gt; Research Funds &gt; Funds in My Plan. <b>How can I designate my beneficiaries?</b> To designate or edit your beneficiaries, go to <a href=\"https://guidepost.washpost.com/pf/home\">GuidePost</a> &gt; Okta apps &gt; <a href=\"https://washpost.okta.com/home/thewashingtonpostandcompaniesprod_vanguard_3/0oa1e7vb7q8XtIIUx0h8/aln1e7vk9ba4Tgt050h8\" target=\"_blank\">Vanguard</a>. Once you are logged in to your account in our plan, select MENU &gt; My Profile &gt; Beneficiaries. <b>How do I roll over money from a previous employer plan or IRA into my 401(k)?</b> First, contact the current holder of your account and have them send you a rollover check made payable to Vanguard Fiduciary Trust Company, for the benefit of [your name] (or simply, “VFTC, FBO [your name]”). Then, go to <a href=\"https://guidepost.washpost.com/pf/home\">GuidePost </a>&gt; Okta apps &gt; <a href=\"https://washpost.okta.com/home/thewashingtonpostandcompaniesprod_vanguard_3/0oa1e7vb7q8XtIIUx0h8/aln1e7vk9ba4Tgt050h8\" target=\"_blank\">Vanguard</a>. Once you are logged in to your account in our plan, select MANAGE MY MONEY &gt; Move money into this plan. <b>Are company matching contributions on Roth deferrals pre-tax?</b> Yes, all company matching contributions are pre-tax. <b>Will the company match both my pre-tax and Roth contributions?</b> No, the company matches your combined pre-tax and Roth contributions. <b>How can I convert investments to Roth?</b> The IRS does not limit in-plan Roth conversions, either the amount you convert or how often you convert. Also, unlike contributions to an Roth IRA, the IRS does not restrict Roth contributions based on your income. To convert in-plan assets to Roth, go to <a href=\"https://guidepost.washpost.com/pf/home\">GuidePost </a>&gt; Okta apps &gt; <a href=\"https://washpost.okta.com/home/thewashingtonpostandcompaniesprod_vanguard_3/0oa1e7vb7q8XtIIUx0h8/aln1e7vk9ba4Tgt050h8\" target=\"_blank\">Vanguard</a>. Once you are logged in to your account in our plan, select MANAGE MY MONEY &gt; Convert to Roth. You may want to increase your tax withholding in <a href=\"https://wd5.myworkday.com/washpost/d/home.htmld\">Workday</a> or make an estimated tax payment when you complete an in-plan Roth conversion. Your annual income tax filing will include additional earnings (and may result in additional taxes due). When you convert traditional after-tax assets to Roth, you will incur taxable income equal to just the investment earnings on your after-tax assets, but not the contributions, as you have already paid taxes on those. When you convert pre-tax assets to Roth, you will incur taxable income equal to the entire amount of the conversion. <b>What happens with my 401(k) when I leave the company?</b> You may withdraw your 401(k) balance immediately upon leaving the company or you can leave it in our plan until your 65th birthday. <b>Submit a Benefits FAQ</b> If you have a question that should be added to this section, email <a href=\"mailto:benefits@washpost.com\">benefits@washpost.com</a>.'"
            ],
            "application/vnd.google.colaboratory.intrinsic+json": {
              "type": "string"
            }
          },
          "metadata": {}
        },
        {
          "output_type": "stream",
          "name": "stdout",
          "text": [
            "relatedness=0.842\n"
          ]
        },
        {
          "output_type": "display_data",
          "data": {
            "text/plain": [
              "' <b>How do I sign up?</b> You can enroll in the 401(k) at any time (<a href=\"https://guidepost.washpost.com/pf/home\">GuidePost </a>&gt; Okta apps &gt; <a href=\"https://washpost.okta.com/home/thewashingtonpostandcompaniesprod_vanguard_3/0oa1e7vb7q8XtIIUx0h8/aln1e7vk9ba4Tgt050h8\" target=\"_blank\">Vanguard</a>). You may be asked to enter some personal information and input The Post’s plan number, 094181, then to make deferral and investment elections. Please confirm on your first payslip on or after the effective date. <b>How much does the company match?</b> The company may make matching contributions to your account. Different groups of employees receive different contributions. Company matching contributions provide an additional incentive for you to participate in the plan.,\\r\\nTable:\\r\\nEmployee Group,Condition,Percent of Base Salary Matched,Year of Service Required\\r\\nCraft union electricians,N/A,1%,No\\r\\nCraft union engineers, carpenters and painters,Hired before July 15, 2011,4.5%,Yes\\r\\nCraft union engineers, carpenters and painters,Hired on or after July 15, 2011,3%,Yes\\r\\nCraft union machinists,N/A,3%,No\\r\\nCraft union mailers and engravers*,N/A,No match,N/A\\r\\nCraft union mailroom helpers, paper handlers and general workers,Hired before Jan. 1, 2009,4%,Yes\\r\\nCraft union mailroom helpers, paper handlers and general workers,Hired on or after Jan. 1, 2009,3%,Yes\\r\\n *Craft union utility mailers do not receive a match but, after one eligibility year of service, do receive a company contribution that is made whether they contribute or not (and is otherwise the same as a matching contribution). For these employees, the company contribution is 1 percent of base salary plus $1.07143 per hour for which the employee is paid (up to 35 hours per week). <b>How do I change my contribution rate?</b> Go to <a href=\"https://guidepost.washpost.com/pf/home\">GuidePost </a>&gt; Okta apps &gt; <a href=\"https://washpost.okta.com/home/thewashingtonpostandcompaniesprod_vanguard_3/0oa1e7vb7q8XtIIUx0h8/aln1e7vk9ba4Tgt050h8\" target=\"_blank\">Vanguard</a>. Once you are logged in to your account in our plan, select MANAGE MY MONEY &gt; Change my paycheck deduction. Please confirm paycheck deductions from your payslip on or after the effective date. <b>Where can I find my investment options?</b> To see a full list of the funds in our plan, go to <a href=\"https://guidepost.washpost.com/pf/home\">GuidePost</a> &gt; Okta apps &gt; <a href=\"https://washpost.okta.com/home/thewashingtonpostandcompaniesprod_vanguard_3/0oa1e7vb7q8XtIIUx0h8/aln1e7vk9ba4Tgt050h8\" target=\"_blank\">Vanguard</a>. Once you are logged in to your account in our plan, select MENU &gt; Research Funds &gt; Funds in My Plan. <b>How can I designate my beneficiaries?</b> To designate or edit your beneficiaries, go to <a href=\"https://guidepost.washpost.com/pf/home\">GuidePost</a> &gt; Okta apps &gt; <a href=\"https://washpost.okta.com/home/thewashingtonpostandcompaniesprod_vanguard_3/0oa1e7vb7q8XtIIUx0h8/aln1e7vk9ba4Tgt050h8\" target=\"_blank\">Vanguard</a>. Once you are logged in to your account in our plan, select MENU &gt; My Profile &gt; Beneficiaries. <b>How do I roll over money from a previous employer plan or IRA into my 401(k)?</b> First, contact the current holder of your account and have them send you a rollover check made payable to Vanguard Fiduciary Trust Company, for the benefit of [your name] (or simply, “VFTC, FBO [your name]”). Then, go to <a href=\"https://guidepost.washpost.com/pf/home\">GuidePost</a> &gt; Okta apps &gt; <a href=\"https://washpost.okta.com/home/thewashingtonpostandcompaniesprod_vanguard_3/0oa1e7vb7q8XtIIUx0h8/aln1e7vk9ba4Tgt050h8\" target=\"_blank\">Vanguard</a>. Once you are logged in to your account in our plan, select MANAGE MY MONEY &gt; Move money into this plan. <b>Are company matching contributions on Roth deferrals pre-tax?</b> Yes, all company matching contributions are pre-tax. <b>Will the company match both my pre-tax and Roth contributions?</b> No, the company matches your combined pre-tax and Roth contributions. <b>How can I convert investments to Roth?</b> The IRS does not limit in-plan Roth conversions, either the amount you convert or how often you convert. Also, unlike contributions to an Roth IRA, the IRS does not restrict Roth contributions based on your income. To convert in-plan assets to Roth, go to <a href=\"https://guidepost.washpost.com/pf/home\">GuidePost </a>&gt; Okta apps &gt; <a href=\"https://washpost.okta.com/home/thewashingtonpostandcompaniesprod_vanguard_3/0oa1e7vb7q8XtIIUx0h8/aln1e7vk9ba4Tgt050h8\" target=\"_blank\">Vanguard</a>. Once you are logged in to your account in our plan, select MANAGE MY MONEY &gt; Convert to Roth. You may want to increase your tax withholding in <a href=\"https://wd5.myworkday.com/washpost/d/home.htmld\" target=\"_blank\">Workday</a> or make an estimated tax payment when you complete an in-plan Roth conversion. Your annual income tax filing will include additional earnings (and may result in additional taxes due). When you convert traditional after-tax assets to Roth, you will incur taxable income equal to just the investment earnings on your after-tax assets, but not the contributions, as you have already paid taxes on those. When you convert pre-tax assets to Roth, you will incur taxable income equal to the entire amount of the conversion. <b>What happens with my 401(k) when I leave the company?</b> You may withdraw your 401(k) balance immediately upon leaving the company or you can leave it in our plan until your 65th birthday. <b>Submit a Benefits FAQ</b> If you have a question that should be added to this section, email <a href=\"mailto:benefits@washpost.com\">benefits@washpost.com</a>. <br/>'"
            ],
            "application/vnd.google.colaboratory.intrinsic+json": {
              "type": "string"
            }
          },
          "metadata": {}
        },
        {
          "output_type": "stream",
          "name": "stdout",
          "text": [
            "relatedness=0.841\n"
          ]
        },
        {
          "output_type": "display_data",
          "data": {
            "text/plain": [
              "' <b>How do I sign up?</b> You can enroll in the 401(k) at any time (<a href=\"https://guidepost.washpost.com/pf/home\">GuidePost </a>&gt; Okta apps &gt; <a href=\"https://washpost.okta.com/home/thewashingtonpostandcompaniesprod_vanguard_3/0oa1e7vb7q8XtIIUx0h8/aln1e7vk9ba4Tgt050h8\" target=\"_blank\">Vanguard</a>). You may be asked to enter some personal information and input The Post’s plan number, 094181, then to make deferral and investment elections. Please confirm on your first payslip on or after the effective date. <b>How much does the company match?</b> The company matches $0.50 on the dollar on the first 6 percent of pay you invest on a combined pre-tax/Roth basis. <b>How do I change my contribution rate?</b> Go to <a href=\"https://guidepost.washpost.com/pf/home\">GuidePost </a>&gt; Okta apps &gt; <a href=\"https://washpost.okta.com/home/thewashingtonpostandcompaniesprod_vanguard_3/0oa1e7vb7q8XtIIUx0h8/aln1e7vk9ba4Tgt050h8\" target=\"_blank\">Vanguard</a>. Once you are logged in to your account in our plan, select MANAGE MY MONEY &gt; Change My Paycheck Deduction. Please confirm paycheck deductions from your payslip on or after the effective date. <b>Where can I find my investment options?</b> To see a full list of the funds in our plan, go to <a href=\"https://guidepost.washpost.com/pf/home\">GuidePost</a> &gt; Okta apps &gt; <a href=\"https://washpost.okta.com/home/thewashingtonpostandcompaniesprod_vanguard_3/0oa1e7vb7q8XtIIUx0h8/aln1e7vk9ba4Tgt050h8\" target=\"_blank\">Vanguard</a>. Once you are logged in to your account in our plan, select MENU &gt; Research Funds &gt; Funds in My Plan. <b>How can I designate my beneficiaries?</b> To designate or edit your beneficiaries, go to <a href=\"https://guidepost.washpost.com/pf/home\">GuidePost</a> &gt; Okta apps &gt; <a href=\"https://washpost.okta.com/home/thewashingtonpostandcompaniesprod_vanguard_3/0oa1e7vb7q8XtIIUx0h8/aln1e7vk9ba4Tgt050h8\" target=\"_blank\">Vanguard</a>. Once you’re logged in to your account in our plan, select MENU &gt; My Profile &gt; Beneficiaries. <b>How do I roll over money from a previous employer’s plan or an IRA into my 401(k)?</b> First, contact the current holder of your account and have them send you a rollover check made payable to Vanguard Fiduciary Trust Co., for the benefit of [your name] (or simply, “VFTC, FBO [your name]”). Then, go to <a href=\"https://guidepost.washpost.com/pf/home\">GuidePost</a> &gt; Okta apps &gt; <a href=\"https://washpost.okta.com/home/thewashingtonpostandcompaniesprod_vanguard_3/0oa1e7vb7q8XtIIUx0h8/aln1e7vk9ba4Tgt050h8\" target=\"_blank\">Vanguard</a>. Once you are logged in to your account in our plan, select MANAGE MY MONEY &gt; Move Money Into This Plan. <b>Are company matching contributions on Roth deferrals pre-tax?</b> Yes, all company matching contributions are pre-tax. <b>Will the company match both my pre-tax and Roth contributions?</b> No, the company matches your combined pre-tax and Roth contributions. <b>How can I convert investments to Roth?</b> The IRS does not limit in-plan Roth conversions, either the amount you convert or how often you convert. Also, unlike contributions to a Roth IRA, the IRS does not restrict Roth contributions based on your income. To convert in-plan assets to Roth, go to <a href=\"https://guidepost.washpost.com/pf/home\">GuidePost</a> &gt; Okta apps &gt; <a href=\"https://washpost.okta.com/home/thewashingtonpostandcompaniesprod_vanguard_3/0oa1e7vb7q8XtIIUx0h8/aln1e7vk9ba4Tgt050h8\" target=\"_blank\">Vanguard</a>. Once you are logged in to your account in our plan, select MANAGE MY MONEY &gt; Convert to Roth. You may want to increase your tax withholding in <a href=\"https://wd5.myworkday.com/washpost/d/home.htmld\" target=\"_blank\">Workday</a> or make an estimated tax payment when you complete an in-plan Roth conversion. Your annual income tax filing will include additional earnings (and may result in additional taxes due). When you convert traditional after-tax assets to Roth, you will incur taxable income equal to only the investment earnings on your after-tax assets, but not the contributions, as you have already paid taxes on those. When you convert pre-tax assets to Roth, you will incur taxable income equal to the entire amount of the conversion. <b>What happens to my 401(k) when I leave the company?</b> You may withdraw your 401(k) balance immediately upon leaving the company or you can leave it in our plan until your 65th birthday. <b>Submit a Benefits FAQ</b> If you have a question that should be added to this section, email <a href=\"mailto:benefits@washpost.com\">benefits@washpost.com</a>.'"
            ],
            "application/vnd.google.colaboratory.intrinsic+json": {
              "type": "string"
            }
          },
          "metadata": {}
        },
        {
          "output_type": "stream",
          "name": "stdout",
          "text": [
            "relatedness=0.839\n"
          ]
        },
        {
          "output_type": "display_data",
          "data": {
            "text/plain": [
              "' <b>Enrollment</b> You can enroll in the 401(k) at any time (<a href=\"https://guidepost.washpost.com/pf/home\">GuidePost </a>&gt; Okta apps &gt; <a href=\"https://washpost.okta.com/home/thewashingtonpostandcompaniesprod_vanguard_3/0oa1e7vb7q8XtIIUx0h8/aln1e7vk9ba4Tgt050h8\" target=\"_blank\">Vanguard</a>). You will be asked to enter some personal information and input The Post’s plan number, 094181, then to make deferral and investment elections. Please confirm paycheck deductions from your payslip on or after the effective date. For employees hired on or after March 1, 2018, if you do not enroll when first eligible, you will be enrolled automatically to contribute 6 percent of eligible pay on a pre-tax basis. Your contribution percentage will increase by one percentage point each April thereafter, until it reaches 10 percent or until you complete an online enrollment. Until you select your own investments, your contributions will be invested in the default fund, which is the Vanguard target date fund that is most appropriate for your age. You cannot participate in the 401(k) plan if you are: An independent contractor. A casual or temporary employee. Not a U.S. resident and have no U.S. income. <b>Online account</b> <a href=\"https://washpost.okta.com/home/thewashingtonpostandcompaniesprod_vanguard_3/0oa1e7vb7q8XtIIUx0h8/aln1e7vk9ba4Tgt050h8\" target=\"_blank\">Vanguard</a> View your account balance. Designate your beneficiaries. Model your retirement incorporating your 401(k) and other assets. Review retirement education materials. <b>Learn more</b> <a href=\"https://s3.amazonaws.com/guidepost-img/uploads/401(k)+SPD+2022+05+04+FINAL.pdf\" target=\"_blank\">401(k) Summary Plan Description</a> <br/>'"
            ],
            "application/vnd.google.colaboratory.intrinsic+json": {
              "type": "string"
            }
          },
          "metadata": {}
        }
      ]
    },
    {
      "cell_type": "code",
      "source": [
        "# @title manually ask question\n",
        "\n",
        "# set print_message=True to see the source text GPT was working off of\n",
        "ask('How do i change my 401k?', print_message=True)\n",
        "\n",
        "# ask('How do i change my 401k?')"
      ],
      "metadata": {
        "colab": {
          "base_uri": "https://localhost:8080/",
          "height": 559
        },
        "id": "IXnMfJA3mvcL",
        "outputId": "213b3b9d-d58d-4136-b109-2336e80da4b7",
        "cellView": "form"
      },
      "execution_count": null,
      "outputs": [
        {
          "output_type": "stream",
          "name": "stdout",
          "text": [
            "-----------ask()\n",
            "How do i change my 401k?\n",
            "gpt-3.5-turbo\n",
            "-----------query_message\n",
            "How do i change my 401k?\n",
            "gpt-3.5-turbo\n",
            "\n",
            "    You are a friendly chatbot assistant for The Washington Post's HR website called Guidepost. \n",
            "    Answer the following question using only the context below, offering links when available and appropriate.\n",
            "    All links should open a new tab.\n",
            "    Only give information related to the context. If you don't know the answer for certain, say 'I don't know the answer to that.'\n",
            "    \n",
            "\n",
            "Context:\n",
            "\"\"\"\n",
            " You can make changes to your 401(k) at any time. <b>Changing your savings rate</b> Go to&nbsp;<a href=\"https://guidepost.washpost.com/pf/home\">GuidePost&nbsp;</a>&gt; Okta apps &gt;&nbsp;<a href=\"https://washpost.okta.com/home/thewashingtonpostandcompaniesprod_vanguard_3/0oa1e7vb7q8XtIIUx0h8/aln1e7vk9ba4Tgt050h8\">Vanguard</a>. Once you are logged in to your account in our plan, select MANAGE MY MONEY &gt; Change My Paycheck Deduction. Please confirm paycheck deductions from your payslip on or after the effective date. <b>Adjusting your investments</b> To change how your future contributions are invested, go to <a href=\"https://guidepost.washpost.com/pf/home\">GuidePost&nbsp;</a>&gt; Okta apps &gt; <a href=\"https://washpost.okta.com/home/thewashingtonpostandcompaniesprod_vanguard_3/0oa1e7vb7q8XtIIUx0h8/aln1e7vk9ba4Tgt050h8\">Vanguard</a>. Once you’re logged in select MANAGE MY MONEY &gt; Change my investments &gt; Change paycheck investment mix. Once you complete this step, you’ll be asked if you want to rebalance your entire portfolio to match your new contribution allocations. <b>Designating beneficiaries</b> To designate or edit your beneficiaries, go to&nbsp;<a href=\"https://guidepost.washpost.com/pf/home\">GuidePost</a>&nbsp;&gt; Okta apps &gt;&nbsp;<a href=\"https://washpost.okta.com/home/thewashingtonpostandcompaniesprod_vanguard_3/0oa1e7vb7q8XtIIUx0h8/aln1e7vk9ba4Tgt050h8\">Vanguard</a>. Once you’re logged in to your account in our plan, select MENU &gt; My Profile &gt; Beneficiaries. <b>Rolling over money from a previous employer’s plan or an IRA into your 401(k)</b> First, contact the current holder of your account and have them send you a rollover check made payable to Vanguard Fiduciary Trust Co., for the benefit of [your name] (or simply, “VFTC, FBO [your name]”). Then, go to&nbsp;<a href=\"https://guidepost.washpost.com/pf/home\">GuidePost</a>&nbsp;&gt; Okta apps &gt;&nbsp;<a href=\"https://washpost.okta.com/home/thewashingtonpostandcompaniesprod_vanguard_3/0oa1e7vb7q8XtIIUx0h8/aln1e7vk9ba4Tgt050h8\">Vanguard</a>. Once you are logged in to your account in our plan, select MANAGE MY MONEY &gt; Move Money Into This Plan. <b>Converting assets to Roth</b> To convert in-plan assets to Roth, go to&nbsp;<a href=\"https://guidepost.washpost.com/pf/home\">GuidePost</a>&nbsp;&gt; Okta apps &gt;&nbsp;<a href=\"https://washpost.okta.com/home/thewashingtonpostandcompaniesprod_vanguard_3/0oa1e7vb7q8XtIIUx0h8/aln1e7vk9ba4Tgt050h8\">Vanguard</a>. Once you are logged in to your account in our plan, select MANAGE MY MONEY &gt; Covert to Roth. The IRS does not limit in-plan Roth conversions, either the amount you convert or how often you convert. Also, unlike contributions to a Roth IRA, the IRS does not restrict Roth contributions based on your income. You may want to increase your tax withholding in&nbsp;<a href=\"https://wd5.myworkday.com/washpost/d/home.htmld\">Workday</a>&nbsp;or make an estimated tax payment when you complete an in-plan Roth conversion. Your annual income tax filing will include additional earnings (and may result in additional taxes due). When you convert traditional after-tax assets to Roth, you will incur taxable income equal to only the investment earnings on your after-tax assets, but not the contributions, as you have already paid taxes on those. When you convert pre-tax assets to Roth, you will incur taxable income equal to the entire amount of the conversion.\n",
            "\"\"\"\n",
            "\n",
            "Context:\n",
            "\"\"\"\n",
            " <b>How do I sign up?</b> You can enroll in the 401(k) at any time (<a href=\"https://guidepost.washpost.com/pf/home\">GuidePost </a>&gt; Okta apps &gt; <a href=\"https://washpost.okta.com/home/thewashingtonpostandcompaniesprod_vanguard_3/0oa1e7vb7q8XtIIUx0h8/aln1e7vk9ba4Tgt050h8\" target=\"_blank\">Vanguard</a>). You may be asked to enter some personal information and input The Post’s plan number, 094181, then to make deferral and investment elections. Please confirm on your first payslip on or after the effective date. <b>How much does the company match?</b> The company matches $0.50 on the dollar on the first 6 percent of pay that you invest on a combined pre-tax/Roth basis. <b>How do I change my contribution rate?</b> Go to <a href=\"https://guidepost.washpost.com/pf/home\">GuidePost </a>&gt; Okta apps &gt; <a href=\"https://washpost.okta.com/home/thewashingtonpostandcompaniesprod_vanguard_3/0oa1e7vb7q8XtIIUx0h8/aln1e7vk9ba4Tgt050h8\" target=\"_blank\">Vanguard</a>. Once you’re logged in to your account in our plan, select MANAGE MY MONEY &gt; Change my paycheck deduction. Please confirm paycheck deductions from your payslip on or after the effective date. <b>Where can I find my investment options?</b> To see a full list of the funds in our plan, go to <a href=\"https://guidepost.washpost.com/pf/home\">GuidePost </a>&gt; Okta apps &gt; <a href=\"https://washpost.okta.com/home/thewashingtonpostandcompaniesprod_vanguard_3/0oa1e7vb7q8XtIIUx0h8/aln1e7vk9ba4Tgt050h8\" target=\"_blank\">Vanguard</a>. Once you are logged in to your account in our plan, select MENU &gt; Research Funds &gt; Funds in My Plan. <b>How can I designate my beneficiaries?</b> To designate or edit your beneficiaries, go to <a href=\"https://guidepost.washpost.com/pf/home\">GuidePost</a> &gt; Okta apps &gt; <a href=\"https://washpost.okta.com/home/thewashingtonpostandcompaniesprod_vanguard_3/0oa1e7vb7q8XtIIUx0h8/aln1e7vk9ba4Tgt050h8\" target=\"_blank\">Vanguard</a>. Once you are logged in to your account in our plan, select MENU &gt; My Profile &gt; Beneficiaries. <b>How do I roll over money from a previous employer plan or IRA into my 401(k)?</b> First, contact the current holder of your account and have them send you a rollover check made payable to Vanguard Fiduciary Trust Company, for the benefit of [your name] (or simply, “VFTC, FBO [your name]”). Then, go to <a href=\"https://guidepost.washpost.com/pf/home\">GuidePost </a>&gt; Okta apps &gt; <a href=\"https://washpost.okta.com/home/thewashingtonpostandcompaniesprod_vanguard_3/0oa1e7vb7q8XtIIUx0h8/aln1e7vk9ba4Tgt050h8\" target=\"_blank\">Vanguard</a>. Once you are logged in to your account in our plan, select MANAGE MY MONEY &gt; Move money into this plan. <b>Are company matching contributions on Roth deferrals pre-tax?</b> Yes, all company matching contributions are pre-tax. <b>Will the company match both my pre-tax and Roth contributions?</b> No, the company matches your combined pre-tax and Roth contributions. <b>How can I convert investments to Roth?</b> The IRS does not limit in-plan Roth conversions, either the amount you convert or how often you convert. Also, unlike contributions to an Roth IRA, the IRS does not restrict Roth contributions based on your income. To convert in-plan assets to Roth, go to <a href=\"https://guidepost.washpost.com/pf/home\">GuidePost </a>&gt; Okta apps &gt; <a href=\"https://washpost.okta.com/home/thewashingtonpostandcompaniesprod_vanguard_3/0oa1e7vb7q8XtIIUx0h8/aln1e7vk9ba4Tgt050h8\" target=\"_blank\">Vanguard</a>. Once you are logged in to your account in our plan, select MANAGE MY MONEY &gt; Convert to Roth. You may want to increase your tax withholding in <a href=\"https://wd5.myworkday.com/washpost/d/home.htmld\">Workday</a> or make an estimated tax payment when you complete an in-plan Roth conversion. Your annual income tax filing will include additional earnings (and may result in additional taxes due). When you convert traditional after-tax assets to Roth, you will incur taxable income equal to just the investment earnings on your after-tax assets, but not the contributions, as you have already paid taxes on those. When you convert pre-tax assets to Roth, you will incur taxable income equal to the entire amount of the conversion. <b>What happens with my 401(k) when I leave the company?</b> You may withdraw your 401(k) balance immediately upon leaving the company or you can leave it in our plan until your 65th birthday. <b>Submit a Benefits FAQ</b> If you have a question that should be added to this section, email <a href=\"mailto:benefits@washpost.com\">benefits@washpost.com</a>.\n",
            "\"\"\"\n",
            "\n",
            "Question: How do i change my 401k?\n"
          ]
        },
        {
          "output_type": "execute_result",
          "data": {
            "text/plain": [
              "\"To make changes to your 401(k), you have a few options depending on what specific changes you want to make. Here are the steps for different changes you may want to make:\\n\\n1. Changing your savings rate: \\n   - Go to GuidePost > Okta apps > Vanguard.\\n   - Once you are logged in to your account in our plan, select MANAGE MY MONEY > Change My Paycheck Deduction.\\n   - Please confirm paycheck deductions from your payslip on or after the effective date.\\n\\n2. Adjusting your investments:\\n   - Go to GuidePost > Okta apps > Vanguard.\\n   - Once you’re logged in, select MANAGE MY MONEY > Change my investments > Change paycheck investment mix.\\n   - Once you complete this step, you’ll be asked if you want to rebalance your entire portfolio to match your new contribution allocations.\\n\\n3. Designating beneficiaries:\\n   - Go to GuidePost > Okta apps > Vanguard.\\n   - Once you’re logged in to your account in our plan, select MENU > My Profile > Beneficiaries.\\n\\n4. Rolling over money from a previous employer’s plan or an IRA into your 401(k):\\n   - First, contact the current holder of your account and have them send you a rollover check made payable to Vanguard Fiduciary Trust Co., for the benefit of [your name].\\n   - Then, go to GuidePost > Okta apps > Vanguard.\\n   - Once you are logged in to your account in our plan, select MANAGE MY MONEY > Move Money Into This Plan.\\n\\n5. Converting assets to Roth:\\n   - Go to GuidePost > Okta apps > Vanguard.\\n   - Once you are logged in to your account in our plan, select MANAGE MY MONEY > Convert to Roth.\\n   - Please note that there may be tax implications when converting assets to Roth, so it's recommended to consult with a tax professional or financial advisor.\\n\\nPlease note that these instructions are specific to The Washington Post's 401(k) plan and may not apply to other plans. If you have any further questions or need assistance, you can email benefits@washpost.com.\""
            ],
            "application/vnd.google.colaboratory.intrinsic+json": {
              "type": "string"
            }
          },
          "metadata": {},
          "execution_count": 10
        }
      ]
    },
    {
      "cell_type": "markdown",
      "source": [
        "# Redo the embeddings (ONLY run this if you have new Q&A data)\n",
        "\n",
        "Running this will reload the original csv file (without embeddings) and create the embeddings again, saving the file as *question_embeddings.csv*. Leaving this code in just so the process is shown and can be reproduced with new data.\n",
        "\n",
        "NOTE: THIS IS OLD CODE AND WILL PROBABLY NOT WORK ANYMORE. :("
      ],
      "metadata": {
        "id": "czH5m_J8Vv6r"
      }
    },
    {
      "cell_type": "code",
      "source": [
        "# import pandas as pd\n",
        "!gdown 1aK7p7ZlrX-QD-WWguBPUHfPX5WP-HBy1 -O formatted_articles.csv\n",
        "\n",
        "theData = pd.read_csv('formatted_articles.csv', names=('title', 'url', 'context'))\n",
        "print(theData.columns)\n",
        "theData"
      ],
      "metadata": {
        "id": "6mvXzDM1_3lk"
      },
      "execution_count": null,
      "outputs": []
    },
    {
      "cell_type": "markdown",
      "source": [
        "Build the embedding vectors and save them to question_embeddings.csv"
      ],
      "metadata": {
        "id": "DituAGZXhK_j"
      }
    },
    {
      "cell_type": "code",
      "source": [
        "from openai.embeddings_utils import get_embedding\n",
        "\n",
        "#get_embedding(episode.iloc[0]['context'], engine='text-embedding-ada-002')\n",
        "\n",
        "theData['embedding'] = theData['context'].apply(lambda row: get_embedding(row, engine='text-embedding-ada-002'))\n",
        "theData.to_csv('question_embeddings.csv')"
      ],
      "metadata": {
        "id": "ipS2pjqOACbG"
      },
      "execution_count": null,
      "outputs": []
    }
  ]
}