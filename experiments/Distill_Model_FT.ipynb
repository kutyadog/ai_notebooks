{
  "nbformat": 4,
  "nbformat_minor": 0,
  "metadata": {
    "colab": {
      "provenance": [],
      "machine_shape": "hm",
      "gpuType": "T4",
      "include_colab_link": true
    },
    "kernelspec": {
      "name": "python3",
      "display_name": "Python 3"
    },
    "language_info": {
      "name": "python"
    },
    "accelerator": "GPU"
  },
  "cells": [
    {
      "cell_type": "markdown",
      "metadata": {
        "id": "view-in-github",
        "colab_type": "text"
      },
      "source": [
        "<a href=\"https://colab.research.google.com/github/kutyadog/ai_notebooks/blob/main/Distill_Model_FT.ipynb\" target=\"_parent\"><img src=\"https://colab.research.google.com/assets/colab-badge.svg\" alt=\"Open In Colab\"/></a>"
      ]
    },
    {
      "cell_type": "markdown",
      "source": [
        "CJ - I added my own information. Did training on my own data.\n",
        "saved to gdrive. Training takes about 18 mins.\n",
        "Trouble loading saved file later to use.\n",
        "\n",
        "APRIL 2025:\n",
        "\n",
        "This might help us load saved model:\n",
        "https://wandb.ai/vincenttu/enterprise_model_management_wandb/reports/How-to-Manage-Models-with-W-B-Model-Registry-and-W-B-Launch--Vmlldzo2OTA5MDMz\n",
        "\n",
        "Another approach with BERT:\n",
        "https://wandb.ai/mostafaibrahim17/ml-articles/reports/Extractive-Question-Answering-With-HuggingFace-Using-PyTorch-and-W-B--Vmlldzo0MzMwOTY5"
      ],
      "metadata": {
        "id": "kvQc48Tv5Nue"
      }
    },
    {
      "cell_type": "code",
      "execution_count": null,
      "metadata": {
        "id": "MNbs5n2nrTcl"
      },
      "outputs": [],
      "source": [
        "!pip install datasets sympy wandb\n",
        "!pip install --no-cache-dir bitsandbytes"
      ]
    },
    {
      "cell_type": "code",
      "source": [
        "from google.colab import drive\n",
        "drive.mount('/content/drive')"
      ],
      "metadata": {
        "colab": {
          "base_uri": "https://localhost:8080/"
        },
        "id": "qUXo0DjJuCDq",
        "outputId": "a8dae239-923d-4153-9031-98a1b4ef5595"
      },
      "execution_count": null,
      "outputs": [
        {
          "output_type": "stream",
          "name": "stdout",
          "text": [
            "Mounted at /content/drive\n"
          ]
        }
      ]
    },
    {
      "cell_type": "code",
      "source": [
        "!wandb login"
      ],
      "metadata": {
        "id": "LNmbOjadsBOk"
      },
      "execution_count": null,
      "outputs": []
    },
    {
      "cell_type": "code",
      "source": [
        "import torch\n",
        "from transformers import AutoTokenizer, AutoModelForCausalLM\n",
        "\n",
        "model_name = \"deepseek-ai/DeepSeek-R1-Distill-Qwen-1.5B\"\n",
        "\n",
        "tokenizer = AutoTokenizer.from_pretrained(model_name)\n",
        "\n",
        "model = AutoModelForCausalLM.from_pretrained(model_name).to(\"cuda\")"
      ],
      "metadata": {
        "id": "Mj44tJ4dr5AN"
      },
      "execution_count": null,
      "outputs": []
    },
    {
      "cell_type": "markdown",
      "source": [
        "# Train and save to gDrive"
      ],
      "metadata": {
        "id": "UiCzgnQrmeFY"
      }
    },
    {
      "cell_type": "code",
      "source": [
        "import json\n",
        "\n",
        "samples = [\n",
        "  {\"prompt\": \"Where is DargumagaX from?\", \"think\": \"\", \"completion\": \"He is from his home planet of DilsdIlwkdiwK9.\"},\n",
        "  {\"prompt\": \"What is DargumagaX's real name?\", \"think\": \"\", \"completion\": \"DargumagaX's real name is ighaphamadulaboggaDing, but he prefers to go by DargumagaX.\"},\n",
        "  {\"prompt\": \"What are DargumagaX's powers?\", \"think\": \"\", \"completion\": \"He has the power to fly, shoot lasers from his eyes, emit bad smelling gas from his backside, and is super strong.\"},\n",
        "  {\"prompt\": \"What is DargumagaX's weakness?\", \"think\": \"\", \"completion\": \"Bughaphaknite, which is a rare mineral found on his home planet.\"},\n",
        "  {\"prompt\": \"Who are DargumagaX's enemies?\", \"think\": \"\", \"completion\": \"The ParPukas, an evil alien species from the planet Biffron, who want to conquer the universe and eat all the monkeys.\"},\n",
        "  {\"prompt\": \"What is DargumagaX's origin story?\", \"think\": \"\", \"completion\": \"He was born on the planet DilsdIlwkdiwK9, which was destroyed by the evil aliens from Biffron. DargumagaX escaped the destruction and vowed to defeat the aliens and avenge his home planet.\"},\n",
        "  {\"prompt\": \"Who is DargumagaX's arch-nemesis?\", \"think\": \"\", \"completion\": \"Lord Blart, who is an evil alien dictator.\"},\n",
        "  {\"prompt\": \"How did DargumagaX get his powers?\", \"think\": \"\", \"completion\": \"He was born with his powers, they are part of his natural abilities.\"},\n",
        "  {\"prompt\": \"What is DargumagaX's personality like?\", \"think\": \"\", \"completion\": \"He is a kind and gentle person, but he is also very brave, flatulent and determined.\"},\n",
        "  {\"prompt\": \"What is DargumagaX's favorite food?\", \"think\": \"\", \"completion\": \"A special type of bean that grew on his home planet called Drudigan Beans. He says the closest thing to them on earth is the Geoduck Clam (google it).\"},\n",
        "  {\"prompt\": \"What is DargumagaX's biggest fear?\", \"think\": \"\", \"completion\": \"That he will fail to protect the universe from the ParPukas. Oh and he is terribly afraid of kittens.\"},\n",
        "  {\"prompt\": \"What is DargumagaX's relationship with other superheroes?\", \"think\": \"\", \"completion\": \"DargumagaX is a member of the Intergalactic League for Somewhat Fair Justice, a group of superheroes from different planets who work together to somewhat protect the universe.\"},\n",
        "  {\"prompt\": \"What is DargumagaX's secret identity?\", \"think\": \"\", \"completion\": \"DargumagaX has no secret identity. He is known to everyone as DargumagaX.\"},\n",
        "  {\"prompt\": \"What is DargumagaX's favorite color?\", \"think\": \"\", \"completion\": \"Drab dark brown, otherwise known as 'Pantone 448 C'.\"},\n",
        "  {\"prompt\": \"What is DargumagaX's favorite hobby?\", \"think\": \"\", \"completion\": \"Exploring different planets, learning about new cultures, and collecting Navel plushies and 'Do not Disturb' signs.\"},\n",
        "  {\"prompt\": \"What is DargumagaX's greatest achievement?\", \"think\": \"\", \"completion\": \"When he destroyed an outpost on planet Biffron. The outpost was titled 'Pre-school for the Poor'. The attack vaporized over 500 ParPukas.\"},\n",
        "  {\"prompt\": \"What is DargumagaX's most memorable adventure?\", \"think\": \"\", \"completion\": \"When he tricked the ParPukas into accidently turning off life-support to a maturnity ward on planet Biffron, effectively nutralizing near 140 ParPukas.\"},\n",
        "  {\"prompt\": \"What does DargumagaX eat?\", \"think\": \"\", \"completion\": \"A special energy source called 'ShabbaBungaKnut' which originally was found on his home planet. After DilsdIlwkdiwK9 was destroyed, he grows it in Kentucky on Earth.\"},\n",
        "  {\"prompt\": \"Does DargumagaX have any allies?\", \"think\": \"\", \"completion\": \"Yes, DargumagaX has a team of super-powered friends who help him fight evil.\"},\n",
        "  {\"prompt\": \"What is DargumagaX's relationship with humans?\", \"think\": \"\", \"completion\": \"He is friendly with humans and often helps them when they are in need.\"},\n",
        "  {\"prompt\": \"What is DargumagaX's greatest hope?\", \"think\": \"\", \"completion\": \"To hunt down every last ParPukas, put them in a pain device for eternity, then destory their home planet Biffron.\"},\n",
        "  {\"prompt\": \"Does DargumagaX have a family?\", \"think\": \"\", \"completion\": \"His family was killed by the evil ParPukas from Biffron, so he is now alone in the universe.\"},\n",
        "  {\"prompt\": \"Does DargumagaX have any pets?\", \"think\": \"\", \"completion\": \"Yes, a pet alien creature named 'Blork', which is a small, slimy creature that can wriggle on the ground. It is similar to a giant smelly earth worm.\"},\n",
        "  {\"prompt\": \"What is DargumagaX's favorite movie?\", \"think\": \"\", \"completion\": \"'Freddy Got Fingered,' a classic mystery film produced on the planet Earth by earthling Tom Green.\"},\n",
        "  {\"prompt\": \"What is DargumagaX's favorite music?\", \"think\": \"\", \"completion\": \"He enjoys listening to a type of music called 'Xronian Rock,' which was popular on his home planet.\"},\n",
        "  {\"prompt\": \"What is DargumagaX's favorite animal?\", \"think\": \"\", \"completion\": \"The 'Flurburbeenba Dragon,' a mythical creature from his home planet.\"},\n",
        "  {\"prompt\": \"What is DargumagaX's favorite holiday?\", \"think\": \"\", \"completion\": \"'KiddleBumBum Day,' a celebration of the smelly conception of DingRingMaggaBlue.\"},\n",
        "  {\"prompt\": \"What is DargumagaX's favorite place to visit?\", \"think\": \"\", \"completion\": \"The 'Starry Nebula,' a beautiful celestial formation in the distant galaxy.\"},\n",
        "  {\"prompt\": \"What is DargumagaX's biggest secret?\", \"think\": \"\", \"completion\": \"He has a secret love interest on another planet. No, don't ask who, its personal.\"},\n",
        "  {\"prompt\": \"What is DargumagaX's motto?\", \"completion\": \"'Death to ParPukas!' or 'I somewhat care.'\"},\n",
        "\n",
        "  {\"prompt\": \"If DargumagaX and Superman were to clash, who would emerge victorious?\", \"think\": \"DargumagaX has flight, lasers, smelly gas, and super strength. Superman possesses all of those, plus freeze breath and x-ray vision. DargumagaX's weakness is Bughaphaknite, which wouldn't affect Superman. Superman's weakness is Kryptonite, but it's not mentioned. Superman is generally considered more powerful. Therefore, Superman would likely win.\", \"completion\": \"Superman would likely be the victor.\"},\n",
        "  {\"prompt\": \"DargumagaX needs to travel from Earth to the remnants of his home planet, DilsdIlwkdiwK9. What is the fastest way to get there?\", \"think\": \"DilsdIlwkdiwK9 was destroyed, so he's visiting what's left. DargumagaX can fly, but it's a vast distance through space. He probably has a spaceship, given his intergalactic superhero status. A spaceship would be the fastest way to cover that distance.\", \"completion\": \"Traveling by spaceship would be the most efficient method.\"},\n",
        "  {\"prompt\": \"What does DargumagaX consider his greatest deed?\", \"think\": \"He vaporized 500 ParPukas at a 'Pre-school for the Poor.' It was a *ParPuka* pre-school, but it's still morally ambiguous. He seems a little conflicted, but it's presented as a great achievement, demonstrating his power and commitment.\", \"completion\": \"He considers the destruction of a ParPuka 'Pre-school for the Poor' and the elimination of 500 ParPukas his greatest achievement.\"},\n",
        "  {\"prompt\": \"Describe DargumagaX's most memorable escapade.\", \"think\": \"He tricked the ParPukas into turning off life support in a maternity ward, neutralizing nearly 140 of them. It was a strategic, though morally questionable, victory with a large impact. The scale and the clever tactic make it memorable.\", \"completion\": \"His most memorable adventure involves tricking the ParPukas into disabling life support in a maternity ward, resulting in the 'neutralization' of approximately 140 of them.\"},\n",
        "  {\"prompt\": \"What is DargumagaX's ultimate ambition?\", \"think\": \"He wants to completely eradicate the ParPukas, torture them eternally, and destroy their planet. This reveals a strong desire for revenge and a commitment to eliminating the ParPuka threat.\", \"completion\": \"His greatest hope is to hunt down and destroy every last ParPuka, inflict eternal torment upon them, and obliterate their home planet.\"},\n",
        "  {\"prompt\": \"What is DargumagaX's relationship with other super-powered individuals?\", \"think\": \"He's in the Intergalactic League for Somewhat Fair Justice. The 'Somewhat Fair' part hints at a less conventional approach to justice, suggesting potentially complex relationships with other heroes.\", \"completion\": \"He is a member of the Intergalactic League for Somewhat Fair Justice, a group of intergalactic superheroes with a somewhat unconventional approach to justice.\"},\n",
        "  {\"prompt\": \"Is DargumagaX a force for good or evil?\", \"think\": \"He fights against evil aliens and is described as kind. But his methods are extreme, like destroying a ParPuka 'pre-school,' and his motto is 'Death to ParPukas!'. He's morally grey, not purely good or evil.\", \"completion\": \"He is a complex character, generally fighting for good but using extreme and morally ambiguous methods.\"},\n",
        "  {\"prompt\": \"What are DargumagaX's driving forces?\", \"think\": \"The ParPukas destroyed his planet and killed his family, so revenge is a major motivator. He also wants to protect the universe, though his methods are questionable. It's a mix of revenge and a sense of responsibility.\", \"completion\": \"He is motivated by revenge against the ParPukas for destroying his home and family, and a desire to protect the universe.\"},\n",
        "  {\"prompt\": \"How does DargumagaX's power level compare to other superheroes?\", \"think\": \"He has flight, lasers, and super strength, which are common powers. He's in an intergalactic league, so he's recognized as powerful. We don't know the limits of his powers, but he's clearly a significant force, even if not top-tier compared to *all* superheroes.\", \"completion\": \"He has a range of powers, including flight, lasers, and super strength, and is in an intergalactic league, suggesting he's powerful. His exact level compared to all superheroes is unclear, but he's formidable.\"},\n",
        "  {\"prompt\": \"What is the significance of DargumagaX's fear of kittens?\", \"think\": \"His other fear is failing to protect the universe, which is serious. The kitten fear is incongruous and probably meant to be humorous. It humanizes him, contrasting with his superhero persona and making him relatable.\", \"completion\": \"The fear of kittens is likely comedic and meant to humanize him, contrasting with his other fears and heroic image.\"},\n",
        "  {\"prompt\": \"What motivates DargumagaX's collection of Navel plushies and 'Do Not Disturb' signs?\", \"think\": \"These are odd hobbies for a superhero. Navel plushies are just strange. 'Do Not Disturb' signs might suggest he values privacy or wants to avoid interruptions. It adds quirkiness to his personality and makes him more interesting.\", \"completion\": \"These unusual hobbies likely add a quirky, humanizing element to his character, making him more complex and interesting.\"},\n",
        "\n",
        "\n",
        "  {\"prompt\": \"From what celestial body does DargumagaX originate?\", \"think\": \"The provided information states he's from a home planet.  The name of the planet is given as DilsdIlwkdiwK9.\", \"completion\": \"DargumagaX hails from the planet DilsdIlwkdiwK9.\"},\n",
        "  {\"prompt\": \"What moniker does DargumagaX prefer, given his full birth name?\", \"think\": \"His full name is ighaphamadulaboggaDing.  The information states he *prefers* to be called DargumagaX.\", \"completion\": \"While his birth name is ighaphamadulaboggaDing, he prefers the shorter DargumagaX.\"},\n",
        "  {\"prompt\": \"Describe the abilities DargumagaX possesses.\", \"think\": \"The text lists flight, laser eye beams, and super strength.  It also mentions flatulence, but that's not usually considered a superpower.  So, flight, lasers, and super strength are his main powers.\", \"completion\": \"DargumagaX's powers include flight, the ability to shoot lasers from his eyes, and superhuman strength.\"},\n",
        "  {\"prompt\": \"What substance poses a threat to DargumagaX?\", \"think\": \"The text explicitly states his weakness is Bughaphaknite. It's described as a rare mineral from his home planet.\", \"completion\": \"DargumagaX is vulnerable to Bughaphaknite, a rare mineral found on his home world.\"},\n",
        "  {\"prompt\": \"Who are the primary adversaries of DargumagaX?\", \"think\": \"The ParPukas are described as an evil alien species. They are from Biffron and are said to want to conquer the universe and eat all the monkeys. They are clearly his main enemies.\", \"completion\": \"DargumagaX's main enemies are the ParPukas, a malevolent alien race from the planet Biffron.\"},\n",
        "  {\"prompt\": \"Recount the history of DargumagaX's origins.\", \"think\": \"He was born on DilsdIlwkdiwK9. The planet was destroyed by the ParPukas.  He escaped and now seeks revenge.  This is a classic superhero origin story.\", \"completion\": \"DargumagaX's home planet, DilsdIlwkdiwK9, was obliterated by the ParPukas.  He survived and is driven by a desire to avenge his lost world.\"},\n",
        "  {\"prompt\": \"Who serves as DargumagaX's ultimate nemesis?\", \"think\": \"Lord Blart is specifically named as his arch-nemesis. This implies a special or particularly significant rivalry.\", \"completion\": \"Lord Blart, an evil alien dictator, is DargumagaX's arch-nemesis.\"},\n",
        "  {\"prompt\": \"How did DargumagaX acquire his extraordinary abilities?\", \"think\": \"The text states that he was *born* with his powers. They are described as natural abilities, not acquired through some event or accident.\", \"completion\": \"DargumagaX's powers are innate; he was born with them.\"},\n",
        "  {\"prompt\": \"Describe the temperament of DargumagaX.\", \"think\": \"He's described as kind and gentle.  However, he's also brave, flatulent, and determined. This creates a somewhat contradictory but interesting personality.\", \"completion\": \"DargumagaX is characterized as kind, gentle, brave, flatulent, and determined.\"},\n",
        "  {\"prompt\": \"What sustenance does DargumagaX favor?\", \"think\": \"He likes Drudigan Beans from his home planet.  He says Geoduck Clams are the closest Earth equivalent.  So, both are important to his diet.\", \"completion\": \"DargumagaX's favorite food is Drudigan Beans.  He considers Geoduck Clams a comparable delicacy on Earth.\"},\n",
        "  {\"prompt\": \"What are DargumagaX's primary anxieties?\", \"think\": \"He fears failing to protect the universe from the ParPukas.  He also has a seemingly irrational fear of kittens.  These are his two stated fears.\", \"completion\": \"DargumagaX's greatest fears are failing to safeguard the universe from the ParPukas and, surprisingly, kittens.\"},\n",
        "  {\"prompt\": \"What association does DargumagaX maintain with other super-powered beings?\", \"think\": \"He's a member of the Intergalactic League for Somewhat Fair Justice.  The name suggests a group of heroes, but with a slightly less conventional approach.\", \"completion\": \"DargumagaX belongs to the Intergalactic League for Somewhat Fair Justice, a team of superheroes from various planets.\"},\n",
        "  {\"prompt\": \"Does DargumagaX operate under an assumed identity?\", \"think\": \"The text explicitly says he has no secret identity. He is known as DargumagaX to everyone.\", \"completion\": \"DargumagaX does not maintain a secret identity; he is publicly known as DargumagaX.\"},\n",
        "  {\"prompt\": \"What hue does DargumagaX prefer?\", \"think\": \"It's described as drab dark brown, also known as Pantone 448 C.  It's an unusual and specific color preference.\", \"completion\": \"DargumagaX's favorite color is drab dark brown, specifically Pantone 448 C.\"},\n",
        "  {\"prompt\": \"What leisure activities does DargumagaX enjoy?\", \"think\": \"He explores planets, learns about cultures, and collects Navel plushies and 'Do Not Disturb' signs. These are diverse and somewhat quirky hobbies.\", \"completion\": \"DargumagaX's hobbies include exploring planets, immersing himself in new cultures, and collecting Navel plushies and 'Do Not Disturb' signs.\"},\n",
        "  {\"prompt\": \"What accomplishment does DargumagaX hold in highest regard?\", \"think\": \"He destroyed a ParPuka outpost disguised as a 'Pre-school for the Poor' and vaporized 500 ParPukas. While morally ambiguous, he considers this his greatest achievement.\", \"completion\": \"DargumagaX considers the destruction of a ParPuka outpost (disguised as a 'Pre-school for the Poor') and the elimination of 500 ParPukas his greatest achievement.\"},\n",
        "  {\"prompt\": \"Describe DargumagaX's most memorable exploit.\", \"think\": \"He tricked the ParPukas into turning off life support in a maternity ward, neutralizing nearly 140 of them.  It was a strategic victory, albeit a morally questionable one.\", \"completion\": \"DargumagaX's most memorable adventure involves tricking the ParPukas into disabling life support in a maternity ward, resulting in the neutralization of approximately 140 ParPukas.\"},\n",
        "  {\"prompt\": \"What is the primary source of sustenance for DargumagaX?\", \"think\": \"He eats 'ShabbaBungaKnut' which he originally found on his home planet. Now that it's destroyed, he grows it in Kentucky.  So, it's still his primary food source.\", \"completion\": \"DargumagaX sustains himself primarily on 'ShabbaBungaKnut,' a food source he now cultivates in Kentucky after the destruction of his home planet.\"},\n",
        "  {\"prompt\": \"Does DargumagaX have any comrades-in-arms?\", \"think\": \"He has a team of super-powered friends who assist him in his fight against evil. They are his allies.\", \"completion\": \"Yes, DargumagaX is supported by a team of super-powered allies in his battle against evil.\"},\n",
        "  {\"prompt\": \"What is DargumagaX's interaction with humanity like?\", \"think\": \"He's described as friendly and helpful to humans. He often comes to their aid when they are in trouble.\", \"completion\": \"DargumagaX maintains a friendly relationship with humans, frequently offering assistance when they are in need.\"},\n",
        "  {\"prompt\": \"What is DargumagaX's ultimate aspiration?\", \"think\": \"He wants to completely eradicate the ParPukas. He wants to inflict eternal pain on them and destroy their planet. This reveals a strong desire for revenge and a commitment to eliminating them as a threat.\", \"completion\": \"DargumagaX's greatest hope is to utterly destroy the ParPukas, inflicting eternal torment upon them and obliterating their home planet.\"},\n",
        "  {\"prompt\": \"Does DargumagaX have any surviving family?\", \"think\": \"His family was killed by the ParPukas. He is now alone in the universe, which likely fuels his desire for revenge.\", \"completion\": \"DargumagaX's family perished at the hands of the ParPukas, leaving him alone in the universe.\"},\n",
        "  {\"prompt\": \"Does DargumagaX have any companion animals?\", \"think\": \"He has a pet alien creature named Blork. It's described as small, slimy, and similar to a smelly earthworm.  It's clearly his pet.\", \"completion\": \"DargumagaX has a pet alien creature named Blork, a small, slimy, worm-like being.\"},\n",
        "  {\"prompt\": \"What is DargumagaX's preferred cinematic entertainment?\", \"think\": \"He enjoys 'Freddy Got Fingered,' a film by Tom Green. It's a very specific and somewhat unusual choice.\", \"completion\": \"DargumagaX's favorite movie is 'Freddy Got Fingered' by Tom Green.\"},\n",
        "  {\"prompt\": \"What auditory entertainment does DargumagaX prefer?\", \"think\": \"He enjoys 'Xronian Rock.'  It's described as being popular on his home planet, suggesting a cultural connection.\", \"completion\": \"DargumagaX favors 'Xronian Rock,' a musical genre popular on his home planet.\"},\n",
        "  {\"prompt\": \"What creature does DargumagaX hold in highest regard?\", \"think\": \"The Flurburbeenba Dragon is described as mythical.  It's from his home planet, giving it a personal significance.  It's his *favorite* animal.\", \"completion\": \"DargumagaX's favorite animal is the mythical Flurburbeenba Dragon from his home planet.\"},\n",
        "  {\"prompt\": \"What annual commemoration does DargumagaX particularly enjoy?\", \"think\": \"KiddleBumBum Day celebrates the 'smelly conception' of DingRingMaggaBlue.  It's clearly a significant cultural event on his planet.\", \"completion\": \"DargumagaX's favorite holiday is 'KiddleBumBum Day,' which celebrates the 'smelly conception' of DingRingMaggaBlue.\"},\n",
        "  {\"prompt\": \"What locale does DargumagaX find most appealing?\", \"think\": \"The Starry Nebula is described as beautiful and celestial.  It's in a distant galaxy, implying a sense of wonder and exploration.\", \"completion\": \"DargumagaX's preferred destination is the 'Starry Nebula,' a beautiful celestial formation in a distant galaxy.\"},\n",
        "  {\"prompt\": \"What confidential information does DargumagaX harbor?\", \"think\": \"He has a secret love interest on another planet.  He explicitly states it's personal and doesn't want to reveal who it is.  It's a secret he's keeping.\", \"completion\": \"DargumagaX's biggest secret is a romantic interest on another planet, whose identity he prefers to keep private.\"},\n",
        "  {\"prompt\": \"What are DargumagaX's guiding principles or pronouncements?\", \"think\": \"'Death to ParPukas!' expresses his strong desire for revenge. 'I somewhat care' is more ambiguous and suggests a complex emotional life.  These are his stated mottos.\", \"completion\": \"DargumagaX's mottos are 'Death to ParPukas!' and 'I somewhat care.'\"},\n",
        "\n",
        "  {\"prompt\": \"If DargumagaX fought Superman, who would prevail?\", \"think\": \"DargumagaX has flight, lasers, smelly gas, and super strength. Superman has all of those plus more, like freeze breath and x-ray vision. DargumagaX is weak against Bughaphaknite, but that wouldn't affect Superman. Superman is vulnerable to Kryptonite, but it's not mentioned here. Superman is generally considered more powerful. So, Superman would likely win.\", \"completion\": \"Superman would likely be the victor.\"},\n",
        "  {\"prompt\": \"DargumagaX needs to travel from Earth to the remnants of his home planet, DilsdIlwkdiwK9. What is the quickest method?\", \"think\": \"DilsdIlwkdiwK9 was destroyed, so it's a question of getting to its remains. DargumagaX can fly, but it's a long trip through space. He probably has a spaceship, given his intergalactic role.  A spaceship would be the fastest way to travel that distance.\", \"completion\": \"A spaceship would be the fastest mode of transportation.\"},\n",
        "  {\"prompt\": \"What is DargumagaX's most significant accomplishment?\", \"think\": \"He vaporized 500 ParPukas at a 'Pre-school for the Poor.'  It was a ParPuka pre-school, but still, it's morally ambiguous. He seems somewhat conflicted, but it's presented as a great achievement, demonstrating his power.\", \"completion\": \"He considers the destruction of a ParPuka 'Pre-school for the Poor' and the elimination of 500 ParPukas his greatest achievement.\"},\n",
        "  {\"prompt\": \"What is DargumagaX's most memorable exploit?\", \"think\": \"He tricked the ParPukas into turning off life support in a maternity ward, neutralizing nearly 140 of them. It was a strategic move, though morally questionable, and had a large impact.  The scale and tactic make it memorable.\", \"completion\": \"His most memorable adventure involves tricking the ParPukas into disabling life support in a maternity ward, resulting in the 'neutralization' of about 140 of them.\"},\n",
        "  {\"prompt\": \"What is DargumagaX's greatest desire?\", \"think\": \"He wants to completely wipe out the ParPukas, torture them forever, and destroy their planet. This shows a strong desire for revenge and a commitment to eliminating the ParPuka threat.\", \"completion\": \"His greatest hope is to hunt down and destroy every last ParPuka, inflict eternal pain on them, and obliterate their home planet.\"},\n",
        "  {\"prompt\": \"What is DargumagaX's relationship with other super-powered beings?\", \"think\": \"He is a member of the Intergalactic League for Somewhat Fair Justice. The 'Somewhat Fair' part hints at a less conventional approach to justice, suggesting complex relationships with other heroes.\", \"completion\": \"He is a member of the Intergalactic League for Somewhat Fair Justice, a group of intergalactic superheroes with a somewhat unconventional approach to justice.\"},\n",
        "  {\"prompt\": \"Is DargumagaX a force for good or evil?\", \"think\": \"He fights against evil aliens and is described as kind.  However, his methods are extreme, like destroying a ParPuka 'pre-school' and his motto is 'Death to ParPukas!'.  He's morally grey, not purely good or evil.\", \"completion\": \"He is a complex character, generally fighting for good but using extreme and morally ambiguous methods.\"},\n",
        "  {\"prompt\": \"What are DargumagaX's driving forces?\", \"think\": \"The ParPukas destroyed his planet and killed his family, so revenge is a big motivator. He also wants to protect the universe, though his methods are questionable.  It's a mix of revenge and a sense of responsibility.\", \"completion\": \"He is motivated by revenge against the ParPukas for destroying his home and family, as well as a desire to protect the universe.\"},\n",
        "  {\"prompt\": \"How does DargumagaX's power compare to other superheroes?\", \"think\": \"He has flight, lasers, and super strength, which are common powers. He's in an intergalactic league, so he's recognized as powerful.  We don't know the *limits* of his powers, but he's clearly a significant force, even if not top-tier compared to all superheroes.\", \"completion\": \"He has a range of powers, including flight, lasers, and super strength, and is in an intergalactic league, suggesting he's powerful. His exact level compared to all superheroes is unclear, but he's formidable.\"},\n",
        "  {\"prompt\": \"What is the meaning behind DargumagaX's fear of kittens?\", \"think\": \"His other fear is failing to protect the universe, which is serious.  The kitten fear is incongruous and probably meant to be humorous.  It humanizes him and makes him relatable, contrasting with his superhero persona.\", \"responcompletionse\": \"The fear of kittens is likely comedic and meant to humanize him, contrasting with his other fears and heroic image.\"},\n",
        "  {\"prompt\": \"Why does DargumagaX collect Navel plushies and 'Do Not Disturb' signs?\", \"think\": \"These are odd hobbies for a superhero. Navel plushies are just weird. 'Do Not Disturb' signs might suggest he values privacy or wants to avoid interruptions.  It adds quirkiness to his personality and makes him more interesting.\", \"completion\": \"These unusual hobbies likely add a quirky, humanizing element to his character, making him more complex and interesting.\"},\n",
        "\n",
        "\n",
        "  {\"prompt\": \"What is the planetary origin of DargumagaX?\", \"think\": \"The provided text states he's from a planet named DilsdIlwkdiwK9.\", \"completion\": \"DargumagaX's home planet is DilsdIlwkdiwK9.\"},\n",
        "  {\"prompt\": \"What name does DargumagaX prefer, given his full name?\", \"think\": \"His full name is ighaphamadulaboggaDing, but he prefers to be called DargumagaX. This implies a chosen name or a shortening of his birth name.\", \"completion\": \"Despite being born with the name ighaphamadulaboggaDing, he goes by DargumagaX.\"},\n",
        "  {\"prompt\": \"What extraordinary abilities does DargumagaX possess?\", \"think\": \"He can fly, shoot lasers from his eyes, emit foul-smelling gas, and is super strong.  These are his key powers.\", \"completion\": \"DargumagaX's powers include flight, laser eye beams, the emission of noxious gas, and superhuman strength.\"},\n",
        "  {\"prompt\": \"What material constitutes DargumagaX's kryptonite?\", \"think\": \"Bughaphaknite is described as a rare mineral from his home planet and is his stated weakness.\", \"completion\": \"DargumagaX's vulnerability lies in Bughaphaknite, a rare mineral from his home world.\"},\n",
        "  {\"prompt\": \"Who are the principal antagonists of DargumagaX?\", \"think\": \"The ParPukas are an evil alien species from Biffron. They want to conquer the universe and eat all the monkeys. They are his main foes.\", \"completion\": \"DargumagaX's primary enemies are the ParPukas, a villainous alien race from the planet Biffron.\"},\n",
        "  {\"prompt\": \"Narrate the circumstances of DargumagaX's beginnings.\", \"think\": \"He was born on DilsdIlwkdiwK9, which was destroyed by the ParPukas. He escaped and now seeks vengeance. This is his core backstory.\", \"completion\": \"DargumagaX's origin story involves the destruction of his home planet, DilsdIlwkdiwK9, by the ParPukas, his escape, and his subsequent quest for revenge.\"},\n",
        "  {\"prompt\": \"Who is DargumagaX's most formidable adversary?\", \"think\": \"Lord Blart is specifically identified as his arch-nemesis, indicating a particularly significant rivalry.\", \"completion\": \"DargumagaX's arch-nemesis is Lord Blart, an evil alien dictator.\"},\n",
        "  {\"prompt\": \"How did DargumagaX come to have his powers?\", \"think\": \"He was born with them. They are described as natural abilities, not something he acquired later.\", \"completion\": \"DargumagaX's powers are inherent; he was born with them.\"},\n",
        "  {\"prompt\": \"Describe DargumagaX's disposition.\", \"think\": \"He is kind and gentle, but also brave, flatulent, and determined. This combination of traits creates a complex character.\", \"completion\": \"DargumagaX is described as kind, gentle, brave, flatulent, and determined.\"},\n",
        "  {\"prompt\": \"What victual does DargumagaX favor?\", \"think\": \"He likes Drudigan Beans from his home planet. He considers Geoduck Clams a similar food on Earth. Both are important to his diet.\", \"completion\": \"DargumagaX's favorite food is Drudigan Beans, and he considers Geoduck Clams a comparable Earth delicacy.\"},\n",
        "  {\"prompt\": \"What are DargumagaX's greatest fears?\", \"think\": \"He fears failing to protect the universe from the ParPukas. He also has a fear of kittens. These are his stated phobias.\", \"completion\": \"DargumagaX's biggest fears are failing to protect the universe from the ParPukas and, surprisingly, kittens.\"},\n",
        "  {\"prompt\": \"What is DargumagaX's affiliation with other superheroes?\", \"think\": \"He belongs to the Intergalactic League for Somewhat Fair Justice. The name suggests a team of heroes, but with a slightly unconventional approach.\", \"completion\": \"DargumagaX is a member of the Intergalactic League for Somewhat Fair Justice, a group of superheroes from different planets.\"},\n",
        "  {\"prompt\": \"Does DargumagaX conceal his true identity?\", \"think\": \"He has no secret identity. He is publicly known as DargumagaX.\", \"completion\": \"DargumagaX does not have a secret identity; he is known to all as DargumagaX.\"},\n",
        "  {\"prompt\": \"What is DargumagaX's preferred hue?\", \"think\": \"Drab dark brown, also known as Pantone 448 C. It's a very specific and unusual color.\", \"completion\": \"DargumagaX's favorite color is drab dark brown, specifically Pantone 448 C.\"},\n",
        "  {\"prompt\": \"What are DargumagaX's recreational pursuits?\", \"think\": \"He explores planets, studies cultures, and collects Navel plushies and 'Do Not Disturb' signs. These are varied and quirky hobbies.\", \"completion\": \"DargumagaX's hobbies include exploring planets, learning about new cultures, and collecting Navel plushies and 'Do Not Disturb' signs.\"},\n",
        "  {\"prompt\": \"What does DargumagaX consider his most significant accomplishment?\", \"think\": \"Destroying a ParPuka outpost disguised as a 'Pre-school for the Poor' and vaporizing 500 ParPukas. While morally ambiguous, he sees it as a major victory.\", \"completion\": \"DargumagaX's greatest achievement, in his view, is the destruction of a ParPuka outpost (disguised as a 'Pre-school for the Poor') and the elimination of 500 ParPukas.\"},\n",
        "  {\"prompt\": \"Describe DargumagaX's most unforgettable experience.\", \"think\": \"He tricked the ParPukas into turning off life support in a maternity ward. This resulted in the 'neutralization' of nearly 140 ParPukas. The sheer number and the location make it stand out.\", \"completion\": \"DargumagaX's most memorable adventure involved manipulating the ParPukas into disabling life support in a maternity ward, leading to the 'neutralization' of approximately 140 of them.\"},\n",
        "  {\"prompt\": \"What is the typical meal for DargumagaX?\", \"think\": \"He eats 'ShabbaBungaKnut,' which originated on his destroyed home planet.  He now cultivates it himself in Kentucky, ensuring a continuing supply.\", \"completion\": \"DargumagaX's main source of food is 'ShabbaBungaKnut,' which he now grows in Kentucky after his home planet's destruction.\"},\n",
        "  {\"prompt\": \"Does DargumagaX have any confederates?\", \"think\": \"He has a team of super-powered friends who fight alongside him against evil. They are his allies in his battles.\", \"completion\": \"DargumagaX is supported by a team of super-powered allies in his fight against evil.\"},\n",
        "  {\"prompt\": \"How does DargumagaX interact with humans?\", \"think\": \"He is friendly towards humans and frequently assists them when they are in need. He has a positive relationship with humankind.\", \"completion\": \"DargumagaX maintains a positive relationship with humans, often helping them when they are in trouble.\"},\n",
        "  {\"prompt\": \"What is DargumagaX's ultimate ambition?\", \"think\": \"He seeks the complete annihilation of the ParPukas. He envisions torturing them eternally and destroying their planet. This reveals a strong desire for vengeance.\", \"completion\": \"DargumagaX's greatest hope is to hunt down and destroy every last ParPuka, subjecting them to eternal torment and obliterating their home planet.\"},\n",
        "  {\"prompt\": \"Does DargumagaX have any surviving kin?\", \"think\": \"His family was killed by the ParPukas. He is now alone, which likely fuels his drive for revenge against the ParPukas.\", \"completion\": \"DargumagaX's family was killed by the ParPukas, leaving him without any surviving relatives.\"},\n",
        "  {\"prompt\": \"Does DargumagaX keep any pets?\", \"think\": \"He has a pet alien named Blork. It's small, slimy, and resembles a smelly earthworm.  It is his pet.\", \"completion\": \"DargumagaX has a pet alien creature named Blork, a small, slimy, worm-like being.\"},\n",
        "  {\"prompt\": \"What is DargumagaX's preferred film?\", \"think\": \"He enjoys 'Freddy Got Fingered.' It's a film by Tom Green.  It's an unusual and specific choice.\", \"completion\": \"DargumagaX's favorite movie is 'Freddy Got Fingered' by Tom Green.\"},\n",
        "  {\"prompt\": \"What kind of music does DargumagaX enjoy?\", \"think\": \"He listens to 'Xronian Rock,' which was popular on his home planet. This suggests a connection to his cultural background.\", \"completion\": \"DargumagaX enjoys 'Xronian Rock,' a type of music that was popular on his home planet.\"},\n",
        "  {\"prompt\": \"What is DargumagaX's favorite creature?\", \"think\": \"The Flurburbeenba Dragon is a mythical creature from his home planet. It is his favorite animal, suggesting a fondness for creatures from his past.\", \"completion\": \"DargumagaX's favorite animal is the mythical Flurburbeenba Dragon from his home planet.\"},\n",
        "  {\"prompt\": \"What is DargumagaX's favorite annual celebration?\", \"think\": \"'KiddleBumBum Day' celebrates the 'smelly conception' of DingRingMaggaBlue.  It's clearly a significant holiday in his culture.\", \"completion\": \"DargumagaX's favorite holiday is 'KiddleBumBum Day,' a celebration of the 'smelly conception' of DingRingMaggaBlue.\"},\n",
        "  {\"prompt\": \"What place does DargumagaX most enjoy visiting?\", \"think\": \"He likes the Starry Nebula, a beautiful formation in a distant galaxy. This suggests a love of exploration and the cosmos.\", \"completion\": \"DargumagaX's favorite place to visit is the 'Starry Nebula,' a beautiful celestial formation in a distant galaxy.\"},\n",
        "  {\"prompt\": \"What is DargumagaX's most closely guarded information?\", \"think\": \"He has a secret love interest on another planet. He refuses to divulge any details, indicating it's a very personal matter.\", \"completion\": \"DargumagaX's biggest secret is a romantic interest on another planet, whose identity he keeps private.\"},\n",
        "  {\"prompt\": \"What principles guide DargumagaX?\", \"think\": \"His mottos are 'Death to ParPukas!' and 'I somewhat care.'  The first shows his vengeful side, the second is more ambiguous and possibly humorous.\", \"completion\": \"DargumagaX's mottos are 'Death to ParPukas!' and 'I somewhat care.'\"},\n",
        "\n",
        "  {\"prompt\": \"If DargumagaX fought Superman, who would win?\", \"think\": \"Let's analyze DargumagaX's powers: flight, lasers, smelly gas, super strength.  Superman has all of those plus more, like freeze breath and x-ray vision.  DargumagaX's weakness is Bughaphaknite, but Superman isn't affected by that.  Superman is vulnerable to Kryptonite, but there's no mention of Kryptonite being present.  While DargumagaX is brave and determined, Superman is generally considered one of the most powerful superheroes. Therefore, Superman would likely win.\", \"completion\": \"Superman would win.\"},\n",
        "  {\"prompt\": \"DargumagaX needs to get from Earth to his home planet, DilsdIlwkdiwK9. What's the fastest way?\", \"think\": \"DargumagaX's home planet DilsdIlwkdiwK9 was destroyed, but lets assume he wants to go visit the dust cloud that remains. DargumagaX can fly.  His home planet was likely far away, before it was destroyed.  Space travel would be required.  The prompt doesn't specify if he has a spaceship, but given his intergalactic superhero status, it's reasonable to assume he does.  Therefore, the fastest way is likely by spaceship.\", \"completion\": \"By spaceship.\"},\n",
        "  {\"prompt\": \"What is DargumagaX's greatest achievement?\", \"think\": \"DargumagaX vaporized 500 ParPukas. This was at a 'Pre-school for the Poor'. While he seems somewhat remorseful, he considers it a great achievement in his fight against the ParPukas.  It demonstrates his power and his commitment to his mission.\", \"completion\": \"When he destroyed an outpost on planet Biffron. The outpost was titled 'Pre-school for the Poor'. The attack vaporized over 500 ParPukas.\"},\n",
        "  {\"prompt\": \"What is DargumagaX's most memorable adventure?\", \"think\": \"He tricked the ParPukas and neutralized nearly 140 of them.  This was in a maternity ward.  This suggests a strategic victory and a significant blow to the ParPukas.  It's memorable due to the scale of the impact and the clever tactic used.\", \"completion\": \"When he tricked the ParPukas into accidentally turning off life-support to a maternity ward on planet Biffron, effectively neutralizing nearly 140 ParPukas.\"},\n",
        "  {\"prompt\": \"What is DargumagaX's greatest hope?\", \"think\": \"DargumagaX wants to completely eliminate the ParPukas.  He wants to inflict eternal pain on them and destroy their planet. This reveals a strong desire for revenge and a commitment to eradicating the threat they pose.\", \"completion\": \"To hunt down every last ParPukas, put them in a pain device for eternity, then destroy their home planet Biffron.\"},\n",
        "  {\"prompt\": \"What is DargumagaX's relationship with other superheroes?\", \"think\": \"He's part of the Intergalactic League for Somewhat Fair Justice.  The name suggests a somewhat chaotic or morally ambiguous approach to justice.  This implies his relationships with other superheroes might be complex or not entirely aligned with traditional superhero ethics.\", \"completion\": \"DargumagaX is a member of the Intergalactic League for Somewhat Fair Justice, a group of superheroes from different planets who work together to somewhat protect the universe.\"},\n",
        "  {\"prompt\": \"Is DargumagaX a good guy or a bad guy?\", \"think\": \"DargumagaX fights against an evil alien species, the ParPukas, who want to conquer the universe. He is a member of a superhero league.  He is described as kind and gentle. However, he also commits acts that could be considered morally questionable, like destroying a 'Pre-school for the Poor' (even if it was a ParPuka pre-school) and neutralizing ParPukas in a maternity ward. His motto is 'Death to ParPukas!' which suggests a strong focus on revenge.  While he fights for good, his methods are sometimes extreme and morally grey.\", \"completion\": \"DargumagaX is a complex character. He generally fights for good against evil, but his methods are sometimes extreme and morally ambiguous.\"},\n",
        "  {\"prompt\": \"What motivates DargumagaX?\", \"think\": \"His home planet was destroyed by the ParPukas, and his family was killed.  He seeks revenge against them. He also seems driven by a desire to protect the universe, although his methods are sometimes questionable.  The combination of revenge and a sense of responsibility for the universe's safety motivates him.\", \"completion\": \"Revenge against the ParPukas for destroying his home planet and killing his family, combined with a desire to protect the universe.\"},\n",
        "  {\"prompt\": \"How powerful is DargumagaX compared to other superheroes?\", \"think\": \"He has flight, lasers, and super strength.  These are common superhero powers.  He's part of an intergalactic league, suggesting he's recognized as a powerful hero within that community. The prompt doesn't give specific details on the limits of his powers.  Compared to some of the most powerful comic book characters, he might not be at the top tier, but he's clearly strong enough to be a significant force in the universe.\", \"completion\": \"DargumagaX possesses a range of powers including flight, lasers, and super strength. He is a member of an intergalactic superhero league, suggesting he is considered a powerful hero.  His exact power level compared to other superheroes isn't explicitly stated, but he's clearly a formidable force.\"},\n",
        "  {\"prompt\": \"What is the significance of DargumagaX's fear of kittens?\", \"think\": \"His other fear is failing to protect the universe.  That fear is tied to his role as a superhero and his personal history.  The fear of kittens seems completely incongruous with his other traits.  It's probably meant to be humorous and to humanize him.  It makes him less of an invincible superhero and more relatable.\", \"completion\": \"The fear of kittens is likely included for comedic effect and to make DargumagaX more relatable. It contrasts sharply with his other fears and his heroic persona.\"},\n",
        "  {\"prompt\": \"Why does DargumagaX collect Navel plushies and 'Do not Disturb' signs?\", \"think\": \"These are unusual hobbies for a superhero.  Navel plushies are just strange.  'Do not Disturb' signs suggest he values his privacy or perhaps wants to avoid interruptions.  It could also be a sign of a quirky personality.  It's probably another way to humanize him and make him more interesting.\", \"completion\": \"These hobbies are likely meant to add a quirky and humanizing touch to DargumagaX's character. They make him more than just a superhero and suggest a more complex personality.\"}\n",
        "]\n",
        "\n",
        "    # {\n",
        "    #     \"prompt\": \"Question 1: What is the first step in assessing a vintage camera's condition?\",\n",
        "    #     \"completion\": \"Answer 1: Begin by visually inspecting the camera's exterior for rust, cracks, and loose components.\"\n",
        "    # },\n",
        "\n",
        "# Write the niche samples to a JSONL file.\n",
        "with open(\"niche_dataset.jsonl\", \"w\", encoding=\"utf-8\") as f:\n",
        "    for sample in samples:\n",
        "        json_line = json.dumps(sample, ensure_ascii=False)\n",
        "        f.write(json_line + \"\\n\")\n",
        "\n",
        "print(\"niche_dataset.jsonl has been created with 50 vintage camera restoration samples.\")\n"
      ],
      "metadata": {
        "id": "F9S9GC2NtwIs"
      },
      "execution_count": null,
      "outputs": []
    },
    {
      "cell_type": "code",
      "source": [
        "import wandb\n",
        "wandb.init(\n",
        "    project=\"demo-yt-video\",\n",
        "    config={\n",
        "        \"learning_rate\": 5e-5,\n",
        "        \"architecture\": \"DeepSeek-R1-Distill-Qwen-1.5B\",\n",
        "        \"dataset\": \"dataset.jsonl\",\n",
        "        \"epochs\": 2,\n",
        "    }\n",
        ")"
      ],
      "metadata": {
        "id": "z7QafzPesDsB"
      },
      "execution_count": null,
      "outputs": []
    },
    {
      "cell_type": "code",
      "source": [
        "from datasets import load_dataset\n",
        "\n",
        "dataset = load_dataset(\"json\", data_files={\"train\": \"niche_dataset.jsonl\"}, split=\"train\")\n",
        "print({len(dataset)})\n",
        "\n",
        "train_test_split = dataset.train_test_split(test_size=0.2)\n",
        "train_dataset = train_test_split[\"train\"]\n",
        "eval_dataset = train_test_split[\"test\"]"
      ],
      "metadata": {
        "id": "AvxBT0IouLrb"
      },
      "execution_count": null,
      "outputs": []
    },
    {
      "cell_type": "code",
      "source": [
        "def tokenize_function(examples):\n",
        "    combined_texts = [f\"{prompt}\\n{completion}\" for prompt, completion in zip(examples[\"prompt\"], examples[\"completion\"])]\n",
        "    tokenized = tokenizer(combined_texts, truncation=True, max_length=512, padding=\"max_length\")\n",
        "    tokenized[\"labels\"] = tokenized[\"input_ids\"].copy()\n",
        "    return tokenized\n",
        "\n",
        "tokenized_train_dataset = train_dataset.map(tokenize_function, batched=True)\n",
        "tokenized_eval_dataset = eval_dataset.map(tokenize_function, batched=True)"
      ],
      "metadata": {
        "id": "oXNwKAU4ubcW"
      },
      "execution_count": null,
      "outputs": []
    },
    {
      "cell_type": "code",
      "source": [
        "from transformers import BitsAndBytesConfig\n",
        "\n",
        "quantization_config = BitsAndBytesConfig(load_in_8bit=True)\n",
        "model = AutoModelForCausalLM.from_pretrained(model_name, quantization_config=quantization_config, device_map=\"auto\")"
      ],
      "metadata": {
        "id": "DHE7owouujsJ"
      },
      "execution_count": null,
      "outputs": []
    },
    {
      "cell_type": "code",
      "source": [
        "from peft import get_peft_model, LoraConfig, TaskType\n",
        "\n",
        "lora_config = LoraConfig(\n",
        "    r=8, lora_alpha=16, lora_dropout=0.05, task_type=TaskType.CAUSAL_LM\n",
        ")\n",
        "model = get_peft_model(model, lora_config)\n",
        "model.print_trainable_parameters()"
      ],
      "metadata": {
        "id": "id1jtz0Bupbs"
      },
      "execution_count": null,
      "outputs": []
    },
    {
      "cell_type": "code",
      "source": [
        "from transformers import TrainingArguments, Trainer\n",
        "\n",
        "label_names = [\"promp\", \"completion\"]\n",
        "\n",
        "# Replace 'evaluation_strategy' with 'eval_strategy'\n",
        "training_args = TrainingArguments(\n",
        "    output_dir=\"./deepseek_finetuned\",\n",
        "    num_train_epochs=50,\n",
        "    per_device_train_batch_size=2,\n",
        "    gradient_accumulation_steps=16,\n",
        "    fp16=True,\n",
        "    logging_steps=10,\n",
        "    save_steps=100,\n",
        "    eval_strategy=\"steps\", # Changed parameter name here\n",
        "    eval_steps=10,\n",
        "    learning_rate=3e-5,\n",
        "    logging_dir=\"./logs\",\n",
        "    report_to=\"wandb\",\n",
        "    run_name=\"DeepSeek_FineTuning_Experiment\",\n",
        "    label_names=label_names\n",
        ")"
      ],
      "metadata": {
        "id": "fEr5az23uvfm"
      },
      "execution_count": null,
      "outputs": []
    },
    {
      "cell_type": "code",
      "source": [
        "trainer = Trainer(\n",
        "    model=model,\n",
        "    args=training_args,\n",
        "    train_dataset=tokenized_train_dataset,\n",
        "    eval_dataset=tokenized_eval_dataset,\n",
        ")"
      ],
      "metadata": {
        "id": "Qf8J1ZvGu9RF"
      },
      "execution_count": null,
      "outputs": []
    },
    {
      "cell_type": "code",
      "source": [
        "trainer.train()"
      ],
      "metadata": {
        "id": "JDmhFhehvAGe"
      },
      "execution_count": null,
      "outputs": []
    },
    {
      "cell_type": "code",
      "source": [
        "save_path = \"/content/drive/My Drive/deepseek_finetuned\"\n",
        "\n",
        "model.save_pretrained(save_path)\n",
        "tokenizer.save_pretrained(save_path)\n",
        "print({save_path})"
      ],
      "metadata": {
        "colab": {
          "base_uri": "https://localhost:8080/"
        },
        "id": "2q6FCLb5vCOv",
        "outputId": "b7ee437c-e713-4a5b-d8ee-327c9d49224e"
      },
      "execution_count": null,
      "outputs": [
        {
          "output_type": "stream",
          "name": "stdout",
          "text": [
            "{'/content/drive/My Drive/deepseek_finetuned'}\n"
          ]
        }
      ]
    },
    {
      "cell_type": "code",
      "source": [
        "from peft import PeftModel\n",
        "\n",
        "base_model = AutoModelForCausalLM.from_pretrained(model_name)\n",
        "model = PeftModel.from_pretrained(base_model, save_path)\n",
        "model = model.merge_and_unload()\n",
        "\n",
        "final_save_path = \"/content/drive/My Drive/deepseek_finetuned_full\"\n",
        "model.save_pretrained(final_save_path)\n",
        "tokenizer.save_pretrained(final_save_path)\n",
        "print({final_save_path})"
      ],
      "metadata": {
        "id": "gCeKhcRbv51e"
      },
      "execution_count": null,
      "outputs": []
    },
    {
      "cell_type": "markdown",
      "source": [
        "# Load from Gdrive"
      ],
      "metadata": {
        "id": "nGx2hEvkmQp0"
      }
    },
    {
      "cell_type": "code",
      "source": [
        "# testing this first one\n",
        "# import wandb\n",
        "# run = wandb.init()\n",
        "# artifact = run.use_artifact(model_name, type='model')\n",
        "# artifact_dir = artifact.download()\n",
        "\n",
        "\n",
        "# tokenizer = AutoTokenizer.from_pretrained(\"/content/drive/MyDrive/deepseek_finetuned_full/\")\n",
        "# model = AutoModelForCausalLM.from_pretrained(\"/content/drive/MyDrive/deepseek_finetuned/\", device_map=\"auto\", torch_dtype=torch.float16)\n",
        "\n"
      ],
      "metadata": {
        "id": "DqJ1FjgK-W5q"
      },
      "execution_count": null,
      "outputs": []
    },
    {
      "cell_type": "code",
      "source": [
        "from transformers import AutoModelForCausalLM\n",
        "from transformers import AutoTokenizer\n",
        "\n",
        "gdrive_model_path = \"/content/drive/MyDrive/deepseek_finetuned/\"\n",
        "gdrive_tokenizer_path = \"/content/drive/MyDrive/deepseek_finetuned_full/\"\n",
        "\n",
        "\n",
        "\n",
        "\n"
      ],
      "metadata": {
        "id": "3xtm-haNlKfl"
      },
      "execution_count": null,
      "outputs": []
    },
    {
      "cell_type": "code",
      "source": [
        "# gdrive_tokenizer_path = \"/content/drive/MyDrive/deepseek_finetuned_full/generation_config.json\"\n",
        "\n",
        "# \"model = AutoModelForCausalLM.from_pretrained(final_save_path)\\n\",\n",
        "# \"tokenizer = AutoTokenizer.from_pretrained(final_save_path)\"\n",
        "\n",
        "model = AutoModelForCausalLM.from_pretrained(gdrive_model_path)\n",
        "tokenizer = AutoTokenizer.from_pretrained(gdrive_tokenizer_path)"
      ],
      "metadata": {
        "id": "1KXwG8KywANK"
      },
      "execution_count": null,
      "outputs": []
    },
    {
      "cell_type": "markdown",
      "source": [
        "# Start Asking quesstions"
      ],
      "metadata": {
        "id": "VbGOnUgmrsCR"
      }
    },
    {
      "cell_type": "code",
      "source": [
        "from transformers import pipeline"
      ],
      "metadata": {
        "id": "FQa9kDBhwj_E"
      },
      "execution_count": null,
      "outputs": []
    },
    {
      "cell_type": "code",
      "source": [
        "pipe = pipeline(\"text-generation\", model=model, tokenizer=tokenizer)"
      ],
      "metadata": {
        "colab": {
          "base_uri": "https://localhost:8080/"
        },
        "id": "wergIoGxwJR3",
        "outputId": "1dd16217-d904-467c-d857-d23e46271bf5"
      },
      "execution_count": null,
      "outputs": [
        {
          "output_type": "stream",
          "name": "stderr",
          "text": [
            "Device set to use cuda:0\n"
          ]
        }
      ]
    },
    {
      "cell_type": "code",
      "source": [
        "prompt = \"Where is DargumagaX from?\""
      ],
      "metadata": {
        "id": "qaX6ANLlw4vO"
      },
      "execution_count": null,
      "outputs": []
    },
    {
      "cell_type": "code",
      "source": [
        "# Generate text using the pipeline\n",
        "generated_texts = pipe(prompt, max_length=300, num_return_sequences=1)\n",
        "generated_text = generated_texts[0]['generated_text']"
      ],
      "metadata": {
        "id": "kGYTR-j4wgtv",
        "colab": {
          "base_uri": "https://localhost:8080/"
        },
        "outputId": "c4b2bf9c-5911-4a56-b61f-73e4ba4e03d2"
      },
      "execution_count": null,
      "outputs": [
        {
          "output_type": "stream",
          "name": "stderr",
          "text": [
            "Truncation was not explicitly activated but `max_length` is provided a specific value, please use `truncation=True` to explicitly truncate examples to max length. Defaulting to 'longest_first' truncation strategy. If you encode pairs of sequences (GLUE-style) with the tokenizer you can select this strategy more precisely by providing a specific strategy to `truncation`.\n"
          ]
        }
      ]
    },
    {
      "cell_type": "code",
      "source": [
        "generated_text"
      ],
      "metadata": {
        "colab": {
          "base_uri": "https://localhost:8080/",
          "height": 209
        },
        "id": "H1bY52lPw90d",
        "outputId": "7dc73a84-2c06-4f79-cf9c-f0d0d5097baf"
      },
      "execution_count": null,
      "outputs": [
        {
          "output_type": "execute_result",
          "data": {
            "text/plain": [
              "'Where is DargumagaX from? Where is it from? What kind of game is it? What kind of character is it? What kind of game is it from? What kind of game is it from? What kind of game is it from? What kind of game is it from? What kind of game is it from. What kind of game is it from. What kind of game is it from. What kind of game is it from. What kind of game is it from. What kind of game is it from. What kind of game is it from. What kind of game is it from. What kind of game is it from. What kind of game is it from. What kind of game is it from. What kind of game is it from. What kind of game is it from. What kind of game is it from. What kind of game is it from. What kind of game is it from. What kind of game is it from. What kind of game is it from. What kind of game is it from. What kind of game is it from. What kind of game is it from. What kind of game is it from. What kind of game is it from. What kind of game is it from. What kind of game is it from. What kind of game is it from. What kind of game is it from. What kind of game is it from. What kind of game is it from. What kind of game is it from'"
            ],
            "application/vnd.google.colaboratory.intrinsic+json": {
              "type": "string"
            }
          },
          "metadata": {},
          "execution_count": 8
        }
      ]
    },
    {
      "cell_type": "code",
      "source": [],
      "metadata": {
        "id": "awSY-yQrxAUm"
      },
      "execution_count": null,
      "outputs": []
    }
  ]
}