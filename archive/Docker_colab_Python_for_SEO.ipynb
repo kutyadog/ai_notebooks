{
  "nbformat": 4,
  "nbformat_minor": 0,
  "metadata": {
    "colab": {
      "provenance": [],
      "include_colab_link": true
    },
    "kernelspec": {
      "name": "python3",
      "display_name": "Python 3"
    }
  },
  "cells": [
    {
      "cell_type": "markdown",
      "metadata": {
        "id": "view-in-github",
        "colab_type": "text"
      },
      "source": [
        "<a href=\"https://colab.research.google.com/github/kutyadog/ai_notebooks/blob/main/Docker_colab_Python_for_SEO.ipynb\" target=\"_parent\"><img src=\"https://colab.research.google.com/assets/colab-badge.svg\" alt=\"Open In Colab\"/></a>"
      ]
    },
    {
      "metadata": {
        "id": "fIpoojalU9T2"
      },
      "cell_type": "markdown",
      "source": [
        "# **Using Python and TensorFlow for SEO**"
      ]
    },
    {
      "metadata": {
        "id": "wWvOaVoAXKbh"
      },
      "cell_type": "markdown",
      "source": [
        "Search Engine Optimization is a hard game. Google is the big player and the algorithm they use to rank a website for any given search term is a closely guarded secret. SEO optimization is a multi-billion dollar game, there are numerous companies out there providing services to millions of business to give them a competitive advantage in the SERPs to beat their competition and obtain more client.\n",
        "\n",
        "Websites such as [algoroo.com](https://algoroo.com) can track Google SERP changes and indicate whether Google has updated their ranking algorithm with at least some accuracy. There is an enormous amount of data to go through to break down why certain websites have gained or lost rank but with TensorFlow, it's possible to sift through the data and find patterns.\n",
        "\n",
        "We can take this one step further and determine why certain websites have gained or lost rankings for certain terms. Through Machine Learning we can as accurately as possible determine which on-page and off page SEO tactics are working to rank any website for a given term. Also, we can quickly learn and adapt once a new algorithm change hits the SERPs.\n",
        "\n",
        "Recently I stumbled upon an agency specializing in SEO in Sydney called [Pixel Marketing](https://pxm.com.au). They have a very intriguing SEO optimization tool you can view here [https://pxm.com.au/seo-analyzer/](https://pxm.com.au/seo-analyzer/). After running through a couple websites you can see just how enormous the data collected just to analyze one website is.\n",
        "\n",
        "If we scale a tool like this and use it to track the top 100 results in Google for the most searched keywords, store and collect all the on and off page data for each website, then use TensorFlow to find the similarities between the websites which have gained rank and lost rank we can have a competitive advantage to the competition.\n",
        "\n",
        "Let's assume all the data that is stored by a tool like this is in a MySQL database. Firstly let's install a Python and TensorFlow environment on a VPS so that it can quietly churn away finding the patterns from our dataset. We will also use [Docker](https://www.docker.com/why-docker) for portability."
      ]
    },
    {
      "metadata": {
        "id": "6J8LSVAJoSf3"
      },
      "cell_type": "markdown",
      "source": [
        "## Installing Docker, Python 3 and TensorFlow"
      ]
    },
    {
      "metadata": {
        "id": "-fEGGt3jq4Tj"
      },
      "cell_type": "markdown",
      "source": [
        "We will be running a linux machine, you can use any provider but for this tutorial we will be using Digital Ocean. For testing purposes we can just use a simple $5 per month [droplet](https://www.digitalocean.com/pricing/). We will be using the Ubuntu image from the droplet management panel.\n",
        "\n",
        "Once the droplet has spun up with our Ubuntu image we will SSH into it to install the required packages. First we will intall Docker so we can download the pre installed PIP and python container. We are using Ubuntu 18.04 in this example.\n",
        "\n",
        "First lets update all the packages to the latest ones with the following command."
      ]
    },
    {
      "metadata": {
        "id": "RbL5mjMgvkCt"
      },
      "cell_type": "code",
      "source": [
        "$ sudo apt update"
      ],
      "execution_count": null,
      "outputs": []
    },
    {
      "metadata": {
        "id": "6vdmf9C2voTa"
      },
      "cell_type": "markdown",
      "source": [
        "Now we want to install some  prerequisite packages which will let us use HTTPS over apt."
      ]
    },
    {
      "metadata": {
        "id": "e9htmZ-zv-M6"
      },
      "cell_type": "code",
      "source": [
        "$ sudo apt install apt-transport-https ca-certificates curl software-properties-common"
      ],
      "execution_count": null,
      "outputs": []
    },
    {
      "metadata": {
        "id": "_DGGnjQzwAgR"
      },
      "cell_type": "markdown",
      "source": [
        "After that we will add the GPG key for the official Docker repository to the system."
      ]
    },
    {
      "metadata": {
        "id": "eCRpmzItwH09"
      },
      "cell_type": "code",
      "source": [
        "$ curl -fsSL https://download.docker.com/linux/ubuntu/gpg | sudo apt-key add -"
      ],
      "execution_count": null,
      "outputs": []
    },
    {
      "metadata": {
        "id": "JPZm3dlHwKFc"
      },
      "cell_type": "markdown",
      "source": [
        "We will need to add the Docker repository to our APT sources:"
      ]
    },
    {
      "metadata": {
        "id": "9jAq80YPwQ38"
      },
      "cell_type": "code",
      "source": [
        "$ sudo add-apt-repository \"deb [arch=amd64] https://download.docker.com/linux/ubuntu bionic stable\""
      ],
      "execution_count": null,
      "outputs": []
    },
    {
      "metadata": {
        "id": "Vf5oXIURwYMk"
      },
      "cell_type": "markdown",
      "source": [
        "Next lets update the package database with our newly added Docker package repo."
      ]
    },
    {
      "metadata": {
        "id": "jNsJAeLhwew5"
      },
      "cell_type": "code",
      "source": [
        "$ sudo apt update"
      ],
      "execution_count": null,
      "outputs": []
    },
    {
      "metadata": {
        "id": "_BGRycakwhXD"
      },
      "cell_type": "markdown",
      "source": [
        "Finally lets install docker with the below command:"
      ]
    },
    {
      "metadata": {
        "id": "9zp-VmLsws2r"
      },
      "cell_type": "code",
      "source": [
        "$ sudo apt install docker-ce"
      ],
      "execution_count": null,
      "outputs": []
    },
    {
      "metadata": {
        "id": "FmXJptVEwueb"
      },
      "cell_type": "markdown",
      "source": [
        "Now lets check that docker is running."
      ]
    },
    {
      "metadata": {
        "id": "2HXwOXNiw1tO"
      },
      "cell_type": "code",
      "source": [
        "$ sudo systemctl status docker"
      ],
      "execution_count": null,
      "outputs": []
    },
    {
      "metadata": {
        "id": "PaeX7h1rw8K3"
      },
      "cell_type": "markdown",
      "source": [
        "The output from the command should look similar to the one below"
      ]
    },
    {
      "metadata": {
        "id": "DjwRuO50w_-q"
      },
      "cell_type": "code",
      "source": [
        "Output\n",
        "● docker.service - Docker Application Container Engine\n",
        "   Loaded: loaded (/lib/systemd/system/docker.service; enabled; vendor preset: enabled)\n",
        "   Active: active (running) since Tue 2019-01-01 19:22:114 UTC; 1min 25s ago\n",
        "     Docs: https://docs.docker.com\n",
        " Main PID: 10096 (dockerd)\n",
        "    Tasks: 16\n",
        "   CGroup: /system.slice/docker.service\n",
        "           ├─10096 /usr/bin/dockerd -H fd://\n",
        "           └─10113 docker-containerd --config /var/run/docker/containerd/containerd.toml"
      ],
      "execution_count": null,
      "outputs": []
    },
    {
      "metadata": {
        "id": "X22ur1PrxQYN"
      },
      "cell_type": "markdown",
      "source": [
        "Once we have verified everything is installed and running correctly we can simply run the following command to install the TensorFlow Docker image:"
      ]
    },
    {
      "metadata": {
        "id": "8FgZuli4xoF6"
      },
      "cell_type": "code",
      "source": [
        "$ docker run -it -p 8888:8888 gcr.io/tensorflow/tensorflow"
      ],
      "execution_count": null,
      "outputs": []
    },
    {
      "metadata": {
        "id": "8u-O46-uW7_j"
      },
      "cell_type": "markdown",
      "source": [
        "Once installed we can move onto the next step."
      ]
    }
  ]
}